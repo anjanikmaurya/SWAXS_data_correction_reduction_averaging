{
 "cells": [
  {
   "cell_type": "code",
   "execution_count": 20,
   "id": "2abd93c5",
   "metadata": {},
   "outputs": [],
   "source": [
    "import matplotlib.pyplot as plt\n",
    "import numpy as np\n",
    "from correction_integration_demo import full_correction_integration"
   ]
  },
  {
   "cell_type": "code",
   "execution_count": 21,
   "id": "390a8601",
   "metadata": {},
   "outputs": [],
   "source": [
    "# Helper plotting functions\n",
    "def darken_colors(num_colors: int, darker_factor: float = 0.7) -> np.ndarray:\n",
    "    \"\"\"\n",
    "    Darken a set of colors by reducing the value component in the HSV color space.\n",
    "    \"\"\"\n",
    "    colors = plt.cm.jet(np.linspace(0, 1, num_colors))\n",
    "    darker_colors = colors.copy()\n",
    "\n",
    "    for i in range(num_colors):\n",
    "        rgb = darker_colors[i, :3]\n",
    "        hsv = plt.matplotlib.colors.rgb_to_hsv(rgb)\n",
    "        hsv[2] *= darker_factor\n",
    "        darker_colors[i, :3] = plt.matplotlib.colors.hsv_to_rgb(hsv)\n",
    "\n",
    "    return darker_colors\n",
    "\n",
    "def set_plot_style(axs, fonts: int, xlabel: str, ylabel: str):\n",
    "    \"\"\"Set standardized plot style properties.\"\"\"\n",
    "    axs.set_xlabel(xlabel, fontsize=fonts)\n",
    "    axs.set_ylabel(ylabel, fontsize=fonts)\n",
    "    axs.tick_params(axis='both', which='major', direction='out', length=4, width=1)\n",
    "    axs.tick_params(which='minor', width=1, size=2)\n",
    "    axs.set_facecolor('white')\n",
    "    axs.spines['top'].set_linewidth(1)\n",
    "    axs.spines['right'].set_linewidth(1)\n",
    "    axs.spines['bottom'].set_linewidth(1)\n",
    "    axs.spines['left'].set_linewidth(1)\n",
    "    axs.tick_params(axis='x', labelsize=fonts)\n",
    "    axs.tick_params(axis='y', labelsize=fonts)\n",
    "    return axs"
   ]
  },
  {
   "cell_type": "code",
   "execution_count": 22,
   "id": "94e9db55",
   "metadata": {},
   "outputs": [
    {
     "name": "stdout",
     "output_type": "stream",
     "text": [
      "SWAXS Data Correction and 1D Integration Demo\n",
      "==================================================\n",
      "Loaded configuration for compound: C2H4\n",
      "Energy: 12 keV, Density: 0.92 g/cm³\n",
      "\n",
      "Found 401 SAXS files and 395 WAXS files to process\n",
      "\n",
      "Processing SAXS files...\n",
      "Processing SAXS file: /Users/vsomani/Documents/SWAXS_data_reduction_correction_Analysis/larger_test/2D/SAXS/sone_Hor_scan_Run10_RampT20_ctr0_scan1_0000.raw\n",
      "  I0: 62.239, Bstop: 50.844, Trans_factor: 50.844, Trans_ratio: 0.8169, Normalization: 3164.501\n"
     ]
    },
    {
     "name": "stderr",
     "output_type": "stream",
     "text": [
      "WARNING:pyFAI.io:Destination file /Users/vsomani/Documents/SWAXS_data_reduction_correction_Analysis/larger_test/1D/SAXS/Reduction/sone_Hor_scan_Run10_RampT20_ctr0_scan1_0000.dat exists\n",
      "WARNING:pyFAI.io:Destination file /Users/vsomani/Documents/SWAXS_data_reduction_correction_Analysis/larger_test/1D/SAXS/Reduction/sone_Hor_scan_Run11_RampT20_ctr0_scan1_0000.dat exists\n",
      "WARNING:pyFAI.io:Destination file /Users/vsomani/Documents/SWAXS_data_reduction_correction_Analysis/larger_test/1D/SAXS/Reduction/sone_Hor_scan_Run12_RampT20_ctr0_scan1_0000.dat exists\n",
      "WARNING:pyFAI.io:Destination file /Users/vsomani/Documents/SWAXS_data_reduction_correction_Analysis/larger_test/1D/SAXS/Reduction/sone_Hor_scan_Run13_RampT20_ctr0_scan1_0000.dat exists\n",
      "WARNING:pyFAI.io:Destination file /Users/vsomani/Documents/SWAXS_data_reduction_correction_Analysis/larger_test/1D/SAXS/Reduction/sone_Hor_scan_Run14_RampT20_ctr0_scan1_0000.dat exists\n",
      "WARNING:pyFAI.io:Destination file /Users/vsomani/Documents/SWAXS_data_reduction_correction_Analysis/larger_test/1D/SAXS/Reduction/sone_Hor_scan_Run4_RampT20_ctr0_scan1_0000.dat exists\n"
     ]
    },
    {
     "name": "stdout",
     "output_type": "stream",
     "text": [
      "  Saved to: /Users/vsomani/Documents/SWAXS_data_reduction_correction_Analysis/larger_test/1D/SAXS/Reduction/sone_Hor_scan_Run10_RampT20_ctr0_scan1_0000.dat\n",
      "Processing SAXS file: /Users/vsomani/Documents/SWAXS_data_reduction_correction_Analysis/larger_test/2D/SAXS/sone_Hor_scan_Run11_RampT20_ctr0_scan1_0000.raw\n",
      "  I0: 20.819, Bstop: 4.836, Trans_factor: 4.836, Trans_ratio: 0.2323, Normalization: 100.687\n",
      "  Saved to: /Users/vsomani/Documents/SWAXS_data_reduction_correction_Analysis/larger_test/1D/SAXS/Reduction/sone_Hor_scan_Run11_RampT20_ctr0_scan1_0000.dat\n",
      "Processing SAXS file: /Users/vsomani/Documents/SWAXS_data_reduction_correction_Analysis/larger_test/2D/SAXS/sone_Hor_scan_Run12_RampT20_ctr0_scan1_0000.raw\n",
      "  I0: 21.039, Bstop: 5.071, Trans_factor: 5.071, Trans_ratio: 0.2410, Normalization: 106.683\n",
      "  Saved to: /Users/vsomani/Documents/SWAXS_data_reduction_correction_Analysis/larger_test/1D/SAXS/Reduction/sone_Hor_scan_Run12_RampT20_ctr0_scan1_0000.dat\n",
      "Processing SAXS file: /Users/vsomani/Documents/SWAXS_data_reduction_correction_Analysis/larger_test/2D/SAXS/sone_Hor_scan_Run13_RampT20_ctr0_scan1_0000.raw\n",
      "  I0: 20.851, Bstop: 5.844, Trans_factor: 5.844, Trans_ratio: 0.2803, Normalization: 121.855\n",
      "  Saved to: /Users/vsomani/Documents/SWAXS_data_reduction_correction_Analysis/larger_test/1D/SAXS/Reduction/sone_Hor_scan_Run13_RampT20_ctr0_scan1_0000.dat\n",
      "Processing SAXS file: /Users/vsomani/Documents/SWAXS_data_reduction_correction_Analysis/larger_test/2D/SAXS/sone_Hor_scan_Run14_RampT20_ctr0_scan1_0000.raw\n",
      "  I0: 62.436, Bstop: 43.773, Trans_factor: 43.773, Trans_ratio: 0.7011, Normalization: 2733.000\n",
      "  Saved to: /Users/vsomani/Documents/SWAXS_data_reduction_correction_Analysis/larger_test/1D/SAXS/Reduction/sone_Hor_scan_Run14_RampT20_ctr0_scan1_0000.dat\n",
      "Processing SAXS file: /Users/vsomani/Documents/SWAXS_data_reduction_correction_Analysis/larger_test/2D/SAXS/sone_Hor_scan_Run4_RampT20_ctr0_scan1_0000.raw\n",
      "  I0: 1.060, Bstop: 0.023, Trans_factor: 0.023, Trans_ratio: 0.0221, Normalization: 0.025\n",
      "  Saved to: /Users/vsomani/Documents/SWAXS_data_reduction_correction_Analysis/larger_test/1D/SAXS/Reduction/sone_Hor_scan_Run4_RampT20_ctr0_scan1_0000.dat\n",
      "Processing SAXS file: /Users/vsomani/Documents/SWAXS_data_reduction_correction_Analysis/larger_test/2D/SAXS/sone_Hor_scan_Run5_RampT20_ctr0_scan1_0000.raw\n",
      "  I0: 2.133, Bstop: 0.049, Trans_factor: 0.049, Trans_ratio: 0.0228, Normalization: 0.104\n"
     ]
    },
    {
     "name": "stderr",
     "output_type": "stream",
     "text": [
      "WARNING:pyFAI.io:Destination file /Users/vsomani/Documents/SWAXS_data_reduction_correction_Analysis/larger_test/1D/SAXS/Reduction/sone_Hor_scan_Run5_RampT20_ctr0_scan1_0000.dat exists\n",
      "WARNING:pyFAI.io:Destination file /Users/vsomani/Documents/SWAXS_data_reduction_correction_Analysis/larger_test/1D/SAXS/Reduction/sone_Hor_scan_Run6_RampT20_ctr0_scan1_0000.dat exists\n",
      "WARNING:pyFAI.io:Destination file /Users/vsomani/Documents/SWAXS_data_reduction_correction_Analysis/larger_test/1D/SAXS/Reduction/sone_Hor_scan_Run7_RampT20_ctr0_scan1_0000.dat exists\n",
      "WARNING:pyFAI.io:Destination file /Users/vsomani/Documents/SWAXS_data_reduction_correction_Analysis/larger_test/1D/SAXS/Reduction/sone_Hor_scan_Run8_RampT20_ctr0_scan1_0000.dat exists\n",
      "WARNING:pyFAI.io:Destination file /Users/vsomani/Documents/SWAXS_data_reduction_correction_Analysis/larger_test/1D/SAXS/Reduction/sone_Hor_scan_Run9_RampT20_ctr0_scan1_0000.dat exists\n",
      "WARNING:pyFAI.io:Destination file /Users/vsomani/Documents/SWAXS_data_reduction_correction_Analysis/larger_test/1D/SAXS/Reduction/sone_Run10_AcOH_Cooling_T10_ctr0_scan1_0000.dat exists\n"
     ]
    },
    {
     "name": "stdout",
     "output_type": "stream",
     "text": [
      "  Saved to: /Users/vsomani/Documents/SWAXS_data_reduction_correction_Analysis/larger_test/1D/SAXS/Reduction/sone_Hor_scan_Run5_RampT20_ctr0_scan1_0000.dat\n",
      "Processing SAXS file: /Users/vsomani/Documents/SWAXS_data_reduction_correction_Analysis/larger_test/2D/SAXS/sone_Hor_scan_Run6_RampT20_ctr0_scan1_0000.raw\n",
      "  I0: 21.166, Bstop: 2.310, Trans_factor: 2.310, Trans_ratio: 0.1091, Normalization: 48.887\n",
      "  Saved to: /Users/vsomani/Documents/SWAXS_data_reduction_correction_Analysis/larger_test/1D/SAXS/Reduction/sone_Hor_scan_Run6_RampT20_ctr0_scan1_0000.dat\n",
      "Processing SAXS file: /Users/vsomani/Documents/SWAXS_data_reduction_correction_Analysis/larger_test/2D/SAXS/sone_Hor_scan_Run7_RampT20_ctr0_scan1_0000.raw\n",
      "  I0: 1.053, Bstop: 0.025, Trans_factor: 0.025, Trans_ratio: 0.0242, Normalization: 0.027\n",
      "  Saved to: /Users/vsomani/Documents/SWAXS_data_reduction_correction_Analysis/larger_test/1D/SAXS/Reduction/sone_Hor_scan_Run7_RampT20_ctr0_scan1_0000.dat\n",
      "Processing SAXS file: /Users/vsomani/Documents/SWAXS_data_reduction_correction_Analysis/larger_test/2D/SAXS/sone_Hor_scan_Run8_RampT20_ctr0_scan1_0000.raw\n",
      "  I0: 20.504, Bstop: 2.005, Trans_factor: 2.005, Trans_ratio: 0.0978, Normalization: 41.115\n",
      "  Saved to: /Users/vsomani/Documents/SWAXS_data_reduction_correction_Analysis/larger_test/1D/SAXS/Reduction/sone_Hor_scan_Run8_RampT20_ctr0_scan1_0000.dat\n",
      "Processing SAXS file: /Users/vsomani/Documents/SWAXS_data_reduction_correction_Analysis/larger_test/2D/SAXS/sone_Hor_scan_Run9_RampT20_ctr0_scan1_0000.raw\n",
      "  I0: 20.287, Bstop: 2.028, Trans_factor: 2.028, Trans_ratio: 0.1000, Normalization: 41.138\n",
      "  Saved to: /Users/vsomani/Documents/SWAXS_data_reduction_correction_Analysis/larger_test/1D/SAXS/Reduction/sone_Hor_scan_Run9_RampT20_ctr0_scan1_0000.dat\n",
      "Processing SAXS file: /Users/vsomani/Documents/SWAXS_data_reduction_correction_Analysis/larger_test/2D/SAXS/sone_Run10_AcOH_Cooling_T10_ctr0_scan1_0000.raw\n",
      "  I0: 20.902, Bstop: 4.880, Trans_factor: 4.880, Trans_ratio: 0.2335, Normalization: 102.004\n",
      "  Saved to: /Users/vsomani/Documents/SWAXS_data_reduction_correction_Analysis/larger_test/1D/SAXS/Reduction/sone_Run10_AcOH_Cooling_T10_ctr0_scan1_0000.dat\n",
      "Processing SAXS file: /Users/vsomani/Documents/SWAXS_data_reduction_correction_Analysis/larger_test/2D/SAXS/sone_Run10_AcOH_Cooling_T10_ctr0_scan1_0001.raw\n",
      "  I0: 20.894, Bstop: 4.879, Trans_factor: 4.879, Trans_ratio: 0.2335, Normalization: 101.940\n"
     ]
    },
    {
     "name": "stderr",
     "output_type": "stream",
     "text": [
      "WARNING:pyFAI.io:Destination file /Users/vsomani/Documents/SWAXS_data_reduction_correction_Analysis/larger_test/1D/SAXS/Reduction/sone_Run10_AcOH_Cooling_T10_ctr0_scan1_0001.dat exists\n",
      "WARNING:pyFAI.io:Destination file /Users/vsomani/Documents/SWAXS_data_reduction_correction_Analysis/larger_test/1D/SAXS/Reduction/sone_Run10_AcOH_Cooling_T10_ctr0_scan1_0002.dat exists\n",
      "WARNING:pyFAI.io:Destination file /Users/vsomani/Documents/SWAXS_data_reduction_correction_Analysis/larger_test/1D/SAXS/Reduction/sone_Run10_AcOH_Cooling_T10_ctr1_scan1_0000.dat exists\n",
      "WARNING:pyFAI.io:Destination file /Users/vsomani/Documents/SWAXS_data_reduction_correction_Analysis/larger_test/1D/SAXS/Reduction/sone_Run10_AcOH_Cooling_T10_ctr1_scan1_0001.dat exists\n",
      "WARNING:pyFAI.io:Destination file /Users/vsomani/Documents/SWAXS_data_reduction_correction_Analysis/larger_test/1D/SAXS/Reduction/sone_Run10_AcOH_Cooling_T10_ctr1_scan1_0002.dat exists\n"
     ]
    },
    {
     "name": "stdout",
     "output_type": "stream",
     "text": [
      "  Saved to: /Users/vsomani/Documents/SWAXS_data_reduction_correction_Analysis/larger_test/1D/SAXS/Reduction/sone_Run10_AcOH_Cooling_T10_ctr0_scan1_0001.dat\n",
      "Processing SAXS file: /Users/vsomani/Documents/SWAXS_data_reduction_correction_Analysis/larger_test/2D/SAXS/sone_Run10_AcOH_Cooling_T10_ctr0_scan1_0002.raw\n",
      "  I0: 20.902, Bstop: 4.867, Trans_factor: 4.867, Trans_ratio: 0.2328, Normalization: 101.726\n",
      "  Saved to: /Users/vsomani/Documents/SWAXS_data_reduction_correction_Analysis/larger_test/1D/SAXS/Reduction/sone_Run10_AcOH_Cooling_T10_ctr0_scan1_0002.dat\n",
      "Processing SAXS file: /Users/vsomani/Documents/SWAXS_data_reduction_correction_Analysis/larger_test/2D/SAXS/sone_Run10_AcOH_Cooling_T10_ctr1_scan1_0000.raw\n",
      "  I0: 20.858, Bstop: 4.863, Trans_factor: 4.863, Trans_ratio: 0.2331, Normalization: 101.426\n",
      "  Saved to: /Users/vsomani/Documents/SWAXS_data_reduction_correction_Analysis/larger_test/1D/SAXS/Reduction/sone_Run10_AcOH_Cooling_T10_ctr1_scan1_0000.dat\n",
      "Processing SAXS file: /Users/vsomani/Documents/SWAXS_data_reduction_correction_Analysis/larger_test/2D/SAXS/sone_Run10_AcOH_Cooling_T10_ctr1_scan1_0001.raw\n",
      "  I0: 20.869, Bstop: 4.854, Trans_factor: 4.854, Trans_ratio: 0.2326, Normalization: 101.303\n",
      "  Saved to: /Users/vsomani/Documents/SWAXS_data_reduction_correction_Analysis/larger_test/1D/SAXS/Reduction/sone_Run10_AcOH_Cooling_T10_ctr1_scan1_0001.dat\n",
      "Processing SAXS file: /Users/vsomani/Documents/SWAXS_data_reduction_correction_Analysis/larger_test/2D/SAXS/sone_Run10_AcOH_Cooling_T10_ctr1_scan1_0002.raw\n",
      "  I0: 20.818, Bstop: 4.846, Trans_factor: 4.846, Trans_ratio: 0.2328, Normalization: 100.890\n",
      "  Saved to: /Users/vsomani/Documents/SWAXS_data_reduction_correction_Analysis/larger_test/1D/SAXS/Reduction/sone_Run10_AcOH_Cooling_T10_ctr1_scan1_0002.dat\n",
      "Processing SAXS file: /Users/vsomani/Documents/SWAXS_data_reduction_correction_Analysis/larger_test/2D/SAXS/sone_Run10_AcOH_RampT100_ctr32_scan1_0000.raw\n",
      "  I0: 21.106, Bstop: 4.795, Trans_factor: 4.795, Trans_ratio: 0.2272, Normalization: 101.204\n"
     ]
    },
    {
     "name": "stderr",
     "output_type": "stream",
     "text": [
      "WARNING:pyFAI.io:Destination file /Users/vsomani/Documents/SWAXS_data_reduction_correction_Analysis/larger_test/1D/SAXS/Reduction/sone_Run10_AcOH_RampT100_ctr32_scan1_0000.dat exists\n",
      "WARNING:pyFAI.io:Destination file /Users/vsomani/Documents/SWAXS_data_reduction_correction_Analysis/larger_test/1D/SAXS/Reduction/sone_Run10_AcOH_RampT100_ctr32_scan1_0001.dat exists\n",
      "WARNING:pyFAI.io:Destination file /Users/vsomani/Documents/SWAXS_data_reduction_correction_Analysis/larger_test/1D/SAXS/Reduction/sone_Run10_AcOH_RampT100_ctr32_scan1_0002.dat exists\n",
      "WARNING:pyFAI.io:Destination file /Users/vsomani/Documents/SWAXS_data_reduction_correction_Analysis/larger_test/1D/SAXS/Reduction/sone_Run10_AcOH_RampT102_ctr33_scan1_0000.dat exists\n"
     ]
    },
    {
     "name": "stdout",
     "output_type": "stream",
     "text": [
      "  Saved to: /Users/vsomani/Documents/SWAXS_data_reduction_correction_Analysis/larger_test/1D/SAXS/Reduction/sone_Run10_AcOH_RampT100_ctr32_scan1_0000.dat\n",
      "Processing SAXS file: /Users/vsomani/Documents/SWAXS_data_reduction_correction_Analysis/larger_test/2D/SAXS/sone_Run10_AcOH_RampT100_ctr32_scan1_0001.raw\n",
      "  I0: 20.967, Bstop: 4.780, Trans_factor: 4.780, Trans_ratio: 0.2280, Normalization: 100.217\n",
      "  Saved to: /Users/vsomani/Documents/SWAXS_data_reduction_correction_Analysis/larger_test/1D/SAXS/Reduction/sone_Run10_AcOH_RampT100_ctr32_scan1_0001.dat\n",
      "Processing SAXS file: /Users/vsomani/Documents/SWAXS_data_reduction_correction_Analysis/larger_test/2D/SAXS/sone_Run10_AcOH_RampT100_ctr32_scan1_0002.raw\n",
      "  I0: 20.995, Bstop: 4.782, Trans_factor: 4.782, Trans_ratio: 0.2278, Normalization: 100.399\n",
      "  Saved to: /Users/vsomani/Documents/SWAXS_data_reduction_correction_Analysis/larger_test/1D/SAXS/Reduction/sone_Run10_AcOH_RampT100_ctr32_scan1_0002.dat\n",
      "Processing SAXS file: /Users/vsomani/Documents/SWAXS_data_reduction_correction_Analysis/larger_test/2D/SAXS/sone_Run10_AcOH_RampT102_ctr33_scan1_0000.raw\n",
      "  I0: 20.994, Bstop: 4.781, Trans_factor: 4.781, Trans_ratio: 0.2277, Normalization: 100.372\n",
      "  Saved to: /Users/vsomani/Documents/SWAXS_data_reduction_correction_Analysis/larger_test/1D/SAXS/Reduction/sone_Run10_AcOH_RampT102_ctr33_scan1_0000.dat\n",
      "Processing SAXS file: /Users/vsomani/Documents/SWAXS_data_reduction_correction_Analysis/larger_test/2D/SAXS/sone_Run10_AcOH_RampT102_ctr33_scan1_0001.raw\n",
      "  I0: 20.930, Bstop: 4.764, Trans_factor: 4.764, Trans_ratio: 0.2276, Normalization: 99.717\n"
     ]
    },
    {
     "name": "stderr",
     "output_type": "stream",
     "text": [
      "WARNING:pyFAI.io:Destination file /Users/vsomani/Documents/SWAXS_data_reduction_correction_Analysis/larger_test/1D/SAXS/Reduction/sone_Run10_AcOH_RampT102_ctr33_scan1_0001.dat exists\n",
      "WARNING:pyFAI.io:Destination file /Users/vsomani/Documents/SWAXS_data_reduction_correction_Analysis/larger_test/1D/SAXS/Reduction/sone_Run10_AcOH_RampT102_ctr33_scan1_0002.dat exists\n",
      "WARNING:pyFAI.io:Destination file /Users/vsomani/Documents/SWAXS_data_reduction_correction_Analysis/larger_test/1D/SAXS/Reduction/sone_Run10_AcOH_RampT105_ctr34_scan1_0000.dat exists\n",
      "WARNING:pyFAI.io:Destination file /Users/vsomani/Documents/SWAXS_data_reduction_correction_Analysis/larger_test/1D/SAXS/Reduction/sone_Run10_AcOH_RampT105_ctr34_scan1_0001.dat exists\n",
      "WARNING:pyFAI.io:Destination file /Users/vsomani/Documents/SWAXS_data_reduction_correction_Analysis/larger_test/1D/SAXS/Reduction/sone_Run10_AcOH_RampT105_ctr34_scan1_0002.dat exists\n"
     ]
    },
    {
     "name": "stdout",
     "output_type": "stream",
     "text": [
      "  Saved to: /Users/vsomani/Documents/SWAXS_data_reduction_correction_Analysis/larger_test/1D/SAXS/Reduction/sone_Run10_AcOH_RampT102_ctr33_scan1_0001.dat\n",
      "Processing SAXS file: /Users/vsomani/Documents/SWAXS_data_reduction_correction_Analysis/larger_test/2D/SAXS/sone_Run10_AcOH_RampT102_ctr33_scan1_0002.raw\n",
      "  I0: 20.858, Bstop: 4.759, Trans_factor: 4.759, Trans_ratio: 0.2281, Normalization: 99.253\n",
      "  Saved to: /Users/vsomani/Documents/SWAXS_data_reduction_correction_Analysis/larger_test/1D/SAXS/Reduction/sone_Run10_AcOH_RampT102_ctr33_scan1_0002.dat\n",
      "Processing SAXS file: /Users/vsomani/Documents/SWAXS_data_reduction_correction_Analysis/larger_test/2D/SAXS/sone_Run10_AcOH_RampT105_ctr34_scan1_0000.raw\n",
      "  I0: 20.914, Bstop: 4.762, Trans_factor: 4.762, Trans_ratio: 0.2277, Normalization: 99.592\n",
      "  Saved to: /Users/vsomani/Documents/SWAXS_data_reduction_correction_Analysis/larger_test/1D/SAXS/Reduction/sone_Run10_AcOH_RampT105_ctr34_scan1_0000.dat\n",
      "Processing SAXS file: /Users/vsomani/Documents/SWAXS_data_reduction_correction_Analysis/larger_test/2D/SAXS/sone_Run10_AcOH_RampT105_ctr34_scan1_0001.raw\n",
      "  I0: 20.861, Bstop: 4.756, Trans_factor: 4.756, Trans_ratio: 0.2280, Normalization: 99.221\n",
      "  Saved to: /Users/vsomani/Documents/SWAXS_data_reduction_correction_Analysis/larger_test/1D/SAXS/Reduction/sone_Run10_AcOH_RampT105_ctr34_scan1_0001.dat\n",
      "Processing SAXS file: /Users/vsomani/Documents/SWAXS_data_reduction_correction_Analysis/larger_test/2D/SAXS/sone_Run10_AcOH_RampT105_ctr34_scan1_0002.raw\n",
      "  I0: 20.953, Bstop: 4.783, Trans_factor: 4.783, Trans_ratio: 0.2283, Normalization: 100.215\n",
      "  Saved to: /Users/vsomani/Documents/SWAXS_data_reduction_correction_Analysis/larger_test/1D/SAXS/Reduction/sone_Run10_AcOH_RampT105_ctr34_scan1_0002.dat\n",
      "Processing SAXS file: /Users/vsomani/Documents/SWAXS_data_reduction_correction_Analysis/larger_test/2D/SAXS/sone_Run10_AcOH_RampT107_ctr35_scan1_0000.raw\n",
      "  I0: 21.058, Bstop: 4.804, Trans_factor: 4.804, Trans_ratio: 0.2281, Normalization: 101.158\n"
     ]
    },
    {
     "name": "stderr",
     "output_type": "stream",
     "text": [
      "WARNING:pyFAI.io:Destination file /Users/vsomani/Documents/SWAXS_data_reduction_correction_Analysis/larger_test/1D/SAXS/Reduction/sone_Run10_AcOH_RampT107_ctr35_scan1_0000.dat exists\n",
      "WARNING:pyFAI.io:Destination file /Users/vsomani/Documents/SWAXS_data_reduction_correction_Analysis/larger_test/1D/SAXS/Reduction/sone_Run10_AcOH_RampT107_ctr35_scan1_0001.dat exists\n",
      "WARNING:pyFAI.io:Destination file /Users/vsomani/Documents/SWAXS_data_reduction_correction_Analysis/larger_test/1D/SAXS/Reduction/sone_Run10_AcOH_RampT107_ctr35_scan1_0002.dat exists\n",
      "WARNING:pyFAI.io:Destination file /Users/vsomani/Documents/SWAXS_data_reduction_correction_Analysis/larger_test/1D/SAXS/Reduction/sone_Run10_AcOH_RampT110_ctr36_scan1_0000.dat exists\n",
      "WARNING:pyFAI.io:Destination file /Users/vsomani/Documents/SWAXS_data_reduction_correction_Analysis/larger_test/1D/SAXS/Reduction/sone_Run10_AcOH_RampT110_ctr36_scan1_0001.dat exists\n"
     ]
    },
    {
     "name": "stdout",
     "output_type": "stream",
     "text": [
      "  Saved to: /Users/vsomani/Documents/SWAXS_data_reduction_correction_Analysis/larger_test/1D/SAXS/Reduction/sone_Run10_AcOH_RampT107_ctr35_scan1_0000.dat\n",
      "Processing SAXS file: /Users/vsomani/Documents/SWAXS_data_reduction_correction_Analysis/larger_test/2D/SAXS/sone_Run10_AcOH_RampT107_ctr35_scan1_0001.raw\n",
      "  I0: 21.004, Bstop: 4.808, Trans_factor: 4.808, Trans_ratio: 0.2289, Normalization: 100.984\n",
      "  Saved to: /Users/vsomani/Documents/SWAXS_data_reduction_correction_Analysis/larger_test/1D/SAXS/Reduction/sone_Run10_AcOH_RampT107_ctr35_scan1_0001.dat\n",
      "Processing SAXS file: /Users/vsomani/Documents/SWAXS_data_reduction_correction_Analysis/larger_test/2D/SAXS/sone_Run10_AcOH_RampT107_ctr35_scan1_0002.raw\n",
      "  I0: 21.025, Bstop: 4.801, Trans_factor: 4.801, Trans_ratio: 0.2284, Normalization: 100.948\n",
      "  Saved to: /Users/vsomani/Documents/SWAXS_data_reduction_correction_Analysis/larger_test/1D/SAXS/Reduction/sone_Run10_AcOH_RampT107_ctr35_scan1_0002.dat\n",
      "Processing SAXS file: /Users/vsomani/Documents/SWAXS_data_reduction_correction_Analysis/larger_test/2D/SAXS/sone_Run10_AcOH_RampT110_ctr36_scan1_0000.raw\n",
      "  I0: 21.007, Bstop: 4.793, Trans_factor: 4.793, Trans_ratio: 0.2281, Normalization: 100.677\n",
      "  Saved to: /Users/vsomani/Documents/SWAXS_data_reduction_correction_Analysis/larger_test/1D/SAXS/Reduction/sone_Run10_AcOH_RampT110_ctr36_scan1_0000.dat\n",
      "Processing SAXS file: /Users/vsomani/Documents/SWAXS_data_reduction_correction_Analysis/larger_test/2D/SAXS/sone_Run10_AcOH_RampT110_ctr36_scan1_0001.raw\n",
      "  I0: 20.946, Bstop: 4.789, Trans_factor: 4.789, Trans_ratio: 0.2286, Normalization: 100.312\n",
      "  Saved to: /Users/vsomani/Documents/SWAXS_data_reduction_correction_Analysis/larger_test/1D/SAXS/Reduction/sone_Run10_AcOH_RampT110_ctr36_scan1_0001.dat\n",
      "Processing SAXS file: /Users/vsomani/Documents/SWAXS_data_reduction_correction_Analysis/larger_test/2D/SAXS/sone_Run10_AcOH_RampT110_ctr36_scan1_0002.raw\n",
      "  I0: 20.854, Bstop: 4.785, Trans_factor: 4.785, Trans_ratio: 0.2295, Normalization: 99.788\n"
     ]
    },
    {
     "name": "stderr",
     "output_type": "stream",
     "text": [
      "WARNING:pyFAI.io:Destination file /Users/vsomani/Documents/SWAXS_data_reduction_correction_Analysis/larger_test/1D/SAXS/Reduction/sone_Run10_AcOH_RampT110_ctr36_scan1_0002.dat exists\n",
      "WARNING:pyFAI.io:Destination file /Users/vsomani/Documents/SWAXS_data_reduction_correction_Analysis/larger_test/1D/SAXS/Reduction/sone_Run10_AcOH_RampT112_ctr37_scan1_0000.dat exists\n",
      "WARNING:pyFAI.io:Destination file /Users/vsomani/Documents/SWAXS_data_reduction_correction_Analysis/larger_test/1D/SAXS/Reduction/sone_Run10_AcOH_RampT112_ctr37_scan1_0001.dat exists\n",
      "WARNING:pyFAI.io:Destination file /Users/vsomani/Documents/SWAXS_data_reduction_correction_Analysis/larger_test/1D/SAXS/Reduction/sone_Run10_AcOH_RampT112_ctr37_scan1_0002.dat exists\n",
      "WARNING:pyFAI.io:Destination file /Users/vsomani/Documents/SWAXS_data_reduction_correction_Analysis/larger_test/1D/SAXS/Reduction/sone_Run10_AcOH_RampT115_ctr38_scan1_0000.dat exists\n"
     ]
    },
    {
     "name": "stdout",
     "output_type": "stream",
     "text": [
      "  Saved to: /Users/vsomani/Documents/SWAXS_data_reduction_correction_Analysis/larger_test/1D/SAXS/Reduction/sone_Run10_AcOH_RampT110_ctr36_scan1_0002.dat\n",
      "Processing SAXS file: /Users/vsomani/Documents/SWAXS_data_reduction_correction_Analysis/larger_test/2D/SAXS/sone_Run10_AcOH_RampT112_ctr37_scan1_0000.raw\n",
      "  I0: 20.901, Bstop: 4.784, Trans_factor: 4.784, Trans_ratio: 0.2289, Normalization: 99.989\n",
      "  Saved to: /Users/vsomani/Documents/SWAXS_data_reduction_correction_Analysis/larger_test/1D/SAXS/Reduction/sone_Run10_AcOH_RampT112_ctr37_scan1_0000.dat\n",
      "Processing SAXS file: /Users/vsomani/Documents/SWAXS_data_reduction_correction_Analysis/larger_test/2D/SAXS/sone_Run10_AcOH_RampT112_ctr37_scan1_0001.raw\n",
      "  I0: 20.800, Bstop: 4.770, Trans_factor: 4.770, Trans_ratio: 0.2293, Normalization: 99.211\n",
      "  Saved to: /Users/vsomani/Documents/SWAXS_data_reduction_correction_Analysis/larger_test/1D/SAXS/Reduction/sone_Run10_AcOH_RampT112_ctr37_scan1_0001.dat\n",
      "Processing SAXS file: /Users/vsomani/Documents/SWAXS_data_reduction_correction_Analysis/larger_test/2D/SAXS/sone_Run10_AcOH_RampT112_ctr37_scan1_0002.raw\n",
      "  I0: 20.804, Bstop: 4.763, Trans_factor: 4.763, Trans_ratio: 0.2289, Normalization: 99.082\n",
      "  Saved to: /Users/vsomani/Documents/SWAXS_data_reduction_correction_Analysis/larger_test/1D/SAXS/Reduction/sone_Run10_AcOH_RampT112_ctr37_scan1_0002.dat\n",
      "Processing SAXS file: /Users/vsomani/Documents/SWAXS_data_reduction_correction_Analysis/larger_test/2D/SAXS/sone_Run10_AcOH_RampT115_ctr38_scan1_0000.raw\n",
      "  I0: 20.845, Bstop: 4.772, Trans_factor: 4.772, Trans_ratio: 0.2289, Normalization: 99.466\n",
      "  Saved to: /Users/vsomani/Documents/SWAXS_data_reduction_correction_Analysis/larger_test/1D/SAXS/Reduction/sone_Run10_AcOH_RampT115_ctr38_scan1_0000.dat\n",
      "Processing SAXS file: /Users/vsomani/Documents/SWAXS_data_reduction_correction_Analysis/larger_test/2D/SAXS/sone_Run10_AcOH_RampT115_ctr38_scan1_0001.raw\n",
      "  I0: 21.061, Bstop: 4.821, Trans_factor: 4.821, Trans_ratio: 0.2289, Normalization: 101.543\n"
     ]
    },
    {
     "name": "stderr",
     "output_type": "stream",
     "text": [
      "WARNING:pyFAI.io:Destination file /Users/vsomani/Documents/SWAXS_data_reduction_correction_Analysis/larger_test/1D/SAXS/Reduction/sone_Run10_AcOH_RampT115_ctr38_scan1_0001.dat exists\n",
      "WARNING:pyFAI.io:Destination file /Users/vsomani/Documents/SWAXS_data_reduction_correction_Analysis/larger_test/1D/SAXS/Reduction/sone_Run10_AcOH_RampT115_ctr38_scan1_0002.dat exists\n",
      "WARNING:pyFAI.io:Destination file /Users/vsomani/Documents/SWAXS_data_reduction_correction_Analysis/larger_test/1D/SAXS/Reduction/sone_Run10_AcOH_RampT117_ctr39_scan1_0000.dat exists\n",
      "WARNING:pyFAI.io:Destination file /Users/vsomani/Documents/SWAXS_data_reduction_correction_Analysis/larger_test/1D/SAXS/Reduction/sone_Run10_AcOH_RampT117_ctr39_scan1_0001.dat exists\n",
      "WARNING:pyFAI.io:Destination file /Users/vsomani/Documents/SWAXS_data_reduction_correction_Analysis/larger_test/1D/SAXS/Reduction/sone_Run10_AcOH_RampT117_ctr39_scan1_0002.dat exists\n"
     ]
    },
    {
     "name": "stdout",
     "output_type": "stream",
     "text": [
      "  Saved to: /Users/vsomani/Documents/SWAXS_data_reduction_correction_Analysis/larger_test/1D/SAXS/Reduction/sone_Run10_AcOH_RampT115_ctr38_scan1_0001.dat\n",
      "Processing SAXS file: /Users/vsomani/Documents/SWAXS_data_reduction_correction_Analysis/larger_test/2D/SAXS/sone_Run10_AcOH_RampT115_ctr38_scan1_0002.raw\n",
      "  I0: 21.057, Bstop: 4.818, Trans_factor: 4.818, Trans_ratio: 0.2288, Normalization: 101.446\n",
      "  Saved to: /Users/vsomani/Documents/SWAXS_data_reduction_correction_Analysis/larger_test/1D/SAXS/Reduction/sone_Run10_AcOH_RampT115_ctr38_scan1_0002.dat\n",
      "Processing SAXS file: /Users/vsomani/Documents/SWAXS_data_reduction_correction_Analysis/larger_test/2D/SAXS/sone_Run10_AcOH_RampT117_ctr39_scan1_0000.raw\n",
      "  I0: 21.039, Bstop: 4.812, Trans_factor: 4.812, Trans_ratio: 0.2287, Normalization: 101.243\n",
      "  Saved to: /Users/vsomani/Documents/SWAXS_data_reduction_correction_Analysis/larger_test/1D/SAXS/Reduction/sone_Run10_AcOH_RampT117_ctr39_scan1_0000.dat\n",
      "Processing SAXS file: /Users/vsomani/Documents/SWAXS_data_reduction_correction_Analysis/larger_test/2D/SAXS/sone_Run10_AcOH_RampT117_ctr39_scan1_0001.raw\n",
      "  I0: 20.991, Bstop: 4.800, Trans_factor: 4.800, Trans_ratio: 0.2287, Normalization: 100.764\n",
      "  Saved to: /Users/vsomani/Documents/SWAXS_data_reduction_correction_Analysis/larger_test/1D/SAXS/Reduction/sone_Run10_AcOH_RampT117_ctr39_scan1_0001.dat\n",
      "Processing SAXS file: /Users/vsomani/Documents/SWAXS_data_reduction_correction_Analysis/larger_test/2D/SAXS/sone_Run10_AcOH_RampT117_ctr39_scan1_0002.raw\n",
      "  I0: 20.961, Bstop: 4.798, Trans_factor: 4.798, Trans_ratio: 0.2289, Normalization: 100.576\n",
      "  Saved to: /Users/vsomani/Documents/SWAXS_data_reduction_correction_Analysis/larger_test/1D/SAXS/Reduction/sone_Run10_AcOH_RampT117_ctr39_scan1_0002.dat\n",
      "Processing SAXS file: /Users/vsomani/Documents/SWAXS_data_reduction_correction_Analysis/larger_test/2D/SAXS/sone_Run10_AcOH_RampT120_ctr40_scan1_0000.raw\n",
      "  I0: 20.954, Bstop: 4.795, Trans_factor: 4.795, Trans_ratio: 0.2288, Normalization: 100.466\n"
     ]
    },
    {
     "name": "stderr",
     "output_type": "stream",
     "text": [
      "WARNING:pyFAI.io:Destination file /Users/vsomani/Documents/SWAXS_data_reduction_correction_Analysis/larger_test/1D/SAXS/Reduction/sone_Run10_AcOH_RampT120_ctr40_scan1_0000.dat exists\n",
      "WARNING:pyFAI.io:Destination file /Users/vsomani/Documents/SWAXS_data_reduction_correction_Analysis/larger_test/1D/SAXS/Reduction/sone_Run10_AcOH_RampT120_ctr40_scan1_0001.dat exists\n",
      "WARNING:pyFAI.io:Destination file /Users/vsomani/Documents/SWAXS_data_reduction_correction_Analysis/larger_test/1D/SAXS/Reduction/sone_Run10_AcOH_RampT120_ctr40_scan1_0002.dat exists\n",
      "WARNING:pyFAI.io:Destination file /Users/vsomani/Documents/SWAXS_data_reduction_correction_Analysis/larger_test/1D/SAXS/Reduction/sone_Run10_AcOH_RampT122_ctr41_scan1_0000.dat exists\n",
      "WARNING:pyFAI.io:Destination file /Users/vsomani/Documents/SWAXS_data_reduction_correction_Analysis/larger_test/1D/SAXS/Reduction/sone_Run10_AcOH_RampT122_ctr41_scan1_0001.dat exists\n"
     ]
    },
    {
     "name": "stdout",
     "output_type": "stream",
     "text": [
      "  Saved to: /Users/vsomani/Documents/SWAXS_data_reduction_correction_Analysis/larger_test/1D/SAXS/Reduction/sone_Run10_AcOH_RampT120_ctr40_scan1_0000.dat\n",
      "Processing SAXS file: /Users/vsomani/Documents/SWAXS_data_reduction_correction_Analysis/larger_test/2D/SAXS/sone_Run10_AcOH_RampT120_ctr40_scan1_0001.raw\n",
      "  I0: 20.848, Bstop: 4.786, Trans_factor: 4.786, Trans_ratio: 0.2296, Normalization: 99.774\n",
      "  Saved to: /Users/vsomani/Documents/SWAXS_data_reduction_correction_Analysis/larger_test/1D/SAXS/Reduction/sone_Run10_AcOH_RampT120_ctr40_scan1_0001.dat\n",
      "Processing SAXS file: /Users/vsomani/Documents/SWAXS_data_reduction_correction_Analysis/larger_test/2D/SAXS/sone_Run10_AcOH_RampT120_ctr40_scan1_0002.raw\n",
      "  I0: 20.836, Bstop: 4.782, Trans_factor: 4.782, Trans_ratio: 0.2295, Normalization: 99.636\n",
      "  Saved to: /Users/vsomani/Documents/SWAXS_data_reduction_correction_Analysis/larger_test/1D/SAXS/Reduction/sone_Run10_AcOH_RampT120_ctr40_scan1_0002.dat\n",
      "Processing SAXS file: /Users/vsomani/Documents/SWAXS_data_reduction_correction_Analysis/larger_test/2D/SAXS/sone_Run10_AcOH_RampT122_ctr41_scan1_0000.raw\n",
      "  I0: 20.793, Bstop: 4.778, Trans_factor: 4.778, Trans_ratio: 0.2298, Normalization: 99.354\n",
      "  Saved to: /Users/vsomani/Documents/SWAXS_data_reduction_correction_Analysis/larger_test/1D/SAXS/Reduction/sone_Run10_AcOH_RampT122_ctr41_scan1_0000.dat\n",
      "Processing SAXS file: /Users/vsomani/Documents/SWAXS_data_reduction_correction_Analysis/larger_test/2D/SAXS/sone_Run10_AcOH_RampT122_ctr41_scan1_0001.raw\n",
      "  I0: 21.065, Bstop: 4.833, Trans_factor: 4.833, Trans_ratio: 0.2294, Normalization: 101.807\n",
      "  Saved to: /Users/vsomani/Documents/SWAXS_data_reduction_correction_Analysis/larger_test/1D/SAXS/Reduction/sone_Run10_AcOH_RampT122_ctr41_scan1_0001.dat\n",
      "Processing SAXS file: /Users/vsomani/Documents/SWAXS_data_reduction_correction_Analysis/larger_test/2D/SAXS/sone_Run10_AcOH_RampT122_ctr41_scan1_0002.raw\n",
      "  I0: 21.036, Bstop: 4.828, Trans_factor: 4.828, Trans_ratio: 0.2295, Normalization: 101.567\n"
     ]
    },
    {
     "name": "stderr",
     "output_type": "stream",
     "text": [
      "WARNING:pyFAI.io:Destination file /Users/vsomani/Documents/SWAXS_data_reduction_correction_Analysis/larger_test/1D/SAXS/Reduction/sone_Run10_AcOH_RampT122_ctr41_scan1_0002.dat exists\n",
      "WARNING:pyFAI.io:Destination file /Users/vsomani/Documents/SWAXS_data_reduction_correction_Analysis/larger_test/1D/SAXS/Reduction/sone_Run10_AcOH_RampT125_ctr42_scan1_0000.dat exists\n",
      "WARNING:pyFAI.io:Destination file /Users/vsomani/Documents/SWAXS_data_reduction_correction_Analysis/larger_test/1D/SAXS/Reduction/sone_Run10_AcOH_RampT125_ctr42_scan1_0001.dat exists\n",
      "WARNING:pyFAI.io:Destination file /Users/vsomani/Documents/SWAXS_data_reduction_correction_Analysis/larger_test/1D/SAXS/Reduction/sone_Run10_AcOH_RampT125_ctr42_scan1_0002.dat exists\n"
     ]
    },
    {
     "name": "stdout",
     "output_type": "stream",
     "text": [
      "  Saved to: /Users/vsomani/Documents/SWAXS_data_reduction_correction_Analysis/larger_test/1D/SAXS/Reduction/sone_Run10_AcOH_RampT122_ctr41_scan1_0002.dat\n",
      "Processing SAXS file: /Users/vsomani/Documents/SWAXS_data_reduction_correction_Analysis/larger_test/2D/SAXS/sone_Run10_AcOH_RampT125_ctr42_scan1_0000.raw\n",
      "  I0: 21.048, Bstop: 4.823, Trans_factor: 4.823, Trans_ratio: 0.2291, Normalization: 101.509\n",
      "  Saved to: /Users/vsomani/Documents/SWAXS_data_reduction_correction_Analysis/larger_test/1D/SAXS/Reduction/sone_Run10_AcOH_RampT125_ctr42_scan1_0000.dat\n",
      "Processing SAXS file: /Users/vsomani/Documents/SWAXS_data_reduction_correction_Analysis/larger_test/2D/SAXS/sone_Run10_AcOH_RampT125_ctr42_scan1_0001.raw\n",
      "  I0: 20.955, Bstop: 4.813, Trans_factor: 4.813, Trans_ratio: 0.2297, Normalization: 100.853\n",
      "  Saved to: /Users/vsomani/Documents/SWAXS_data_reduction_correction_Analysis/larger_test/1D/SAXS/Reduction/sone_Run10_AcOH_RampT125_ctr42_scan1_0001.dat\n",
      "Processing SAXS file: /Users/vsomani/Documents/SWAXS_data_reduction_correction_Analysis/larger_test/2D/SAXS/sone_Run10_AcOH_RampT125_ctr42_scan1_0002.raw\n",
      "  I0: 20.916, Bstop: 4.812, Trans_factor: 4.812, Trans_ratio: 0.2301, Normalization: 100.654\n",
      "  Saved to: /Users/vsomani/Documents/SWAXS_data_reduction_correction_Analysis/larger_test/1D/SAXS/Reduction/sone_Run10_AcOH_RampT125_ctr42_scan1_0002.dat\n",
      "Processing SAXS file: /Users/vsomani/Documents/SWAXS_data_reduction_correction_Analysis/larger_test/2D/SAXS/sone_Run10_AcOH_RampT127_ctr43_scan1_0000.raw\n"
     ]
    },
    {
     "name": "stderr",
     "output_type": "stream",
     "text": [
      "WARNING:pyFAI.io:Destination file /Users/vsomani/Documents/SWAXS_data_reduction_correction_Analysis/larger_test/1D/SAXS/Reduction/sone_Run10_AcOH_RampT127_ctr43_scan1_0000.dat exists\n",
      "WARNING:pyFAI.io:Destination file /Users/vsomani/Documents/SWAXS_data_reduction_correction_Analysis/larger_test/1D/SAXS/Reduction/sone_Run10_AcOH_RampT127_ctr43_scan1_0001.dat exists\n",
      "WARNING:pyFAI.io:Destination file /Users/vsomani/Documents/SWAXS_data_reduction_correction_Analysis/larger_test/1D/SAXS/Reduction/sone_Run10_AcOH_RampT127_ctr43_scan1_0002.dat exists\n",
      "WARNING:pyFAI.io:Destination file /Users/vsomani/Documents/SWAXS_data_reduction_correction_Analysis/larger_test/1D/SAXS/Reduction/sone_Run10_AcOH_RampT130_ctr44_scan1_0000.dat exists\n",
      "WARNING:pyFAI.io:Destination file /Users/vsomani/Documents/SWAXS_data_reduction_correction_Analysis/larger_test/1D/SAXS/Reduction/sone_Run10_AcOH_RampT130_ctr44_scan1_0001.dat exists\n"
     ]
    },
    {
     "name": "stdout",
     "output_type": "stream",
     "text": [
      "  I0: 20.951, Bstop: 4.806, Trans_factor: 4.806, Trans_ratio: 0.2294, Normalization: 100.682\n",
      "  Saved to: /Users/vsomani/Documents/SWAXS_data_reduction_correction_Analysis/larger_test/1D/SAXS/Reduction/sone_Run10_AcOH_RampT127_ctr43_scan1_0000.dat\n",
      "Processing SAXS file: /Users/vsomani/Documents/SWAXS_data_reduction_correction_Analysis/larger_test/2D/SAXS/sone_Run10_AcOH_RampT127_ctr43_scan1_0001.raw\n",
      "  I0: 20.824, Bstop: 4.803, Trans_factor: 4.803, Trans_ratio: 0.2307, Normalization: 100.018\n",
      "  Saved to: /Users/vsomani/Documents/SWAXS_data_reduction_correction_Analysis/larger_test/1D/SAXS/Reduction/sone_Run10_AcOH_RampT127_ctr43_scan1_0001.dat\n",
      "Processing SAXS file: /Users/vsomani/Documents/SWAXS_data_reduction_correction_Analysis/larger_test/2D/SAXS/sone_Run10_AcOH_RampT127_ctr43_scan1_0002.raw\n",
      "  I0: 20.873, Bstop: 4.799, Trans_factor: 4.799, Trans_ratio: 0.2299, Normalization: 100.179\n",
      "  Saved to: /Users/vsomani/Documents/SWAXS_data_reduction_correction_Analysis/larger_test/1D/SAXS/Reduction/sone_Run10_AcOH_RampT127_ctr43_scan1_0002.dat\n",
      "Processing SAXS file: /Users/vsomani/Documents/SWAXS_data_reduction_correction_Analysis/larger_test/2D/SAXS/sone_Run10_AcOH_RampT130_ctr44_scan1_0000.raw\n",
      "  I0: 20.825, Bstop: 4.796, Trans_factor: 4.796, Trans_ratio: 0.2303, Normalization: 99.872\n",
      "  Saved to: /Users/vsomani/Documents/SWAXS_data_reduction_correction_Analysis/larger_test/1D/SAXS/Reduction/sone_Run10_AcOH_RampT130_ctr44_scan1_0000.dat\n",
      "Processing SAXS file: /Users/vsomani/Documents/SWAXS_data_reduction_correction_Analysis/larger_test/2D/SAXS/sone_Run10_AcOH_RampT130_ctr44_scan1_0001.raw\n",
      "  I0: 21.088, Bstop: 4.854, Trans_factor: 4.854, Trans_ratio: 0.2302, Normalization: 102.350\n",
      "  Saved to: /Users/vsomani/Documents/SWAXS_data_reduction_correction_Analysis/larger_test/1D/SAXS/Reduction/sone_Run10_AcOH_RampT130_ctr44_scan1_0001.dat\n",
      "Processing SAXS file: /Users/vsomani/Documents/SWAXS_data_reduction_correction_Analysis/larger_test/2D/SAXS/sone_Run10_AcOH_RampT130_ctr44_scan1_0002.raw\n",
      "  I0: 21.060, Bstop: 4.849, Trans_factor: 4.849, Trans_ratio: 0.2303, Normalization: 102.128\n"
     ]
    },
    {
     "name": "stderr",
     "output_type": "stream",
     "text": [
      "WARNING:pyFAI.io:Destination file /Users/vsomani/Documents/SWAXS_data_reduction_correction_Analysis/larger_test/1D/SAXS/Reduction/sone_Run10_AcOH_RampT130_ctr44_scan1_0002.dat exists\n",
      "WARNING:pyFAI.io:Destination file /Users/vsomani/Documents/SWAXS_data_reduction_correction_Analysis/larger_test/1D/SAXS/Reduction/sone_Run10_AcOH_RampT132_ctr45_scan1_0000.dat exists\n",
      "WARNING:pyFAI.io:Destination file /Users/vsomani/Documents/SWAXS_data_reduction_correction_Analysis/larger_test/1D/SAXS/Reduction/sone_Run10_AcOH_RampT132_ctr45_scan1_0001.dat exists\n",
      "WARNING:pyFAI.io:Destination file /Users/vsomani/Documents/SWAXS_data_reduction_correction_Analysis/larger_test/1D/SAXS/Reduction/sone_Run10_AcOH_RampT132_ctr45_scan1_0002.dat exists\n",
      "WARNING:pyFAI.io:Destination file /Users/vsomani/Documents/SWAXS_data_reduction_correction_Analysis/larger_test/1D/SAXS/Reduction/sone_Run10_AcOH_RampT135_ctr46_scan1_0000.dat exists\n"
     ]
    },
    {
     "name": "stdout",
     "output_type": "stream",
     "text": [
      "  Saved to: /Users/vsomani/Documents/SWAXS_data_reduction_correction_Analysis/larger_test/1D/SAXS/Reduction/sone_Run10_AcOH_RampT130_ctr44_scan1_0002.dat\n",
      "Processing SAXS file: /Users/vsomani/Documents/SWAXS_data_reduction_correction_Analysis/larger_test/2D/SAXS/sone_Run10_AcOH_RampT132_ctr45_scan1_0000.raw\n",
      "  I0: 21.073, Bstop: 4.841, Trans_factor: 4.841, Trans_ratio: 0.2297, Normalization: 102.025\n",
      "  Saved to: /Users/vsomani/Documents/SWAXS_data_reduction_correction_Analysis/larger_test/1D/SAXS/Reduction/sone_Run10_AcOH_RampT132_ctr45_scan1_0000.dat\n",
      "Processing SAXS file: /Users/vsomani/Documents/SWAXS_data_reduction_correction_Analysis/larger_test/2D/SAXS/sone_Run10_AcOH_RampT132_ctr45_scan1_0001.raw\n",
      "  I0: 20.986, Bstop: 4.831, Trans_factor: 4.831, Trans_ratio: 0.2302, Normalization: 101.384\n",
      "  Saved to: /Users/vsomani/Documents/SWAXS_data_reduction_correction_Analysis/larger_test/1D/SAXS/Reduction/sone_Run10_AcOH_RampT132_ctr45_scan1_0001.dat\n",
      "Processing SAXS file: /Users/vsomani/Documents/SWAXS_data_reduction_correction_Analysis/larger_test/2D/SAXS/sone_Run10_AcOH_RampT132_ctr45_scan1_0002.raw\n",
      "  I0: 20.973, Bstop: 4.820, Trans_factor: 4.820, Trans_ratio: 0.2298, Normalization: 101.097\n",
      "  Saved to: /Users/vsomani/Documents/SWAXS_data_reduction_correction_Analysis/larger_test/1D/SAXS/Reduction/sone_Run10_AcOH_RampT132_ctr45_scan1_0002.dat\n",
      "Processing SAXS file: /Users/vsomani/Documents/SWAXS_data_reduction_correction_Analysis/larger_test/2D/SAXS/sone_Run10_AcOH_RampT135_ctr46_scan1_0000.raw\n",
      "  I0: 20.919, Bstop: 4.830, Trans_factor: 4.830, Trans_ratio: 0.2309, Normalization: 101.048\n",
      "  Saved to: /Users/vsomani/Documents/SWAXS_data_reduction_correction_Analysis/larger_test/1D/SAXS/Reduction/sone_Run10_AcOH_RampT135_ctr46_scan1_0000.dat\n",
      "Processing SAXS file: /Users/vsomani/Documents/SWAXS_data_reduction_correction_Analysis/larger_test/2D/SAXS/sone_Run10_AcOH_RampT135_ctr46_scan1_0001.raw\n",
      "  I0: 20.820, Bstop: 4.819, Trans_factor: 4.819, Trans_ratio: 0.2315, Normalization: 100.340\n"
     ]
    },
    {
     "name": "stderr",
     "output_type": "stream",
     "text": [
      "WARNING:pyFAI.io:Destination file /Users/vsomani/Documents/SWAXS_data_reduction_correction_Analysis/larger_test/1D/SAXS/Reduction/sone_Run10_AcOH_RampT135_ctr46_scan1_0001.dat exists\n",
      "WARNING:pyFAI.io:Destination file /Users/vsomani/Documents/SWAXS_data_reduction_correction_Analysis/larger_test/1D/SAXS/Reduction/sone_Run10_AcOH_RampT135_ctr46_scan1_0002.dat exists\n",
      "WARNING:pyFAI.io:Destination file /Users/vsomani/Documents/SWAXS_data_reduction_correction_Analysis/larger_test/1D/SAXS/Reduction/sone_Run10_AcOH_RampT137_ctr47_scan1_0000.dat exists\n",
      "WARNING:pyFAI.io:Destination file /Users/vsomani/Documents/SWAXS_data_reduction_correction_Analysis/larger_test/1D/SAXS/Reduction/sone_Run10_AcOH_RampT137_ctr47_scan1_0001.dat exists\n"
     ]
    },
    {
     "name": "stdout",
     "output_type": "stream",
     "text": [
      "  Saved to: /Users/vsomani/Documents/SWAXS_data_reduction_correction_Analysis/larger_test/1D/SAXS/Reduction/sone_Run10_AcOH_RampT135_ctr46_scan1_0001.dat\n",
      "Processing SAXS file: /Users/vsomani/Documents/SWAXS_data_reduction_correction_Analysis/larger_test/2D/SAXS/sone_Run10_AcOH_RampT135_ctr46_scan1_0002.raw\n",
      "  I0: 20.854, Bstop: 4.819, Trans_factor: 4.819, Trans_ratio: 0.2311, Normalization: 100.488\n",
      "  Saved to: /Users/vsomani/Documents/SWAXS_data_reduction_correction_Analysis/larger_test/1D/SAXS/Reduction/sone_Run10_AcOH_RampT135_ctr46_scan1_0002.dat\n",
      "Processing SAXS file: /Users/vsomani/Documents/SWAXS_data_reduction_correction_Analysis/larger_test/2D/SAXS/sone_Run10_AcOH_RampT137_ctr47_scan1_0000.raw\n",
      "  I0: 20.869, Bstop: 4.807, Trans_factor: 4.807, Trans_ratio: 0.2303, Normalization: 100.317\n",
      "  Saved to: /Users/vsomani/Documents/SWAXS_data_reduction_correction_Analysis/larger_test/1D/SAXS/Reduction/sone_Run10_AcOH_RampT137_ctr47_scan1_0000.dat\n",
      "Processing SAXS file: /Users/vsomani/Documents/SWAXS_data_reduction_correction_Analysis/larger_test/2D/SAXS/sone_Run10_AcOH_RampT137_ctr47_scan1_0001.raw\n",
      "  I0: 21.108, Bstop: 4.864, Trans_factor: 4.864, Trans_ratio: 0.2304, Normalization: 102.669\n",
      "  Saved to: /Users/vsomani/Documents/SWAXS_data_reduction_correction_Analysis/larger_test/1D/SAXS/Reduction/sone_Run10_AcOH_RampT137_ctr47_scan1_0001.dat\n",
      "Processing SAXS file: /Users/vsomani/Documents/SWAXS_data_reduction_correction_Analysis/larger_test/2D/SAXS/sone_Run10_AcOH_RampT137_ctr47_scan1_0002.raw\n",
      "  I0: 21.075, Bstop: 4.861, Trans_factor: 4.861, Trans_ratio: 0.2307, Normalization: 102.444\n"
     ]
    },
    {
     "name": "stderr",
     "output_type": "stream",
     "text": [
      "WARNING:pyFAI.io:Destination file /Users/vsomani/Documents/SWAXS_data_reduction_correction_Analysis/larger_test/1D/SAXS/Reduction/sone_Run10_AcOH_RampT137_ctr47_scan1_0002.dat exists\n",
      "WARNING:pyFAI.io:Destination file /Users/vsomani/Documents/SWAXS_data_reduction_correction_Analysis/larger_test/1D/SAXS/Reduction/sone_Run10_AcOH_RampT140_ctr48_scan1_0000.dat exists\n",
      "WARNING:pyFAI.io:Destination file /Users/vsomani/Documents/SWAXS_data_reduction_correction_Analysis/larger_test/1D/SAXS/Reduction/sone_Run10_AcOH_RampT140_ctr48_scan1_0001.dat exists\n",
      "WARNING:pyFAI.io:Destination file /Users/vsomani/Documents/SWAXS_data_reduction_correction_Analysis/larger_test/1D/SAXS/Reduction/sone_Run10_AcOH_RampT140_ctr48_scan1_0002.dat exists\n"
     ]
    },
    {
     "name": "stdout",
     "output_type": "stream",
     "text": [
      "  Saved to: /Users/vsomani/Documents/SWAXS_data_reduction_correction_Analysis/larger_test/1D/SAXS/Reduction/sone_Run10_AcOH_RampT137_ctr47_scan1_0002.dat\n",
      "Processing SAXS file: /Users/vsomani/Documents/SWAXS_data_reduction_correction_Analysis/larger_test/2D/SAXS/sone_Run10_AcOH_RampT140_ctr48_scan1_0000.raw\n",
      "  I0: 21.088, Bstop: 4.860, Trans_factor: 4.860, Trans_ratio: 0.2304, Normalization: 102.479\n",
      "  Saved to: /Users/vsomani/Documents/SWAXS_data_reduction_correction_Analysis/larger_test/1D/SAXS/Reduction/sone_Run10_AcOH_RampT140_ctr48_scan1_0000.dat\n",
      "Processing SAXS file: /Users/vsomani/Documents/SWAXS_data_reduction_correction_Analysis/larger_test/2D/SAXS/sone_Run10_AcOH_RampT140_ctr48_scan1_0001.raw\n",
      "  I0: 20.966, Bstop: 4.847, Trans_factor: 4.847, Trans_ratio: 0.2312, Normalization: 101.618\n",
      "  Saved to: /Users/vsomani/Documents/SWAXS_data_reduction_correction_Analysis/larger_test/1D/SAXS/Reduction/sone_Run10_AcOH_RampT140_ctr48_scan1_0001.dat\n",
      "Processing SAXS file: /Users/vsomani/Documents/SWAXS_data_reduction_correction_Analysis/larger_test/2D/SAXS/sone_Run10_AcOH_RampT140_ctr48_scan1_0002.raw\n",
      "  I0: 21.006, Bstop: 4.841, Trans_factor: 4.841, Trans_ratio: 0.2305, Normalization: 101.690\n",
      "  Saved to: /Users/vsomani/Documents/SWAXS_data_reduction_correction_Analysis/larger_test/1D/SAXS/Reduction/sone_Run10_AcOH_RampT140_ctr48_scan1_0002.dat\n",
      "Processing SAXS file: /Users/vsomani/Documents/SWAXS_data_reduction_correction_Analysis/larger_test/2D/SAXS/sone_Run10_AcOH_RampT142_ctr49_scan1_0000.raw\n",
      "  I0: 20.980, Bstop: 4.836, Trans_factor: 4.836, Trans_ratio: 0.2305, Normalization: 101.460\n"
     ]
    },
    {
     "name": "stderr",
     "output_type": "stream",
     "text": [
      "WARNING:pyFAI.io:Destination file /Users/vsomani/Documents/SWAXS_data_reduction_correction_Analysis/larger_test/1D/SAXS/Reduction/sone_Run10_AcOH_RampT142_ctr49_scan1_0000.dat exists\n",
      "WARNING:pyFAI.io:Destination file /Users/vsomani/Documents/SWAXS_data_reduction_correction_Analysis/larger_test/1D/SAXS/Reduction/sone_Run10_AcOH_RampT142_ctr49_scan1_0001.dat exists\n",
      "WARNING:pyFAI.io:Destination file /Users/vsomani/Documents/SWAXS_data_reduction_correction_Analysis/larger_test/1D/SAXS/Reduction/sone_Run10_AcOH_RampT142_ctr49_scan1_0002.dat exists\n"
     ]
    },
    {
     "name": "stdout",
     "output_type": "stream",
     "text": [
      "  Saved to: /Users/vsomani/Documents/SWAXS_data_reduction_correction_Analysis/larger_test/1D/SAXS/Reduction/sone_Run10_AcOH_RampT142_ctr49_scan1_0000.dat\n",
      "Processing SAXS file: /Users/vsomani/Documents/SWAXS_data_reduction_correction_Analysis/larger_test/2D/SAXS/sone_Run10_AcOH_RampT142_ctr49_scan1_0001.raw\n",
      "  I0: 20.846, Bstop: 4.826, Trans_factor: 4.826, Trans_ratio: 0.2315, Normalization: 100.608\n",
      "  Saved to: /Users/vsomani/Documents/SWAXS_data_reduction_correction_Analysis/larger_test/1D/SAXS/Reduction/sone_Run10_AcOH_RampT142_ctr49_scan1_0001.dat\n",
      "Processing SAXS file: /Users/vsomani/Documents/SWAXS_data_reduction_correction_Analysis/larger_test/2D/SAXS/sone_Run10_AcOH_RampT142_ctr49_scan1_0002.raw\n",
      "  I0: 20.903, Bstop: 4.828, Trans_factor: 4.828, Trans_ratio: 0.2310, Normalization: 100.909\n",
      "  Saved to: /Users/vsomani/Documents/SWAXS_data_reduction_correction_Analysis/larger_test/1D/SAXS/Reduction/sone_Run10_AcOH_RampT142_ctr49_scan1_0002.dat\n",
      "Processing SAXS file: /Users/vsomani/Documents/SWAXS_data_reduction_correction_Analysis/larger_test/2D/SAXS/sone_Run10_AcOH_RampT145_ctr50_scan1_0000.raw\n",
      "  I0: 20.855, Bstop: 4.823, Trans_factor: 4.823, Trans_ratio: 0.2313, Normalization: 100.583\n"
     ]
    },
    {
     "name": "stderr",
     "output_type": "stream",
     "text": [
      "WARNING:pyFAI.io:Destination file /Users/vsomani/Documents/SWAXS_data_reduction_correction_Analysis/larger_test/1D/SAXS/Reduction/sone_Run10_AcOH_RampT145_ctr50_scan1_0000.dat exists\n",
      "WARNING:pyFAI.io:Destination file /Users/vsomani/Documents/SWAXS_data_reduction_correction_Analysis/larger_test/1D/SAXS/Reduction/sone_Run10_AcOH_RampT145_ctr50_scan1_0001.dat exists\n",
      "WARNING:pyFAI.io:Destination file /Users/vsomani/Documents/SWAXS_data_reduction_correction_Analysis/larger_test/1D/SAXS/Reduction/sone_Run10_AcOH_RampT145_ctr50_scan1_0002.dat exists\n",
      "WARNING:pyFAI.io:Destination file /Users/vsomani/Documents/SWAXS_data_reduction_correction_Analysis/larger_test/1D/SAXS/Reduction/sone_Run10_AcOH_RampT147_ctr51_scan1_0000.dat exists\n",
      "WARNING:pyFAI.io:Destination file /Users/vsomani/Documents/SWAXS_data_reduction_correction_Analysis/larger_test/1D/SAXS/Reduction/sone_Run10_AcOH_RampT147_ctr51_scan1_0001.dat exists\n"
     ]
    },
    {
     "name": "stdout",
     "output_type": "stream",
     "text": [
      "  Saved to: /Users/vsomani/Documents/SWAXS_data_reduction_correction_Analysis/larger_test/1D/SAXS/Reduction/sone_Run10_AcOH_RampT145_ctr50_scan1_0000.dat\n",
      "Processing SAXS file: /Users/vsomani/Documents/SWAXS_data_reduction_correction_Analysis/larger_test/2D/SAXS/sone_Run10_AcOH_RampT145_ctr50_scan1_0001.raw\n",
      "  I0: 21.093, Bstop: 4.890, Trans_factor: 4.890, Trans_ratio: 0.2318, Normalization: 103.144\n",
      "  Saved to: /Users/vsomani/Documents/SWAXS_data_reduction_correction_Analysis/larger_test/1D/SAXS/Reduction/sone_Run10_AcOH_RampT145_ctr50_scan1_0001.dat\n",
      "Processing SAXS file: /Users/vsomani/Documents/SWAXS_data_reduction_correction_Analysis/larger_test/2D/SAXS/sone_Run10_AcOH_RampT145_ctr50_scan1_0002.raw\n",
      "  I0: 21.080, Bstop: 4.881, Trans_factor: 4.881, Trans_ratio: 0.2316, Normalization: 102.897\n",
      "  Saved to: /Users/vsomani/Documents/SWAXS_data_reduction_correction_Analysis/larger_test/1D/SAXS/Reduction/sone_Run10_AcOH_RampT145_ctr50_scan1_0002.dat\n",
      "Processing SAXS file: /Users/vsomani/Documents/SWAXS_data_reduction_correction_Analysis/larger_test/2D/SAXS/sone_Run10_AcOH_RampT147_ctr51_scan1_0000.raw\n",
      "  I0: 21.051, Bstop: 4.864, Trans_factor: 4.864, Trans_ratio: 0.2311, Normalization: 102.403\n",
      "  Saved to: /Users/vsomani/Documents/SWAXS_data_reduction_correction_Analysis/larger_test/1D/SAXS/Reduction/sone_Run10_AcOH_RampT147_ctr51_scan1_0000.dat\n",
      "Processing SAXS file: /Users/vsomani/Documents/SWAXS_data_reduction_correction_Analysis/larger_test/2D/SAXS/sone_Run10_AcOH_RampT147_ctr51_scan1_0001.raw\n",
      "  I0: 21.000, Bstop: 4.860, Trans_factor: 4.860, Trans_ratio: 0.2314, Normalization: 102.060\n",
      "  Saved to: /Users/vsomani/Documents/SWAXS_data_reduction_correction_Analysis/larger_test/1D/SAXS/Reduction/sone_Run10_AcOH_RampT147_ctr51_scan1_0001.dat\n",
      "Processing SAXS file: /Users/vsomani/Documents/SWAXS_data_reduction_correction_Analysis/larger_test/2D/SAXS/sone_Run10_AcOH_RampT147_ctr51_scan1_0002.raw\n",
      "  I0: 20.963, Bstop: 4.858, Trans_factor: 4.858, Trans_ratio: 0.2318, Normalization: 101.848\n"
     ]
    },
    {
     "name": "stderr",
     "output_type": "stream",
     "text": [
      "WARNING:pyFAI.io:Destination file /Users/vsomani/Documents/SWAXS_data_reduction_correction_Analysis/larger_test/1D/SAXS/Reduction/sone_Run10_AcOH_RampT147_ctr51_scan1_0002.dat exists\n",
      "WARNING:pyFAI.io:Destination file /Users/vsomani/Documents/SWAXS_data_reduction_correction_Analysis/larger_test/1D/SAXS/Reduction/sone_Run10_AcOH_RampT150_ctr52_scan1_0000.dat exists\n",
      "WARNING:pyFAI.io:Destination file /Users/vsomani/Documents/SWAXS_data_reduction_correction_Analysis/larger_test/1D/SAXS/Reduction/sone_Run10_AcOH_RampT150_ctr52_scan1_0001.dat exists\n",
      "WARNING:pyFAI.io:Destination file /Users/vsomani/Documents/SWAXS_data_reduction_correction_Analysis/larger_test/1D/SAXS/Reduction/sone_Run10_AcOH_RampT150_ctr52_scan1_0002.dat exists\n",
      "WARNING:pyFAI.io:Destination file /Users/vsomani/Documents/SWAXS_data_reduction_correction_Analysis/larger_test/1D/SAXS/Reduction/sone_Run10_AcOH_RampT152_ctr53_scan1_0000.dat exists\n"
     ]
    },
    {
     "name": "stdout",
     "output_type": "stream",
     "text": [
      "  Saved to: /Users/vsomani/Documents/SWAXS_data_reduction_correction_Analysis/larger_test/1D/SAXS/Reduction/sone_Run10_AcOH_RampT147_ctr51_scan1_0002.dat\n",
      "Processing SAXS file: /Users/vsomani/Documents/SWAXS_data_reduction_correction_Analysis/larger_test/2D/SAXS/sone_Run10_AcOH_RampT150_ctr52_scan1_0000.raw\n",
      "  I0: 20.963, Bstop: 4.858, Trans_factor: 4.858, Trans_ratio: 0.2318, Normalization: 101.845\n",
      "  Saved to: /Users/vsomani/Documents/SWAXS_data_reduction_correction_Analysis/larger_test/1D/SAXS/Reduction/sone_Run10_AcOH_RampT150_ctr52_scan1_0000.dat\n",
      "Processing SAXS file: /Users/vsomani/Documents/SWAXS_data_reduction_correction_Analysis/larger_test/2D/SAXS/sone_Run10_AcOH_RampT150_ctr52_scan1_0001.raw\n",
      "  I0: 20.872, Bstop: 4.841, Trans_factor: 4.841, Trans_ratio: 0.2319, Normalization: 101.034\n",
      "  Saved to: /Users/vsomani/Documents/SWAXS_data_reduction_correction_Analysis/larger_test/1D/SAXS/Reduction/sone_Run10_AcOH_RampT150_ctr52_scan1_0001.dat\n",
      "Processing SAXS file: /Users/vsomani/Documents/SWAXS_data_reduction_correction_Analysis/larger_test/2D/SAXS/sone_Run10_AcOH_RampT150_ctr52_scan1_0002.raw\n",
      "  I0: 20.859, Bstop: 4.844, Trans_factor: 4.844, Trans_ratio: 0.2322, Normalization: 101.038\n",
      "  Saved to: /Users/vsomani/Documents/SWAXS_data_reduction_correction_Analysis/larger_test/1D/SAXS/Reduction/sone_Run10_AcOH_RampT150_ctr52_scan1_0002.dat\n",
      "Processing SAXS file: /Users/vsomani/Documents/SWAXS_data_reduction_correction_Analysis/larger_test/2D/SAXS/sone_Run10_AcOH_RampT152_ctr53_scan1_0000.raw\n",
      "  I0: 20.807, Bstop: 4.834, Trans_factor: 4.834, Trans_ratio: 0.2323, Normalization: 100.575\n",
      "  Saved to: /Users/vsomani/Documents/SWAXS_data_reduction_correction_Analysis/larger_test/1D/SAXS/Reduction/sone_Run10_AcOH_RampT152_ctr53_scan1_0000.dat\n",
      "Processing SAXS file: /Users/vsomani/Documents/SWAXS_data_reduction_correction_Analysis/larger_test/2D/SAXS/sone_Run10_AcOH_RampT152_ctr53_scan1_0001.raw\n",
      "  I0: 21.028, Bstop: 4.889, Trans_factor: 4.889, Trans_ratio: 0.2325, Normalization: 102.806\n"
     ]
    },
    {
     "name": "stderr",
     "output_type": "stream",
     "text": [
      "WARNING:pyFAI.io:Destination file /Users/vsomani/Documents/SWAXS_data_reduction_correction_Analysis/larger_test/1D/SAXS/Reduction/sone_Run10_AcOH_RampT152_ctr53_scan1_0001.dat exists\n",
      "WARNING:pyFAI.io:Destination file /Users/vsomani/Documents/SWAXS_data_reduction_correction_Analysis/larger_test/1D/SAXS/Reduction/sone_Run10_AcOH_RampT152_ctr53_scan1_0002.dat exists\n",
      "WARNING:pyFAI.io:Destination file /Users/vsomani/Documents/SWAXS_data_reduction_correction_Analysis/larger_test/1D/SAXS/Reduction/sone_Run10_AcOH_RampT155_ctr54_scan1_0000.dat exists\n",
      "WARNING:pyFAI.io:Destination file /Users/vsomani/Documents/SWAXS_data_reduction_correction_Analysis/larger_test/1D/SAXS/Reduction/sone_Run10_AcOH_RampT155_ctr54_scan1_0001.dat exists\n",
      "WARNING:pyFAI.io:Destination file /Users/vsomani/Documents/SWAXS_data_reduction_correction_Analysis/larger_test/1D/SAXS/Reduction/sone_Run10_AcOH_RampT155_ctr54_scan1_0002.dat exists\n"
     ]
    },
    {
     "name": "stdout",
     "output_type": "stream",
     "text": [
      "  Saved to: /Users/vsomani/Documents/SWAXS_data_reduction_correction_Analysis/larger_test/1D/SAXS/Reduction/sone_Run10_AcOH_RampT152_ctr53_scan1_0001.dat\n",
      "Processing SAXS file: /Users/vsomani/Documents/SWAXS_data_reduction_correction_Analysis/larger_test/2D/SAXS/sone_Run10_AcOH_RampT152_ctr53_scan1_0002.raw\n",
      "  I0: 21.024, Bstop: 4.883, Trans_factor: 4.883, Trans_ratio: 0.2322, Normalization: 102.651\n",
      "  Saved to: /Users/vsomani/Documents/SWAXS_data_reduction_correction_Analysis/larger_test/1D/SAXS/Reduction/sone_Run10_AcOH_RampT152_ctr53_scan1_0002.dat\n",
      "Processing SAXS file: /Users/vsomani/Documents/SWAXS_data_reduction_correction_Analysis/larger_test/2D/SAXS/sone_Run10_AcOH_RampT155_ctr54_scan1_0000.raw\n",
      "  I0: 21.010, Bstop: 4.876, Trans_factor: 4.876, Trans_ratio: 0.2321, Normalization: 102.440\n",
      "  Saved to: /Users/vsomani/Documents/SWAXS_data_reduction_correction_Analysis/larger_test/1D/SAXS/Reduction/sone_Run10_AcOH_RampT155_ctr54_scan1_0000.dat\n",
      "Processing SAXS file: /Users/vsomani/Documents/SWAXS_data_reduction_correction_Analysis/larger_test/2D/SAXS/sone_Run10_AcOH_RampT155_ctr54_scan1_0001.raw\n",
      "  I0: 20.915, Bstop: 4.865, Trans_factor: 4.865, Trans_ratio: 0.2326, Normalization: 101.750\n",
      "  Saved to: /Users/vsomani/Documents/SWAXS_data_reduction_correction_Analysis/larger_test/1D/SAXS/Reduction/sone_Run10_AcOH_RampT155_ctr54_scan1_0001.dat\n",
      "Processing SAXS file: /Users/vsomani/Documents/SWAXS_data_reduction_correction_Analysis/larger_test/2D/SAXS/sone_Run10_AcOH_RampT155_ctr54_scan1_0002.raw\n",
      "  I0: 20.934, Bstop: 4.861, Trans_factor: 4.861, Trans_ratio: 0.2322, Normalization: 101.753\n"
     ]
    },
    {
     "name": "stderr",
     "output_type": "stream",
     "text": [
      "WARNING:pyFAI.io:Destination file /Users/vsomani/Documents/SWAXS_data_reduction_correction_Analysis/larger_test/1D/SAXS/Reduction/sone_Run10_AcOH_RampT157_ctr55_scan1_0000.dat exists\n",
      "WARNING:pyFAI.io:Destination file /Users/vsomani/Documents/SWAXS_data_reduction_correction_Analysis/larger_test/1D/SAXS/Reduction/sone_Run10_AcOH_RampT157_ctr55_scan1_0001.dat exists\n",
      "WARNING:pyFAI.io:Destination file /Users/vsomani/Documents/SWAXS_data_reduction_correction_Analysis/larger_test/1D/SAXS/Reduction/sone_Run10_AcOH_RampT157_ctr55_scan1_0002.dat exists\n",
      "WARNING:pyFAI.io:Destination file /Users/vsomani/Documents/SWAXS_data_reduction_correction_Analysis/larger_test/1D/SAXS/Reduction/sone_Run10_AcOH_RampT160_ctr56_scan1_0000.dat exists\n"
     ]
    },
    {
     "name": "stdout",
     "output_type": "stream",
     "text": [
      "  Saved to: /Users/vsomani/Documents/SWAXS_data_reduction_correction_Analysis/larger_test/1D/SAXS/Reduction/sone_Run10_AcOH_RampT155_ctr54_scan1_0002.dat\n",
      "Processing SAXS file: /Users/vsomani/Documents/SWAXS_data_reduction_correction_Analysis/larger_test/2D/SAXS/sone_Run10_AcOH_RampT157_ctr55_scan1_0000.raw\n",
      "  I0: 20.916, Bstop: 4.860, Trans_factor: 4.860, Trans_ratio: 0.2324, Normalization: 101.659\n",
      "  Saved to: /Users/vsomani/Documents/SWAXS_data_reduction_correction_Analysis/larger_test/1D/SAXS/Reduction/sone_Run10_AcOH_RampT157_ctr55_scan1_0000.dat\n",
      "Processing SAXS file: /Users/vsomani/Documents/SWAXS_data_reduction_correction_Analysis/larger_test/2D/SAXS/sone_Run10_AcOH_RampT157_ctr55_scan1_0001.raw\n",
      "  I0: 20.770, Bstop: 4.845, Trans_factor: 4.845, Trans_ratio: 0.2333, Normalization: 100.636\n",
      "  Saved to: /Users/vsomani/Documents/SWAXS_data_reduction_correction_Analysis/larger_test/1D/SAXS/Reduction/sone_Run10_AcOH_RampT157_ctr55_scan1_0001.dat\n",
      "Processing SAXS file: /Users/vsomani/Documents/SWAXS_data_reduction_correction_Analysis/larger_test/2D/SAXS/sone_Run10_AcOH_RampT157_ctr55_scan1_0002.raw\n",
      "  I0: 20.780, Bstop: 4.846, Trans_factor: 4.846, Trans_ratio: 0.2332, Normalization: 100.706\n",
      "  Saved to: /Users/vsomani/Documents/SWAXS_data_reduction_correction_Analysis/larger_test/1D/SAXS/Reduction/sone_Run10_AcOH_RampT157_ctr55_scan1_0002.dat\n",
      "Processing SAXS file: /Users/vsomani/Documents/SWAXS_data_reduction_correction_Analysis/larger_test/2D/SAXS/sone_Run10_AcOH_RampT160_ctr56_scan1_0000.raw\n",
      "  I0: 20.819, Bstop: 4.845, Trans_factor: 4.845, Trans_ratio: 0.2327, Normalization: 100.876\n",
      "  Saved to: /Users/vsomani/Documents/SWAXS_data_reduction_correction_Analysis/larger_test/1D/SAXS/Reduction/sone_Run10_AcOH_RampT160_ctr56_scan1_0000.dat\n",
      "Processing SAXS file: /Users/vsomani/Documents/SWAXS_data_reduction_correction_Analysis/larger_test/2D/SAXS/sone_Run10_AcOH_RampT160_ctr56_scan1_0001.raw\n",
      "  I0: 20.973, Bstop: 4.884, Trans_factor: 4.884, Trans_ratio: 0.2328, Normalization: 102.423\n"
     ]
    },
    {
     "name": "stderr",
     "output_type": "stream",
     "text": [
      "WARNING:pyFAI.io:Destination file /Users/vsomani/Documents/SWAXS_data_reduction_correction_Analysis/larger_test/1D/SAXS/Reduction/sone_Run10_AcOH_RampT160_ctr56_scan1_0001.dat exists\n",
      "WARNING:pyFAI.io:Destination file /Users/vsomani/Documents/SWAXS_data_reduction_correction_Analysis/larger_test/1D/SAXS/Reduction/sone_Run10_AcOH_RampT160_ctr56_scan1_0002.dat exists\n",
      "WARNING:pyFAI.io:Destination file /Users/vsomani/Documents/SWAXS_data_reduction_correction_Analysis/larger_test/1D/SAXS/Reduction/sone_Run10_AcOH_RampT20_ctr0_scan1_0000.dat exists\n",
      "WARNING:pyFAI.io:Destination file /Users/vsomani/Documents/SWAXS_data_reduction_correction_Analysis/larger_test/1D/SAXS/Reduction/sone_Run10_AcOH_RampT20_ctr0_scan1_0001.dat exists\n",
      "WARNING:pyFAI.io:Destination file /Users/vsomani/Documents/SWAXS_data_reduction_correction_Analysis/larger_test/1D/SAXS/Reduction/sone_Run10_AcOH_RampT20_ctr0_scan1_0002.dat exists\n"
     ]
    },
    {
     "name": "stdout",
     "output_type": "stream",
     "text": [
      "  Saved to: /Users/vsomani/Documents/SWAXS_data_reduction_correction_Analysis/larger_test/1D/SAXS/Reduction/sone_Run10_AcOH_RampT160_ctr56_scan1_0001.dat\n",
      "Processing SAXS file: /Users/vsomani/Documents/SWAXS_data_reduction_correction_Analysis/larger_test/2D/SAXS/sone_Run10_AcOH_RampT160_ctr56_scan1_0002.raw\n",
      "  I0: 20.917, Bstop: 4.881, Trans_factor: 4.881, Trans_ratio: 0.2334, Normalization: 102.101\n",
      "  Saved to: /Users/vsomani/Documents/SWAXS_data_reduction_correction_Analysis/larger_test/1D/SAXS/Reduction/sone_Run10_AcOH_RampT160_ctr56_scan1_0002.dat\n",
      "Processing SAXS file: /Users/vsomani/Documents/SWAXS_data_reduction_correction_Analysis/larger_test/2D/SAXS/sone_Run10_AcOH_RampT20_ctr0_scan1_0000.raw\n",
      "  I0: 0.416, Bstop: 0.093, Trans_factor: 0.093, Trans_ratio: 0.2226, Normalization: 0.038\n",
      "  Saved to: /Users/vsomani/Documents/SWAXS_data_reduction_correction_Analysis/larger_test/1D/SAXS/Reduction/sone_Run10_AcOH_RampT20_ctr0_scan1_0000.dat\n",
      "Processing SAXS file: /Users/vsomani/Documents/SWAXS_data_reduction_correction_Analysis/larger_test/2D/SAXS/sone_Run10_AcOH_RampT20_ctr0_scan1_0001.raw\n",
      "  I0: 20.835, Bstop: 4.631, Trans_factor: 4.631, Trans_ratio: 0.2223, Normalization: 96.481\n",
      "  Saved to: /Users/vsomani/Documents/SWAXS_data_reduction_correction_Analysis/larger_test/1D/SAXS/Reduction/sone_Run10_AcOH_RampT20_ctr0_scan1_0001.dat\n",
      "Processing SAXS file: /Users/vsomani/Documents/SWAXS_data_reduction_correction_Analysis/larger_test/2D/SAXS/sone_Run10_AcOH_RampT20_ctr0_scan1_0002.raw\n",
      "  I0: 20.849, Bstop: 4.626, Trans_factor: 4.626, Trans_ratio: 0.2219, Normalization: 96.455\n",
      "  Saved to: /Users/vsomani/Documents/SWAXS_data_reduction_correction_Analysis/larger_test/1D/SAXS/Reduction/sone_Run10_AcOH_RampT20_ctr0_scan1_0002.dat\n",
      "Processing SAXS file: /Users/vsomani/Documents/SWAXS_data_reduction_correction_Analysis/larger_test/2D/SAXS/sone_Run10_AcOH_RampT22_ctr1_scan1_0000.raw\n",
      "  I0: 20.852, Bstop: 4.623, Trans_factor: 4.623, Trans_ratio: 0.2217, Normalization: 96.401\n"
     ]
    },
    {
     "name": "stderr",
     "output_type": "stream",
     "text": [
      "WARNING:pyFAI.io:Destination file /Users/vsomani/Documents/SWAXS_data_reduction_correction_Analysis/larger_test/1D/SAXS/Reduction/sone_Run10_AcOH_RampT22_ctr1_scan1_0000.dat exists\n",
      "WARNING:pyFAI.io:Destination file /Users/vsomani/Documents/SWAXS_data_reduction_correction_Analysis/larger_test/1D/SAXS/Reduction/sone_Run10_AcOH_RampT22_ctr1_scan1_0001.dat exists\n",
      "WARNING:pyFAI.io:Destination file /Users/vsomani/Documents/SWAXS_data_reduction_correction_Analysis/larger_test/1D/SAXS/Reduction/sone_Run10_AcOH_RampT22_ctr1_scan1_0002.dat exists\n",
      "WARNING:pyFAI.io:Destination file /Users/vsomani/Documents/SWAXS_data_reduction_correction_Analysis/larger_test/1D/SAXS/Reduction/sone_Run10_AcOH_RampT25_ctr2_scan1_0000.dat exists\n",
      "WARNING:pyFAI.io:Destination file /Users/vsomani/Documents/SWAXS_data_reduction_correction_Analysis/larger_test/1D/SAXS/Reduction/sone_Run10_AcOH_RampT25_ctr2_scan1_0001.dat exists\n"
     ]
    },
    {
     "name": "stdout",
     "output_type": "stream",
     "text": [
      "  Saved to: /Users/vsomani/Documents/SWAXS_data_reduction_correction_Analysis/larger_test/1D/SAXS/Reduction/sone_Run10_AcOH_RampT22_ctr1_scan1_0000.dat\n",
      "Processing SAXS file: /Users/vsomani/Documents/SWAXS_data_reduction_correction_Analysis/larger_test/2D/SAXS/sone_Run10_AcOH_RampT22_ctr1_scan1_0001.raw\n",
      "  I0: 20.962, Bstop: 4.651, Trans_factor: 4.651, Trans_ratio: 0.2219, Normalization: 97.486\n",
      "  Saved to: /Users/vsomani/Documents/SWAXS_data_reduction_correction_Analysis/larger_test/1D/SAXS/Reduction/sone_Run10_AcOH_RampT22_ctr1_scan1_0001.dat\n",
      "Processing SAXS file: /Users/vsomani/Documents/SWAXS_data_reduction_correction_Analysis/larger_test/2D/SAXS/sone_Run10_AcOH_RampT22_ctr1_scan1_0002.raw\n",
      "  I0: 21.148, Bstop: 4.682, Trans_factor: 4.682, Trans_ratio: 0.2214, Normalization: 99.018\n",
      "  Saved to: /Users/vsomani/Documents/SWAXS_data_reduction_correction_Analysis/larger_test/1D/SAXS/Reduction/sone_Run10_AcOH_RampT22_ctr1_scan1_0002.dat\n",
      "Processing SAXS file: /Users/vsomani/Documents/SWAXS_data_reduction_correction_Analysis/larger_test/2D/SAXS/sone_Run10_AcOH_RampT25_ctr2_scan1_0000.raw\n",
      "  I0: 21.101, Bstop: 4.676, Trans_factor: 4.676, Trans_ratio: 0.2216, Normalization: 98.669\n",
      "  Saved to: /Users/vsomani/Documents/SWAXS_data_reduction_correction_Analysis/larger_test/1D/SAXS/Reduction/sone_Run10_AcOH_RampT25_ctr2_scan1_0000.dat\n",
      "Processing SAXS file: /Users/vsomani/Documents/SWAXS_data_reduction_correction_Analysis/larger_test/2D/SAXS/sone_Run10_AcOH_RampT25_ctr2_scan1_0001.raw\n",
      "  I0: 21.062, Bstop: 4.664, Trans_factor: 4.664, Trans_ratio: 0.2214, Normalization: 98.232\n",
      "  Saved to: /Users/vsomani/Documents/SWAXS_data_reduction_correction_Analysis/larger_test/1D/SAXS/Reduction/sone_Run10_AcOH_RampT25_ctr2_scan1_0001.dat\n",
      "Processing SAXS file: /Users/vsomani/Documents/SWAXS_data_reduction_correction_Analysis/larger_test/2D/SAXS/sone_Run10_AcOH_RampT25_ctr2_scan1_0002.raw\n",
      "  I0: 21.059, Bstop: 4.668, Trans_factor: 4.668, Trans_ratio: 0.2217, Normalization: 98.306\n"
     ]
    },
    {
     "name": "stderr",
     "output_type": "stream",
     "text": [
      "WARNING:pyFAI.io:Destination file /Users/vsomani/Documents/SWAXS_data_reduction_correction_Analysis/larger_test/1D/SAXS/Reduction/sone_Run10_AcOH_RampT25_ctr2_scan1_0002.dat exists\n",
      "WARNING:pyFAI.io:Destination file /Users/vsomani/Documents/SWAXS_data_reduction_correction_Analysis/larger_test/1D/SAXS/Reduction/sone_Run10_AcOH_RampT27_ctr3_scan1_0000.dat exists\n",
      "WARNING:pyFAI.io:Destination file /Users/vsomani/Documents/SWAXS_data_reduction_correction_Analysis/larger_test/1D/SAXS/Reduction/sone_Run10_AcOH_RampT27_ctr3_scan1_0001.dat exists\n",
      "WARNING:pyFAI.io:Destination file /Users/vsomani/Documents/SWAXS_data_reduction_correction_Analysis/larger_test/1D/SAXS/Reduction/sone_Run10_AcOH_RampT27_ctr3_scan1_0002.dat exists\n",
      "WARNING:pyFAI.io:Destination file /Users/vsomani/Documents/SWAXS_data_reduction_correction_Analysis/larger_test/1D/SAXS/Reduction/sone_Run10_AcOH_RampT30_ctr4_scan1_0000.dat exists\n"
     ]
    },
    {
     "name": "stdout",
     "output_type": "stream",
     "text": [
      "  Saved to: /Users/vsomani/Documents/SWAXS_data_reduction_correction_Analysis/larger_test/1D/SAXS/Reduction/sone_Run10_AcOH_RampT25_ctr2_scan1_0002.dat\n",
      "Processing SAXS file: /Users/vsomani/Documents/SWAXS_data_reduction_correction_Analysis/larger_test/2D/SAXS/sone_Run10_AcOH_RampT27_ctr3_scan1_0000.raw\n",
      "  I0: 20.977, Bstop: 4.669, Trans_factor: 4.669, Trans_ratio: 0.2226, Normalization: 97.940\n",
      "  Saved to: /Users/vsomani/Documents/SWAXS_data_reduction_correction_Analysis/larger_test/1D/SAXS/Reduction/sone_Run10_AcOH_RampT27_ctr3_scan1_0000.dat\n",
      "Processing SAXS file: /Users/vsomani/Documents/SWAXS_data_reduction_correction_Analysis/larger_test/2D/SAXS/sone_Run10_AcOH_RampT27_ctr3_scan1_0001.raw\n",
      "  I0: 20.971, Bstop: 4.662, Trans_factor: 4.662, Trans_ratio: 0.2223, Normalization: 97.760\n",
      "  Saved to: /Users/vsomani/Documents/SWAXS_data_reduction_correction_Analysis/larger_test/1D/SAXS/Reduction/sone_Run10_AcOH_RampT27_ctr3_scan1_0001.dat\n",
      "Processing SAXS file: /Users/vsomani/Documents/SWAXS_data_reduction_correction_Analysis/larger_test/2D/SAXS/sone_Run10_AcOH_RampT27_ctr3_scan1_0002.raw\n",
      "  I0: 20.976, Bstop: 4.666, Trans_factor: 4.666, Trans_ratio: 0.2224, Normalization: 97.875\n",
      "  Saved to: /Users/vsomani/Documents/SWAXS_data_reduction_correction_Analysis/larger_test/1D/SAXS/Reduction/sone_Run10_AcOH_RampT27_ctr3_scan1_0002.dat\n",
      "Processing SAXS file: /Users/vsomani/Documents/SWAXS_data_reduction_correction_Analysis/larger_test/2D/SAXS/sone_Run10_AcOH_RampT30_ctr4_scan1_0000.raw\n",
      "  I0: 20.952, Bstop: 4.668, Trans_factor: 4.668, Trans_ratio: 0.2228, Normalization: 97.802\n",
      "  Saved to: /Users/vsomani/Documents/SWAXS_data_reduction_correction_Analysis/larger_test/1D/SAXS/Reduction/sone_Run10_AcOH_RampT30_ctr4_scan1_0000.dat\n",
      "Processing SAXS file: /Users/vsomani/Documents/SWAXS_data_reduction_correction_Analysis/larger_test/2D/SAXS/sone_Run10_AcOH_RampT30_ctr4_scan1_0001.raw\n",
      "  I0: 20.891, Bstop: 4.655, Trans_factor: 4.655, Trans_ratio: 0.2228, Normalization: 97.258\n"
     ]
    },
    {
     "name": "stderr",
     "output_type": "stream",
     "text": [
      "WARNING:pyFAI.io:Destination file /Users/vsomani/Documents/SWAXS_data_reduction_correction_Analysis/larger_test/1D/SAXS/Reduction/sone_Run10_AcOH_RampT30_ctr4_scan1_0001.dat exists\n",
      "WARNING:pyFAI.io:Destination file /Users/vsomani/Documents/SWAXS_data_reduction_correction_Analysis/larger_test/1D/SAXS/Reduction/sone_Run10_AcOH_RampT30_ctr4_scan1_0002.dat exists\n",
      "WARNING:pyFAI.io:Destination file /Users/vsomani/Documents/SWAXS_data_reduction_correction_Analysis/larger_test/1D/SAXS/Reduction/sone_Run10_AcOH_RampT32_ctr5_scan1_0000.dat exists\n",
      "WARNING:pyFAI.io:Destination file /Users/vsomani/Documents/SWAXS_data_reduction_correction_Analysis/larger_test/1D/SAXS/Reduction/sone_Run10_AcOH_RampT32_ctr5_scan1_0001.dat exists\n",
      "WARNING:pyFAI.io:Destination file /Users/vsomani/Documents/SWAXS_data_reduction_correction_Analysis/larger_test/1D/SAXS/Reduction/sone_Run10_AcOH_RampT32_ctr5_scan1_0002.dat exists\n"
     ]
    },
    {
     "name": "stdout",
     "output_type": "stream",
     "text": [
      "  Saved to: /Users/vsomani/Documents/SWAXS_data_reduction_correction_Analysis/larger_test/1D/SAXS/Reduction/sone_Run10_AcOH_RampT30_ctr4_scan1_0001.dat\n",
      "Processing SAXS file: /Users/vsomani/Documents/SWAXS_data_reduction_correction_Analysis/larger_test/2D/SAXS/sone_Run10_AcOH_RampT30_ctr4_scan1_0002.raw\n",
      "  I0: 20.901, Bstop: 4.656, Trans_factor: 4.656, Trans_ratio: 0.2228, Normalization: 97.320\n",
      "  Saved to: /Users/vsomani/Documents/SWAXS_data_reduction_correction_Analysis/larger_test/1D/SAXS/Reduction/sone_Run10_AcOH_RampT30_ctr4_scan1_0002.dat\n",
      "Processing SAXS file: /Users/vsomani/Documents/SWAXS_data_reduction_correction_Analysis/larger_test/2D/SAXS/sone_Run10_AcOH_RampT32_ctr5_scan1_0000.raw\n",
      "  I0: 20.918, Bstop: 4.653, Trans_factor: 4.653, Trans_ratio: 0.2225, Normalization: 97.334\n",
      "  Saved to: /Users/vsomani/Documents/SWAXS_data_reduction_correction_Analysis/larger_test/1D/SAXS/Reduction/sone_Run10_AcOH_RampT32_ctr5_scan1_0000.dat\n",
      "Processing SAXS file: /Users/vsomani/Documents/SWAXS_data_reduction_correction_Analysis/larger_test/2D/SAXS/sone_Run10_AcOH_RampT32_ctr5_scan1_0001.raw\n",
      "  I0: 20.874, Bstop: 4.649, Trans_factor: 4.649, Trans_ratio: 0.2227, Normalization: 97.037\n",
      "  Saved to: /Users/vsomani/Documents/SWAXS_data_reduction_correction_Analysis/larger_test/1D/SAXS/Reduction/sone_Run10_AcOH_RampT32_ctr5_scan1_0001.dat\n",
      "Processing SAXS file: /Users/vsomani/Documents/SWAXS_data_reduction_correction_Analysis/larger_test/2D/SAXS/sone_Run10_AcOH_RampT32_ctr5_scan1_0002.raw\n",
      "  I0: 20.911, Bstop: 4.645, Trans_factor: 4.645, Trans_ratio: 0.2221, Normalization: 97.135\n",
      "  Saved to: /Users/vsomani/Documents/SWAXS_data_reduction_correction_Analysis/larger_test/1D/SAXS/Reduction/sone_Run10_AcOH_RampT32_ctr5_scan1_0002.dat\n",
      "Processing SAXS file: /Users/vsomani/Documents/SWAXS_data_reduction_correction_Analysis/larger_test/2D/SAXS/sone_Run10_AcOH_RampT35_ctr6_scan1_0000.raw\n",
      "  I0: 20.877, Bstop: 4.647, Trans_factor: 4.647, Trans_ratio: 0.2226, Normalization: 97.009\n"
     ]
    },
    {
     "name": "stderr",
     "output_type": "stream",
     "text": [
      "WARNING:pyFAI.io:Destination file /Users/vsomani/Documents/SWAXS_data_reduction_correction_Analysis/larger_test/1D/SAXS/Reduction/sone_Run10_AcOH_RampT35_ctr6_scan1_0000.dat exists\n",
      "WARNING:pyFAI.io:Destination file /Users/vsomani/Documents/SWAXS_data_reduction_correction_Analysis/larger_test/1D/SAXS/Reduction/sone_Run10_AcOH_RampT35_ctr6_scan1_0001.dat exists\n",
      "WARNING:pyFAI.io:Destination file /Users/vsomani/Documents/SWAXS_data_reduction_correction_Analysis/larger_test/1D/SAXS/Reduction/sone_Run10_AcOH_RampT35_ctr6_scan1_0002.dat exists\n"
     ]
    },
    {
     "name": "stdout",
     "output_type": "stream",
     "text": [
      "  Saved to: /Users/vsomani/Documents/SWAXS_data_reduction_correction_Analysis/larger_test/1D/SAXS/Reduction/sone_Run10_AcOH_RampT35_ctr6_scan1_0000.dat\n",
      "Processing SAXS file: /Users/vsomani/Documents/SWAXS_data_reduction_correction_Analysis/larger_test/2D/SAXS/sone_Run10_AcOH_RampT35_ctr6_scan1_0001.raw\n",
      "  I0: 21.177, Bstop: 4.704, Trans_factor: 4.704, Trans_ratio: 0.2221, Normalization: 99.616\n",
      "  Saved to: /Users/vsomani/Documents/SWAXS_data_reduction_correction_Analysis/larger_test/1D/SAXS/Reduction/sone_Run10_AcOH_RampT35_ctr6_scan1_0001.dat\n",
      "Processing SAXS file: /Users/vsomani/Documents/SWAXS_data_reduction_correction_Analysis/larger_test/2D/SAXS/sone_Run10_AcOH_RampT35_ctr6_scan1_0002.raw\n",
      "  I0: 21.130, Bstop: 4.705, Trans_factor: 4.705, Trans_ratio: 0.2227, Normalization: 99.422\n",
      "  Saved to: /Users/vsomani/Documents/SWAXS_data_reduction_correction_Analysis/larger_test/1D/SAXS/Reduction/sone_Run10_AcOH_RampT35_ctr6_scan1_0002.dat\n",
      "Processing SAXS file: /Users/vsomani/Documents/SWAXS_data_reduction_correction_Analysis/larger_test/2D/SAXS/sone_Run10_AcOH_RampT37_ctr7_scan1_0000.raw\n",
      "  I0: 21.104, Bstop: 4.704, Trans_factor: 4.704, Trans_ratio: 0.2229, Normalization: 99.280\n"
     ]
    },
    {
     "name": "stderr",
     "output_type": "stream",
     "text": [
      "WARNING:pyFAI.io:Destination file /Users/vsomani/Documents/SWAXS_data_reduction_correction_Analysis/larger_test/1D/SAXS/Reduction/sone_Run10_AcOH_RampT37_ctr7_scan1_0000.dat exists\n",
      "WARNING:pyFAI.io:Destination file /Users/vsomani/Documents/SWAXS_data_reduction_correction_Analysis/larger_test/1D/SAXS/Reduction/sone_Run10_AcOH_RampT37_ctr7_scan1_0001.dat exists\n",
      "WARNING:pyFAI.io:Destination file /Users/vsomani/Documents/SWAXS_data_reduction_correction_Analysis/larger_test/1D/SAXS/Reduction/sone_Run10_AcOH_RampT37_ctr7_scan1_0002.dat exists\n",
      "WARNING:pyFAI.io:Destination file /Users/vsomani/Documents/SWAXS_data_reduction_correction_Analysis/larger_test/1D/SAXS/Reduction/sone_Run10_AcOH_RampT40_ctr8_scan1_0000.dat exists\n",
      "WARNING:pyFAI.io:Destination file /Users/vsomani/Documents/SWAXS_data_reduction_correction_Analysis/larger_test/1D/SAXS/Reduction/sone_Run10_AcOH_RampT40_ctr8_scan1_0001.dat exists\n"
     ]
    },
    {
     "name": "stdout",
     "output_type": "stream",
     "text": [
      "  Saved to: /Users/vsomani/Documents/SWAXS_data_reduction_correction_Analysis/larger_test/1D/SAXS/Reduction/sone_Run10_AcOH_RampT37_ctr7_scan1_0000.dat\n",
      "Processing SAXS file: /Users/vsomani/Documents/SWAXS_data_reduction_correction_Analysis/larger_test/2D/SAXS/sone_Run10_AcOH_RampT37_ctr7_scan1_0001.raw\n",
      "  I0: 21.070, Bstop: 4.697, Trans_factor: 4.697, Trans_ratio: 0.2229, Normalization: 98.972\n",
      "  Saved to: /Users/vsomani/Documents/SWAXS_data_reduction_correction_Analysis/larger_test/1D/SAXS/Reduction/sone_Run10_AcOH_RampT37_ctr7_scan1_0001.dat\n",
      "Processing SAXS file: /Users/vsomani/Documents/SWAXS_data_reduction_correction_Analysis/larger_test/2D/SAXS/sone_Run10_AcOH_RampT37_ctr7_scan1_0002.raw\n",
      "  I0: 21.041, Bstop: 4.690, Trans_factor: 4.690, Trans_ratio: 0.2229, Normalization: 98.686\n",
      "  Saved to: /Users/vsomani/Documents/SWAXS_data_reduction_correction_Analysis/larger_test/1D/SAXS/Reduction/sone_Run10_AcOH_RampT37_ctr7_scan1_0002.dat\n",
      "Processing SAXS file: /Users/vsomani/Documents/SWAXS_data_reduction_correction_Analysis/larger_test/2D/SAXS/sone_Run10_AcOH_RampT40_ctr8_scan1_0000.raw\n",
      "  I0: 21.046, Bstop: 4.691, Trans_factor: 4.691, Trans_ratio: 0.2229, Normalization: 98.727\n",
      "  Saved to: /Users/vsomani/Documents/SWAXS_data_reduction_correction_Analysis/larger_test/1D/SAXS/Reduction/sone_Run10_AcOH_RampT40_ctr8_scan1_0000.dat\n",
      "Processing SAXS file: /Users/vsomani/Documents/SWAXS_data_reduction_correction_Analysis/larger_test/2D/SAXS/sone_Run10_AcOH_RampT40_ctr8_scan1_0001.raw\n",
      "  I0: 20.971, Bstop: 4.680, Trans_factor: 4.680, Trans_ratio: 0.2232, Normalization: 98.150\n",
      "  Saved to: /Users/vsomani/Documents/SWAXS_data_reduction_correction_Analysis/larger_test/1D/SAXS/Reduction/sone_Run10_AcOH_RampT40_ctr8_scan1_0001.dat\n",
      "Processing SAXS file: /Users/vsomani/Documents/SWAXS_data_reduction_correction_Analysis/larger_test/2D/SAXS/sone_Run10_AcOH_RampT40_ctr8_scan1_0002.raw\n",
      "  I0: 21.012, Bstop: 4.684, Trans_factor: 4.684, Trans_ratio: 0.2229, Normalization: 98.426\n"
     ]
    },
    {
     "name": "stderr",
     "output_type": "stream",
     "text": [
      "WARNING:pyFAI.io:Destination file /Users/vsomani/Documents/SWAXS_data_reduction_correction_Analysis/larger_test/1D/SAXS/Reduction/sone_Run10_AcOH_RampT40_ctr8_scan1_0002.dat exists\n",
      "WARNING:pyFAI.io:Destination file /Users/vsomani/Documents/SWAXS_data_reduction_correction_Analysis/larger_test/1D/SAXS/Reduction/sone_Run10_AcOH_RampT42_ctr9_scan1_0000.dat exists\n",
      "WARNING:pyFAI.io:Destination file /Users/vsomani/Documents/SWAXS_data_reduction_correction_Analysis/larger_test/1D/SAXS/Reduction/sone_Run10_AcOH_RampT42_ctr9_scan1_0001.dat exists\n",
      "WARNING:pyFAI.io:Destination file /Users/vsomani/Documents/SWAXS_data_reduction_correction_Analysis/larger_test/1D/SAXS/Reduction/sone_Run10_AcOH_RampT42_ctr9_scan1_0002.dat exists\n"
     ]
    },
    {
     "name": "stdout",
     "output_type": "stream",
     "text": [
      "  Saved to: /Users/vsomani/Documents/SWAXS_data_reduction_correction_Analysis/larger_test/1D/SAXS/Reduction/sone_Run10_AcOH_RampT40_ctr8_scan1_0002.dat\n",
      "Processing SAXS file: /Users/vsomani/Documents/SWAXS_data_reduction_correction_Analysis/larger_test/2D/SAXS/sone_Run10_AcOH_RampT42_ctr9_scan1_0000.raw\n",
      "  I0: 20.977, Bstop: 4.680, Trans_factor: 4.680, Trans_ratio: 0.2231, Normalization: 98.173\n",
      "  Saved to: /Users/vsomani/Documents/SWAXS_data_reduction_correction_Analysis/larger_test/1D/SAXS/Reduction/sone_Run10_AcOH_RampT42_ctr9_scan1_0000.dat\n",
      "Processing SAXS file: /Users/vsomani/Documents/SWAXS_data_reduction_correction_Analysis/larger_test/2D/SAXS/sone_Run10_AcOH_RampT42_ctr9_scan1_0001.raw\n",
      "  I0: 20.914, Bstop: 4.678, Trans_factor: 4.678, Trans_ratio: 0.2237, Normalization: 97.832\n",
      "  Saved to: /Users/vsomani/Documents/SWAXS_data_reduction_correction_Analysis/larger_test/1D/SAXS/Reduction/sone_Run10_AcOH_RampT42_ctr9_scan1_0001.dat\n",
      "Processing SAXS file: /Users/vsomani/Documents/SWAXS_data_reduction_correction_Analysis/larger_test/2D/SAXS/sone_Run10_AcOH_RampT42_ctr9_scan1_0002.raw\n",
      "  I0: 20.963, Bstop: 4.680, Trans_factor: 4.680, Trans_ratio: 0.2232, Normalization: 98.097\n",
      "  Saved to: /Users/vsomani/Documents/SWAXS_data_reduction_correction_Analysis/larger_test/1D/SAXS/Reduction/sone_Run10_AcOH_RampT42_ctr9_scan1_0002.dat\n",
      "Processing SAXS file: /Users/vsomani/Documents/SWAXS_data_reduction_correction_Analysis/larger_test/2D/SAXS/sone_Run10_AcOH_RampT45_ctr10_scan1_0000.raw\n",
      "  I0: 20.960, Bstop: 4.670, Trans_factor: 4.670, Trans_ratio: 0.2228, Normalization: 97.893\n"
     ]
    },
    {
     "name": "stderr",
     "output_type": "stream",
     "text": [
      "WARNING:pyFAI.io:Destination file /Users/vsomani/Documents/SWAXS_data_reduction_correction_Analysis/larger_test/1D/SAXS/Reduction/sone_Run10_AcOH_RampT45_ctr10_scan1_0000.dat exists\n",
      "WARNING:pyFAI.io:Destination file /Users/vsomani/Documents/SWAXS_data_reduction_correction_Analysis/larger_test/1D/SAXS/Reduction/sone_Run10_AcOH_RampT45_ctr10_scan1_0001.dat exists\n",
      "WARNING:pyFAI.io:Destination file /Users/vsomani/Documents/SWAXS_data_reduction_correction_Analysis/larger_test/1D/SAXS/Reduction/sone_Run10_AcOH_RampT45_ctr10_scan1_0002.dat exists\n",
      "WARNING:pyFAI.io:Destination file /Users/vsomani/Documents/SWAXS_data_reduction_correction_Analysis/larger_test/1D/SAXS/Reduction/sone_Run10_AcOH_RampT47_ctr11_scan1_0000.dat exists\n",
      "WARNING:pyFAI.io:Destination file /Users/vsomani/Documents/SWAXS_data_reduction_correction_Analysis/larger_test/1D/SAXS/Reduction/sone_Run10_AcOH_RampT47_ctr11_scan1_0001.dat exists\n"
     ]
    },
    {
     "name": "stdout",
     "output_type": "stream",
     "text": [
      "  Saved to: /Users/vsomani/Documents/SWAXS_data_reduction_correction_Analysis/larger_test/1D/SAXS/Reduction/sone_Run10_AcOH_RampT45_ctr10_scan1_0000.dat\n",
      "Processing SAXS file: /Users/vsomani/Documents/SWAXS_data_reduction_correction_Analysis/larger_test/2D/SAXS/sone_Run10_AcOH_RampT45_ctr10_scan1_0001.raw\n",
      "  I0: 20.885, Bstop: 4.669, Trans_factor: 4.669, Trans_ratio: 0.2236, Normalization: 97.511\n",
      "  Saved to: /Users/vsomani/Documents/SWAXS_data_reduction_correction_Analysis/larger_test/1D/SAXS/Reduction/sone_Run10_AcOH_RampT45_ctr10_scan1_0001.dat\n",
      "Processing SAXS file: /Users/vsomani/Documents/SWAXS_data_reduction_correction_Analysis/larger_test/2D/SAXS/sone_Run10_AcOH_RampT45_ctr10_scan1_0002.raw\n",
      "  I0: 20.858, Bstop: 4.665, Trans_factor: 4.665, Trans_ratio: 0.2236, Normalization: 97.293\n",
      "  Saved to: /Users/vsomani/Documents/SWAXS_data_reduction_correction_Analysis/larger_test/1D/SAXS/Reduction/sone_Run10_AcOH_RampT45_ctr10_scan1_0002.dat\n",
      "Processing SAXS file: /Users/vsomani/Documents/SWAXS_data_reduction_correction_Analysis/larger_test/2D/SAXS/sone_Run10_AcOH_RampT47_ctr11_scan1_0000.raw\n",
      "  I0: 20.900, Bstop: 4.661, Trans_factor: 4.661, Trans_ratio: 0.2230, Normalization: 97.413\n",
      "  Saved to: /Users/vsomani/Documents/SWAXS_data_reduction_correction_Analysis/larger_test/1D/SAXS/Reduction/sone_Run10_AcOH_RampT47_ctr11_scan1_0000.dat\n",
      "Processing SAXS file: /Users/vsomani/Documents/SWAXS_data_reduction_correction_Analysis/larger_test/2D/SAXS/sone_Run10_AcOH_RampT47_ctr11_scan1_0001.raw\n",
      "  I0: 21.053, Bstop: 4.701, Trans_factor: 4.701, Trans_ratio: 0.2233, Normalization: 98.978\n",
      "  Saved to: /Users/vsomani/Documents/SWAXS_data_reduction_correction_Analysis/larger_test/1D/SAXS/Reduction/sone_Run10_AcOH_RampT47_ctr11_scan1_0001.dat\n",
      "Processing SAXS file: /Users/vsomani/Documents/SWAXS_data_reduction_correction_Analysis/larger_test/2D/SAXS/sone_Run10_AcOH_RampT47_ctr11_scan1_0002.raw\n",
      "  I0: 21.143, Bstop: 4.723, Trans_factor: 4.723, Trans_ratio: 0.2234, Normalization: 99.862\n"
     ]
    },
    {
     "name": "stderr",
     "output_type": "stream",
     "text": [
      "WARNING:pyFAI.io:Destination file /Users/vsomani/Documents/SWAXS_data_reduction_correction_Analysis/larger_test/1D/SAXS/Reduction/sone_Run10_AcOH_RampT47_ctr11_scan1_0002.dat exists\n",
      "WARNING:pyFAI.io:Destination file /Users/vsomani/Documents/SWAXS_data_reduction_correction_Analysis/larger_test/1D/SAXS/Reduction/sone_Run10_AcOH_RampT50_ctr12_scan1_0000.dat exists\n",
      "WARNING:pyFAI.io:Destination file /Users/vsomani/Documents/SWAXS_data_reduction_correction_Analysis/larger_test/1D/SAXS/Reduction/sone_Run10_AcOH_RampT50_ctr12_scan1_0001.dat exists\n"
     ]
    },
    {
     "name": "stdout",
     "output_type": "stream",
     "text": [
      "  Saved to: /Users/vsomani/Documents/SWAXS_data_reduction_correction_Analysis/larger_test/1D/SAXS/Reduction/sone_Run10_AcOH_RampT47_ctr11_scan1_0002.dat\n",
      "Processing SAXS file: /Users/vsomani/Documents/SWAXS_data_reduction_correction_Analysis/larger_test/2D/SAXS/sone_Run10_AcOH_RampT50_ctr12_scan1_0000.raw\n",
      "  I0: 21.118, Bstop: 4.712, Trans_factor: 4.712, Trans_ratio: 0.2231, Normalization: 99.504\n",
      "  Saved to: /Users/vsomani/Documents/SWAXS_data_reduction_correction_Analysis/larger_test/1D/SAXS/Reduction/sone_Run10_AcOH_RampT50_ctr12_scan1_0000.dat\n",
      "Processing SAXS file: /Users/vsomani/Documents/SWAXS_data_reduction_correction_Analysis/larger_test/2D/SAXS/sone_Run10_AcOH_RampT50_ctr12_scan1_0001.raw\n",
      "  I0: 21.126, Bstop: 4.707, Trans_factor: 4.707, Trans_ratio: 0.2228, Normalization: 99.440\n",
      "  Saved to: /Users/vsomani/Documents/SWAXS_data_reduction_correction_Analysis/larger_test/1D/SAXS/Reduction/sone_Run10_AcOH_RampT50_ctr12_scan1_0001.dat\n",
      "Processing SAXS file: /Users/vsomani/Documents/SWAXS_data_reduction_correction_Analysis/larger_test/2D/SAXS/sone_Run10_AcOH_RampT50_ctr12_scan1_0002.raw\n",
      "  I0: 21.101, Bstop: 4.714, Trans_factor: 4.714, Trans_ratio: 0.2234, Normalization: 99.471\n"
     ]
    },
    {
     "name": "stderr",
     "output_type": "stream",
     "text": [
      "WARNING:pyFAI.io:Destination file /Users/vsomani/Documents/SWAXS_data_reduction_correction_Analysis/larger_test/1D/SAXS/Reduction/sone_Run10_AcOH_RampT50_ctr12_scan1_0002.dat exists\n",
      "WARNING:pyFAI.io:Destination file /Users/vsomani/Documents/SWAXS_data_reduction_correction_Analysis/larger_test/1D/SAXS/Reduction/sone_Run10_AcOH_RampT52_ctr13_scan1_0000.dat exists\n",
      "WARNING:pyFAI.io:Destination file /Users/vsomani/Documents/SWAXS_data_reduction_correction_Analysis/larger_test/1D/SAXS/Reduction/sone_Run10_AcOH_RampT52_ctr13_scan1_0001.dat exists\n",
      "WARNING:pyFAI.io:Destination file /Users/vsomani/Documents/SWAXS_data_reduction_correction_Analysis/larger_test/1D/SAXS/Reduction/sone_Run10_AcOH_RampT52_ctr13_scan1_0002.dat exists\n",
      "WARNING:pyFAI.io:Destination file /Users/vsomani/Documents/SWAXS_data_reduction_correction_Analysis/larger_test/1D/SAXS/Reduction/sone_Run10_AcOH_RampT55_ctr14_scan1_0000.dat exists\n"
     ]
    },
    {
     "name": "stdout",
     "output_type": "stream",
     "text": [
      "  Saved to: /Users/vsomani/Documents/SWAXS_data_reduction_correction_Analysis/larger_test/1D/SAXS/Reduction/sone_Run10_AcOH_RampT50_ctr12_scan1_0002.dat\n",
      "Processing SAXS file: /Users/vsomani/Documents/SWAXS_data_reduction_correction_Analysis/larger_test/2D/SAXS/sone_Run10_AcOH_RampT52_ctr13_scan1_0000.raw\n",
      "  I0: 21.075, Bstop: 4.706, Trans_factor: 4.706, Trans_ratio: 0.2233, Normalization: 99.189\n",
      "  Saved to: /Users/vsomani/Documents/SWAXS_data_reduction_correction_Analysis/larger_test/1D/SAXS/Reduction/sone_Run10_AcOH_RampT52_ctr13_scan1_0000.dat\n",
      "Processing SAXS file: /Users/vsomani/Documents/SWAXS_data_reduction_correction_Analysis/larger_test/2D/SAXS/sone_Run10_AcOH_RampT52_ctr13_scan1_0001.raw\n",
      "  I0: 20.991, Bstop: 4.700, Trans_factor: 4.700, Trans_ratio: 0.2239, Normalization: 98.649\n",
      "  Saved to: /Users/vsomani/Documents/SWAXS_data_reduction_correction_Analysis/larger_test/1D/SAXS/Reduction/sone_Run10_AcOH_RampT52_ctr13_scan1_0001.dat\n",
      "Processing SAXS file: /Users/vsomani/Documents/SWAXS_data_reduction_correction_Analysis/larger_test/2D/SAXS/sone_Run10_AcOH_RampT52_ctr13_scan1_0002.raw\n",
      "  I0: 21.007, Bstop: 4.701, Trans_factor: 4.701, Trans_ratio: 0.2238, Normalization: 98.753\n",
      "  Saved to: /Users/vsomani/Documents/SWAXS_data_reduction_correction_Analysis/larger_test/1D/SAXS/Reduction/sone_Run10_AcOH_RampT52_ctr13_scan1_0002.dat\n",
      "Processing SAXS file: /Users/vsomani/Documents/SWAXS_data_reduction_correction_Analysis/larger_test/2D/SAXS/sone_Run10_AcOH_RampT55_ctr14_scan1_0000.raw\n",
      "  I0: 20.958, Bstop: 4.699, Trans_factor: 4.699, Trans_ratio: 0.2242, Normalization: 98.470\n",
      "  Saved to: /Users/vsomani/Documents/SWAXS_data_reduction_correction_Analysis/larger_test/1D/SAXS/Reduction/sone_Run10_AcOH_RampT55_ctr14_scan1_0000.dat\n",
      "Processing SAXS file: /Users/vsomani/Documents/SWAXS_data_reduction_correction_Analysis/larger_test/2D/SAXS/sone_Run10_AcOH_RampT55_ctr14_scan1_0001.raw\n",
      "  I0: 20.879, Bstop: 4.696, Trans_factor: 4.696, Trans_ratio: 0.2249, Normalization: 98.050\n"
     ]
    },
    {
     "name": "stderr",
     "output_type": "stream",
     "text": [
      "WARNING:pyFAI.io:Destination file /Users/vsomani/Documents/SWAXS_data_reduction_correction_Analysis/larger_test/1D/SAXS/Reduction/sone_Run10_AcOH_RampT55_ctr14_scan1_0001.dat exists\n",
      "WARNING:pyFAI.io:Destination file /Users/vsomani/Documents/SWAXS_data_reduction_correction_Analysis/larger_test/1D/SAXS/Reduction/sone_Run10_AcOH_RampT55_ctr14_scan1_0002.dat exists\n",
      "WARNING:pyFAI.io:Destination file /Users/vsomani/Documents/SWAXS_data_reduction_correction_Analysis/larger_test/1D/SAXS/Reduction/sone_Run10_AcOH_RampT57_ctr15_scan1_0000.dat exists\n",
      "WARNING:pyFAI.io:Destination file /Users/vsomani/Documents/SWAXS_data_reduction_correction_Analysis/larger_test/1D/SAXS/Reduction/sone_Run10_AcOH_RampT57_ctr15_scan1_0001.dat exists\n"
     ]
    },
    {
     "name": "stdout",
     "output_type": "stream",
     "text": [
      "  Saved to: /Users/vsomani/Documents/SWAXS_data_reduction_correction_Analysis/larger_test/1D/SAXS/Reduction/sone_Run10_AcOH_RampT55_ctr14_scan1_0001.dat\n",
      "Processing SAXS file: /Users/vsomani/Documents/SWAXS_data_reduction_correction_Analysis/larger_test/2D/SAXS/sone_Run10_AcOH_RampT55_ctr14_scan1_0002.raw\n",
      "  I0: 20.964, Bstop: 4.694, Trans_factor: 4.694, Trans_ratio: 0.2239, Normalization: 98.401\n",
      "  Saved to: /Users/vsomani/Documents/SWAXS_data_reduction_correction_Analysis/larger_test/1D/SAXS/Reduction/sone_Run10_AcOH_RampT55_ctr14_scan1_0002.dat\n",
      "Processing SAXS file: /Users/vsomani/Documents/SWAXS_data_reduction_correction_Analysis/larger_test/2D/SAXS/sone_Run10_AcOH_RampT57_ctr15_scan1_0000.raw\n",
      "  I0: 20.935, Bstop: 4.692, Trans_factor: 4.692, Trans_ratio: 0.2241, Normalization: 98.227\n",
      "  Saved to: /Users/vsomani/Documents/SWAXS_data_reduction_correction_Analysis/larger_test/1D/SAXS/Reduction/sone_Run10_AcOH_RampT57_ctr15_scan1_0000.dat\n",
      "Processing SAXS file: /Users/vsomani/Documents/SWAXS_data_reduction_correction_Analysis/larger_test/2D/SAXS/sone_Run10_AcOH_RampT57_ctr15_scan1_0001.raw\n",
      "  I0: 20.865, Bstop: 4.683, Trans_factor: 4.683, Trans_ratio: 0.2244, Normalization: 97.704\n",
      "  Saved to: /Users/vsomani/Documents/SWAXS_data_reduction_correction_Analysis/larger_test/1D/SAXS/Reduction/sone_Run10_AcOH_RampT57_ctr15_scan1_0001.dat\n",
      "Processing SAXS file: /Users/vsomani/Documents/SWAXS_data_reduction_correction_Analysis/larger_test/2D/SAXS/sone_Run10_AcOH_RampT57_ctr15_scan1_0002.raw\n"
     ]
    },
    {
     "name": "stderr",
     "output_type": "stream",
     "text": [
      "WARNING:pyFAI.io:Destination file /Users/vsomani/Documents/SWAXS_data_reduction_correction_Analysis/larger_test/1D/SAXS/Reduction/sone_Run10_AcOH_RampT57_ctr15_scan1_0002.dat exists\n",
      "WARNING:pyFAI.io:Destination file /Users/vsomani/Documents/SWAXS_data_reduction_correction_Analysis/larger_test/1D/SAXS/Reduction/sone_Run10_AcOH_RampT60_ctr16_scan1_0000.dat exists\n",
      "WARNING:pyFAI.io:Destination file /Users/vsomani/Documents/SWAXS_data_reduction_correction_Analysis/larger_test/1D/SAXS/Reduction/sone_Run10_AcOH_RampT60_ctr16_scan1_0001.dat exists\n",
      "WARNING:pyFAI.io:Destination file /Users/vsomani/Documents/SWAXS_data_reduction_correction_Analysis/larger_test/1D/SAXS/Reduction/sone_Run10_AcOH_RampT60_ctr16_scan1_0002.dat exists\n"
     ]
    },
    {
     "name": "stdout",
     "output_type": "stream",
     "text": [
      "  I0: 20.882, Bstop: 4.687, Trans_factor: 4.687, Trans_ratio: 0.2245, Normalization: 97.880\n",
      "  Saved to: /Users/vsomani/Documents/SWAXS_data_reduction_correction_Analysis/larger_test/1D/SAXS/Reduction/sone_Run10_AcOH_RampT57_ctr15_scan1_0002.dat\n",
      "Processing SAXS file: /Users/vsomani/Documents/SWAXS_data_reduction_correction_Analysis/larger_test/2D/SAXS/sone_Run10_AcOH_RampT60_ctr16_scan1_0000.raw\n",
      "  I0: 20.898, Bstop: 4.677, Trans_factor: 4.677, Trans_ratio: 0.2238, Normalization: 97.731\n",
      "  Saved to: /Users/vsomani/Documents/SWAXS_data_reduction_correction_Analysis/larger_test/1D/SAXS/Reduction/sone_Run10_AcOH_RampT60_ctr16_scan1_0000.dat\n",
      "Processing SAXS file: /Users/vsomani/Documents/SWAXS_data_reduction_correction_Analysis/larger_test/2D/SAXS/sone_Run10_AcOH_RampT60_ctr16_scan1_0001.raw\n",
      "  I0: 21.160, Bstop: 4.745, Trans_factor: 4.745, Trans_ratio: 0.2242, Normalization: 100.397\n",
      "  Saved to: /Users/vsomani/Documents/SWAXS_data_reduction_correction_Analysis/larger_test/1D/SAXS/Reduction/sone_Run10_AcOH_RampT60_ctr16_scan1_0001.dat\n",
      "Processing SAXS file: /Users/vsomani/Documents/SWAXS_data_reduction_correction_Analysis/larger_test/2D/SAXS/sone_Run10_AcOH_RampT60_ctr16_scan1_0002.raw\n",
      "  I0: 21.109, Bstop: 4.739, Trans_factor: 4.739, Trans_ratio: 0.2245, Normalization: 100.024\n",
      "  Saved to: /Users/vsomani/Documents/SWAXS_data_reduction_correction_Analysis/larger_test/1D/SAXS/Reduction/sone_Run10_AcOH_RampT60_ctr16_scan1_0002.dat\n",
      "Processing SAXS file: /Users/vsomani/Documents/SWAXS_data_reduction_correction_Analysis/larger_test/2D/SAXS/sone_Run10_AcOH_RampT62_ctr17_scan1_0000.raw\n",
      "  I0: 21.092, Bstop: 4.736, Trans_factor: 4.736, Trans_ratio: 0.2246, Normalization: 99.897\n"
     ]
    },
    {
     "name": "stderr",
     "output_type": "stream",
     "text": [
      "WARNING:pyFAI.io:Destination file /Users/vsomani/Documents/SWAXS_data_reduction_correction_Analysis/larger_test/1D/SAXS/Reduction/sone_Run10_AcOH_RampT62_ctr17_scan1_0000.dat exists\n",
      "WARNING:pyFAI.io:Destination file /Users/vsomani/Documents/SWAXS_data_reduction_correction_Analysis/larger_test/1D/SAXS/Reduction/sone_Run10_AcOH_RampT62_ctr17_scan1_0001.dat exists\n",
      "WARNING:pyFAI.io:Destination file /Users/vsomani/Documents/SWAXS_data_reduction_correction_Analysis/larger_test/1D/SAXS/Reduction/sone_Run10_AcOH_RampT62_ctr17_scan1_0002.dat exists\n",
      "WARNING:pyFAI.io:Destination file /Users/vsomani/Documents/SWAXS_data_reduction_correction_Analysis/larger_test/1D/SAXS/Reduction/sone_Run10_AcOH_RampT65_ctr18_scan1_0000.dat exists\n",
      "WARNING:pyFAI.io:Destination file /Users/vsomani/Documents/SWAXS_data_reduction_correction_Analysis/larger_test/1D/SAXS/Reduction/sone_Run10_AcOH_RampT65_ctr18_scan1_0001.dat exists\n"
     ]
    },
    {
     "name": "stdout",
     "output_type": "stream",
     "text": [
      "  Saved to: /Users/vsomani/Documents/SWAXS_data_reduction_correction_Analysis/larger_test/1D/SAXS/Reduction/sone_Run10_AcOH_RampT62_ctr17_scan1_0000.dat\n",
      "Processing SAXS file: /Users/vsomani/Documents/SWAXS_data_reduction_correction_Analysis/larger_test/2D/SAXS/sone_Run10_AcOH_RampT62_ctr17_scan1_0001.raw\n",
      "  I0: 21.064, Bstop: 4.728, Trans_factor: 4.728, Trans_ratio: 0.2245, Normalization: 99.596\n",
      "  Saved to: /Users/vsomani/Documents/SWAXS_data_reduction_correction_Analysis/larger_test/1D/SAXS/Reduction/sone_Run10_AcOH_RampT62_ctr17_scan1_0001.dat\n",
      "Processing SAXS file: /Users/vsomani/Documents/SWAXS_data_reduction_correction_Analysis/larger_test/2D/SAXS/sone_Run10_AcOH_RampT62_ctr17_scan1_0002.raw\n",
      "  I0: 21.061, Bstop: 4.728, Trans_factor: 4.728, Trans_ratio: 0.2245, Normalization: 99.568\n",
      "  Saved to: /Users/vsomani/Documents/SWAXS_data_reduction_correction_Analysis/larger_test/1D/SAXS/Reduction/sone_Run10_AcOH_RampT62_ctr17_scan1_0002.dat\n",
      "Processing SAXS file: /Users/vsomani/Documents/SWAXS_data_reduction_correction_Analysis/larger_test/2D/SAXS/sone_Run10_AcOH_RampT65_ctr18_scan1_0000.raw\n",
      "  I0: 21.031, Bstop: 4.728, Trans_factor: 4.728, Trans_ratio: 0.2248, Normalization: 99.430\n",
      "  Saved to: /Users/vsomani/Documents/SWAXS_data_reduction_correction_Analysis/larger_test/1D/SAXS/Reduction/sone_Run10_AcOH_RampT65_ctr18_scan1_0000.dat\n",
      "Processing SAXS file: /Users/vsomani/Documents/SWAXS_data_reduction_correction_Analysis/larger_test/2D/SAXS/sone_Run10_AcOH_RampT65_ctr18_scan1_0001.raw\n",
      "  I0: 20.979, Bstop: 4.718, Trans_factor: 4.718, Trans_ratio: 0.2249, Normalization: 98.987\n",
      "  Saved to: /Users/vsomani/Documents/SWAXS_data_reduction_correction_Analysis/larger_test/1D/SAXS/Reduction/sone_Run10_AcOH_RampT65_ctr18_scan1_0001.dat\n",
      "Processing SAXS file: /Users/vsomani/Documents/SWAXS_data_reduction_correction_Analysis/larger_test/2D/SAXS/sone_Run10_AcOH_RampT65_ctr18_scan1_0002.raw\n"
     ]
    },
    {
     "name": "stderr",
     "output_type": "stream",
     "text": [
      "WARNING:pyFAI.io:Destination file /Users/vsomani/Documents/SWAXS_data_reduction_correction_Analysis/larger_test/1D/SAXS/Reduction/sone_Run10_AcOH_RampT65_ctr18_scan1_0002.dat exists\n",
      "WARNING:pyFAI.io:Destination file /Users/vsomani/Documents/SWAXS_data_reduction_correction_Analysis/larger_test/1D/SAXS/Reduction/sone_Run10_AcOH_RampT67_ctr19_scan1_0000.dat exists\n",
      "WARNING:pyFAI.io:Destination file /Users/vsomani/Documents/SWAXS_data_reduction_correction_Analysis/larger_test/1D/SAXS/Reduction/sone_Run10_AcOH_RampT67_ctr19_scan1_0001.dat exists\n"
     ]
    },
    {
     "name": "stdout",
     "output_type": "stream",
     "text": [
      "  I0: 21.017, Bstop: 4.726, Trans_factor: 4.726, Trans_ratio: 0.2249, Normalization: 99.330\n",
      "  Saved to: /Users/vsomani/Documents/SWAXS_data_reduction_correction_Analysis/larger_test/1D/SAXS/Reduction/sone_Run10_AcOH_RampT65_ctr18_scan1_0002.dat\n",
      "Processing SAXS file: /Users/vsomani/Documents/SWAXS_data_reduction_correction_Analysis/larger_test/2D/SAXS/sone_Run10_AcOH_RampT67_ctr19_scan1_0000.raw\n",
      "  I0: 21.012, Bstop: 4.715, Trans_factor: 4.715, Trans_ratio: 0.2244, Normalization: 99.071\n",
      "  Saved to: /Users/vsomani/Documents/SWAXS_data_reduction_correction_Analysis/larger_test/1D/SAXS/Reduction/sone_Run10_AcOH_RampT67_ctr19_scan1_0000.dat\n",
      "Processing SAXS file: /Users/vsomani/Documents/SWAXS_data_reduction_correction_Analysis/larger_test/2D/SAXS/sone_Run10_AcOH_RampT67_ctr19_scan1_0001.raw\n",
      "  I0: 20.923, Bstop: 4.721, Trans_factor: 4.721, Trans_ratio: 0.2256, Normalization: 98.781\n",
      "  Saved to: /Users/vsomani/Documents/SWAXS_data_reduction_correction_Analysis/larger_test/1D/SAXS/Reduction/sone_Run10_AcOH_RampT67_ctr19_scan1_0001.dat\n",
      "Processing SAXS file: /Users/vsomani/Documents/SWAXS_data_reduction_correction_Analysis/larger_test/2D/SAXS/sone_Run10_AcOH_RampT67_ctr19_scan1_0002.raw\n",
      "  I0: 20.932, Bstop: 4.712, Trans_factor: 4.712, Trans_ratio: 0.2251, Normalization: 98.642\n"
     ]
    },
    {
     "name": "stderr",
     "output_type": "stream",
     "text": [
      "WARNING:pyFAI.io:Destination file /Users/vsomani/Documents/SWAXS_data_reduction_correction_Analysis/larger_test/1D/SAXS/Reduction/sone_Run10_AcOH_RampT67_ctr19_scan1_0002.dat exists\n",
      "WARNING:pyFAI.io:Destination file /Users/vsomani/Documents/SWAXS_data_reduction_correction_Analysis/larger_test/1D/SAXS/Reduction/sone_Run10_AcOH_RampT70_ctr20_scan1_0000.dat exists\n",
      "WARNING:pyFAI.io:Destination file /Users/vsomani/Documents/SWAXS_data_reduction_correction_Analysis/larger_test/1D/SAXS/Reduction/sone_Run10_AcOH_RampT70_ctr20_scan1_0001.dat exists\n"
     ]
    },
    {
     "name": "stdout",
     "output_type": "stream",
     "text": [
      "  Saved to: /Users/vsomani/Documents/SWAXS_data_reduction_correction_Analysis/larger_test/1D/SAXS/Reduction/sone_Run10_AcOH_RampT67_ctr19_scan1_0002.dat\n",
      "Processing SAXS file: /Users/vsomani/Documents/SWAXS_data_reduction_correction_Analysis/larger_test/2D/SAXS/sone_Run10_AcOH_RampT70_ctr20_scan1_0000.raw\n",
      "  I0: 20.917, Bstop: 4.712, Trans_factor: 4.712, Trans_ratio: 0.2253, Normalization: 98.558\n",
      "  Saved to: /Users/vsomani/Documents/SWAXS_data_reduction_correction_Analysis/larger_test/1D/SAXS/Reduction/sone_Run10_AcOH_RampT70_ctr20_scan1_0000.dat\n",
      "Processing SAXS file: /Users/vsomani/Documents/SWAXS_data_reduction_correction_Analysis/larger_test/2D/SAXS/sone_Run10_AcOH_RampT70_ctr20_scan1_0001.raw\n",
      "  I0: 20.817, Bstop: 4.705, Trans_factor: 4.705, Trans_ratio: 0.2260, Normalization: 97.938\n",
      "  Saved to: /Users/vsomani/Documents/SWAXS_data_reduction_correction_Analysis/larger_test/1D/SAXS/Reduction/sone_Run10_AcOH_RampT70_ctr20_scan1_0001.dat\n",
      "Processing SAXS file: /Users/vsomani/Documents/SWAXS_data_reduction_correction_Analysis/larger_test/2D/SAXS/sone_Run10_AcOH_RampT70_ctr20_scan1_0002.raw\n",
      "  I0: 20.852, Bstop: 4.706, Trans_factor: 4.706, Trans_ratio: 0.2257, Normalization: 98.135\n"
     ]
    },
    {
     "name": "stderr",
     "output_type": "stream",
     "text": [
      "WARNING:pyFAI.io:Destination file /Users/vsomani/Documents/SWAXS_data_reduction_correction_Analysis/larger_test/1D/SAXS/Reduction/sone_Run10_AcOH_RampT70_ctr20_scan1_0002.dat exists\n",
      "WARNING:pyFAI.io:Destination file /Users/vsomani/Documents/SWAXS_data_reduction_correction_Analysis/larger_test/1D/SAXS/Reduction/sone_Run10_AcOH_RampT72_ctr21_scan1_0000.dat exists\n",
      "WARNING:pyFAI.io:Destination file /Users/vsomani/Documents/SWAXS_data_reduction_correction_Analysis/larger_test/1D/SAXS/Reduction/sone_Run10_AcOH_RampT72_ctr21_scan1_0001.dat exists\n",
      "WARNING:pyFAI.io:Destination file /Users/vsomani/Documents/SWAXS_data_reduction_correction_Analysis/larger_test/1D/SAXS/Reduction/sone_Run10_AcOH_RampT72_ctr21_scan1_0002.dat exists\n"
     ]
    },
    {
     "name": "stdout",
     "output_type": "stream",
     "text": [
      "  Saved to: /Users/vsomani/Documents/SWAXS_data_reduction_correction_Analysis/larger_test/1D/SAXS/Reduction/sone_Run10_AcOH_RampT70_ctr20_scan1_0002.dat\n",
      "Processing SAXS file: /Users/vsomani/Documents/SWAXS_data_reduction_correction_Analysis/larger_test/2D/SAXS/sone_Run10_AcOH_RampT72_ctr21_scan1_0000.raw\n",
      "  I0: 20.876, Bstop: 4.696, Trans_factor: 4.696, Trans_ratio: 0.2249, Normalization: 98.032\n",
      "  Saved to: /Users/vsomani/Documents/SWAXS_data_reduction_correction_Analysis/larger_test/1D/SAXS/Reduction/sone_Run10_AcOH_RampT72_ctr21_scan1_0000.dat\n",
      "Processing SAXS file: /Users/vsomani/Documents/SWAXS_data_reduction_correction_Analysis/larger_test/2D/SAXS/sone_Run10_AcOH_RampT72_ctr21_scan1_0001.raw\n",
      "  I0: 21.079, Bstop: 4.756, Trans_factor: 4.756, Trans_ratio: 0.2256, Normalization: 100.250\n",
      "  Saved to: /Users/vsomani/Documents/SWAXS_data_reduction_correction_Analysis/larger_test/1D/SAXS/Reduction/sone_Run10_AcOH_RampT72_ctr21_scan1_0001.dat\n",
      "Processing SAXS file: /Users/vsomani/Documents/SWAXS_data_reduction_correction_Analysis/larger_test/2D/SAXS/sone_Run10_AcOH_RampT72_ctr21_scan1_0002.raw\n",
      "  I0: 21.121, Bstop: 4.754, Trans_factor: 4.754, Trans_ratio: 0.2251, Normalization: 100.404\n",
      "  Saved to: /Users/vsomani/Documents/SWAXS_data_reduction_correction_Analysis/larger_test/1D/SAXS/Reduction/sone_Run10_AcOH_RampT72_ctr21_scan1_0002.dat\n",
      "Processing SAXS file: /Users/vsomani/Documents/SWAXS_data_reduction_correction_Analysis/larger_test/2D/SAXS/sone_Run10_AcOH_RampT75_ctr22_scan1_0000.raw\n",
      "  I0: 21.032, Bstop: 4.742, Trans_factor: 4.742, Trans_ratio: 0.2255, Normalization: 99.731\n"
     ]
    },
    {
     "name": "stderr",
     "output_type": "stream",
     "text": [
      "WARNING:pyFAI.io:Destination file /Users/vsomani/Documents/SWAXS_data_reduction_correction_Analysis/larger_test/1D/SAXS/Reduction/sone_Run10_AcOH_RampT75_ctr22_scan1_0000.dat exists\n",
      "WARNING:pyFAI.io:Destination file /Users/vsomani/Documents/SWAXS_data_reduction_correction_Analysis/larger_test/1D/SAXS/Reduction/sone_Run10_AcOH_RampT75_ctr22_scan1_0001.dat exists\n",
      "WARNING:pyFAI.io:Destination file /Users/vsomani/Documents/SWAXS_data_reduction_correction_Analysis/larger_test/1D/SAXS/Reduction/sone_Run10_AcOH_RampT75_ctr22_scan1_0002.dat exists\n",
      "WARNING:pyFAI.io:Destination file /Users/vsomani/Documents/SWAXS_data_reduction_correction_Analysis/larger_test/1D/SAXS/Reduction/sone_Run10_AcOH_RampT77_ctr23_scan1_0000.dat exists\n",
      "WARNING:pyFAI.io:Destination file /Users/vsomani/Documents/SWAXS_data_reduction_correction_Analysis/larger_test/1D/SAXS/Reduction/sone_Run10_AcOH_RampT77_ctr23_scan1_0001.dat exists\n"
     ]
    },
    {
     "name": "stdout",
     "output_type": "stream",
     "text": [
      "  Saved to: /Users/vsomani/Documents/SWAXS_data_reduction_correction_Analysis/larger_test/1D/SAXS/Reduction/sone_Run10_AcOH_RampT75_ctr22_scan1_0000.dat\n",
      "Processing SAXS file: /Users/vsomani/Documents/SWAXS_data_reduction_correction_Analysis/larger_test/2D/SAXS/sone_Run10_AcOH_RampT75_ctr22_scan1_0001.raw\n",
      "  I0: 20.983, Bstop: 4.744, Trans_factor: 4.744, Trans_ratio: 0.2261, Normalization: 99.551\n",
      "  Saved to: /Users/vsomani/Documents/SWAXS_data_reduction_correction_Analysis/larger_test/1D/SAXS/Reduction/sone_Run10_AcOH_RampT75_ctr22_scan1_0001.dat\n",
      "Processing SAXS file: /Users/vsomani/Documents/SWAXS_data_reduction_correction_Analysis/larger_test/2D/SAXS/sone_Run10_AcOH_RampT75_ctr22_scan1_0002.raw\n",
      "  I0: 21.016, Bstop: 4.737, Trans_factor: 4.737, Trans_ratio: 0.2254, Normalization: 99.555\n",
      "  Saved to: /Users/vsomani/Documents/SWAXS_data_reduction_correction_Analysis/larger_test/1D/SAXS/Reduction/sone_Run10_AcOH_RampT75_ctr22_scan1_0002.dat\n",
      "Processing SAXS file: /Users/vsomani/Documents/SWAXS_data_reduction_correction_Analysis/larger_test/2D/SAXS/sone_Run10_AcOH_RampT77_ctr23_scan1_0000.raw\n",
      "  I0: 20.966, Bstop: 4.732, Trans_factor: 4.732, Trans_ratio: 0.2257, Normalization: 99.217\n",
      "  Saved to: /Users/vsomani/Documents/SWAXS_data_reduction_correction_Analysis/larger_test/1D/SAXS/Reduction/sone_Run10_AcOH_RampT77_ctr23_scan1_0000.dat\n",
      "Processing SAXS file: /Users/vsomani/Documents/SWAXS_data_reduction_correction_Analysis/larger_test/2D/SAXS/sone_Run10_AcOH_RampT77_ctr23_scan1_0001.raw\n",
      "  I0: 20.946, Bstop: 4.729, Trans_factor: 4.729, Trans_ratio: 0.2258, Normalization: 99.062\n",
      "  Saved to: /Users/vsomani/Documents/SWAXS_data_reduction_correction_Analysis/larger_test/1D/SAXS/Reduction/sone_Run10_AcOH_RampT77_ctr23_scan1_0001.dat\n",
      "Processing SAXS file: /Users/vsomani/Documents/SWAXS_data_reduction_correction_Analysis/larger_test/2D/SAXS/sone_Run10_AcOH_RampT77_ctr23_scan1_0002.raw\n",
      "  I0: 20.964, Bstop: 4.732, Trans_factor: 4.732, Trans_ratio: 0.2257, Normalization: 99.198\n"
     ]
    },
    {
     "name": "stderr",
     "output_type": "stream",
     "text": [
      "WARNING:pyFAI.io:Destination file /Users/vsomani/Documents/SWAXS_data_reduction_correction_Analysis/larger_test/1D/SAXS/Reduction/sone_Run10_AcOH_RampT77_ctr23_scan1_0002.dat exists\n",
      "WARNING:pyFAI.io:Destination file /Users/vsomani/Documents/SWAXS_data_reduction_correction_Analysis/larger_test/1D/SAXS/Reduction/sone_Run10_AcOH_RampT80_ctr24_scan1_0000.dat exists\n",
      "WARNING:pyFAI.io:Destination file /Users/vsomani/Documents/SWAXS_data_reduction_correction_Analysis/larger_test/1D/SAXS/Reduction/sone_Run10_AcOH_RampT80_ctr24_scan1_0001.dat exists\n",
      "WARNING:pyFAI.io:Destination file /Users/vsomani/Documents/SWAXS_data_reduction_correction_Analysis/larger_test/1D/SAXS/Reduction/sone_Run10_AcOH_RampT80_ctr24_scan1_0002.dat exists\n"
     ]
    },
    {
     "name": "stdout",
     "output_type": "stream",
     "text": [
      "  Saved to: /Users/vsomani/Documents/SWAXS_data_reduction_correction_Analysis/larger_test/1D/SAXS/Reduction/sone_Run10_AcOH_RampT77_ctr23_scan1_0002.dat\n",
      "Processing SAXS file: /Users/vsomani/Documents/SWAXS_data_reduction_correction_Analysis/larger_test/2D/SAXS/sone_Run10_AcOH_RampT80_ctr24_scan1_0000.raw\n",
      "  I0: 20.967, Bstop: 4.727, Trans_factor: 4.727, Trans_ratio: 0.2255, Normalization: 99.119\n",
      "  Saved to: /Users/vsomani/Documents/SWAXS_data_reduction_correction_Analysis/larger_test/1D/SAXS/Reduction/sone_Run10_AcOH_RampT80_ctr24_scan1_0000.dat\n",
      "Processing SAXS file: /Users/vsomani/Documents/SWAXS_data_reduction_correction_Analysis/larger_test/2D/SAXS/sone_Run10_AcOH_RampT80_ctr24_scan1_0001.raw\n",
      "  I0: 20.857, Bstop: 4.711, Trans_factor: 4.711, Trans_ratio: 0.2259, Normalization: 98.253\n",
      "  Saved to: /Users/vsomani/Documents/SWAXS_data_reduction_correction_Analysis/larger_test/1D/SAXS/Reduction/sone_Run10_AcOH_RampT80_ctr24_scan1_0001.dat\n",
      "Processing SAXS file: /Users/vsomani/Documents/SWAXS_data_reduction_correction_Analysis/larger_test/2D/SAXS/sone_Run10_AcOH_RampT80_ctr24_scan1_0002.raw\n",
      "  I0: 20.973, Bstop: 4.743, Trans_factor: 4.743, Trans_ratio: 0.2261, Normalization: 99.471\n",
      "  Saved to: /Users/vsomani/Documents/SWAXS_data_reduction_correction_Analysis/larger_test/1D/SAXS/Reduction/sone_Run10_AcOH_RampT80_ctr24_scan1_0002.dat\n",
      "Processing SAXS file: /Users/vsomani/Documents/SWAXS_data_reduction_correction_Analysis/larger_test/2D/SAXS/sone_Run10_AcOH_RampT82_ctr25_scan1_0000.raw\n",
      "  I0: 21.124, Bstop: 4.771, Trans_factor: 4.771, Trans_ratio: 0.2258, Normalization: 100.777\n"
     ]
    },
    {
     "name": "stderr",
     "output_type": "stream",
     "text": [
      "WARNING:pyFAI.io:Destination file /Users/vsomani/Documents/SWAXS_data_reduction_correction_Analysis/larger_test/1D/SAXS/Reduction/sone_Run10_AcOH_RampT82_ctr25_scan1_0000.dat exists\n",
      "WARNING:pyFAI.io:Destination file /Users/vsomani/Documents/SWAXS_data_reduction_correction_Analysis/larger_test/1D/SAXS/Reduction/sone_Run10_AcOH_RampT82_ctr25_scan1_0001.dat exists\n",
      "WARNING:pyFAI.io:Destination file /Users/vsomani/Documents/SWAXS_data_reduction_correction_Analysis/larger_test/1D/SAXS/Reduction/sone_Run10_AcOH_RampT82_ctr25_scan1_0002.dat exists\n",
      "WARNING:pyFAI.io:Destination file /Users/vsomani/Documents/SWAXS_data_reduction_correction_Analysis/larger_test/1D/SAXS/Reduction/sone_Run10_AcOH_RampT85_ctr26_scan1_0000.dat exists\n",
      "WARNING:pyFAI.io:Destination file /Users/vsomani/Documents/SWAXS_data_reduction_correction_Analysis/larger_test/1D/SAXS/Reduction/sone_Run10_AcOH_RampT85_ctr26_scan1_0001.dat exists\n"
     ]
    },
    {
     "name": "stdout",
     "output_type": "stream",
     "text": [
      "  Saved to: /Users/vsomani/Documents/SWAXS_data_reduction_correction_Analysis/larger_test/1D/SAXS/Reduction/sone_Run10_AcOH_RampT82_ctr25_scan1_0000.dat\n",
      "Processing SAXS file: /Users/vsomani/Documents/SWAXS_data_reduction_correction_Analysis/larger_test/2D/SAXS/sone_Run10_AcOH_RampT82_ctr25_scan1_0001.raw\n",
      "  I0: 21.036, Bstop: 4.762, Trans_factor: 4.762, Trans_ratio: 0.2264, Normalization: 100.174\n",
      "  Saved to: /Users/vsomani/Documents/SWAXS_data_reduction_correction_Analysis/larger_test/1D/SAXS/Reduction/sone_Run10_AcOH_RampT82_ctr25_scan1_0001.dat\n",
      "Processing SAXS file: /Users/vsomani/Documents/SWAXS_data_reduction_correction_Analysis/larger_test/2D/SAXS/sone_Run10_AcOH_RampT82_ctr25_scan1_0002.raw\n",
      "  I0: 21.012, Bstop: 4.759, Trans_factor: 4.759, Trans_ratio: 0.2265, Normalization: 99.992\n",
      "  Saved to: /Users/vsomani/Documents/SWAXS_data_reduction_correction_Analysis/larger_test/1D/SAXS/Reduction/sone_Run10_AcOH_RampT82_ctr25_scan1_0002.dat\n",
      "Processing SAXS file: /Users/vsomani/Documents/SWAXS_data_reduction_correction_Analysis/larger_test/2D/SAXS/sone_Run10_AcOH_RampT85_ctr26_scan1_0000.raw\n",
      "  I0: 21.035, Bstop: 4.759, Trans_factor: 4.759, Trans_ratio: 0.2263, Normalization: 100.113\n",
      "  Saved to: /Users/vsomani/Documents/SWAXS_data_reduction_correction_Analysis/larger_test/1D/SAXS/Reduction/sone_Run10_AcOH_RampT85_ctr26_scan1_0000.dat\n",
      "Processing SAXS file: /Users/vsomani/Documents/SWAXS_data_reduction_correction_Analysis/larger_test/2D/SAXS/sone_Run10_AcOH_RampT85_ctr26_scan1_0001.raw\n",
      "  I0: 20.913, Bstop: 4.748, Trans_factor: 4.748, Trans_ratio: 0.2270, Normalization: 99.301\n",
      "  Saved to: /Users/vsomani/Documents/SWAXS_data_reduction_correction_Analysis/larger_test/1D/SAXS/Reduction/sone_Run10_AcOH_RampT85_ctr26_scan1_0001.dat\n",
      "Processing SAXS file: /Users/vsomani/Documents/SWAXS_data_reduction_correction_Analysis/larger_test/2D/SAXS/sone_Run10_AcOH_RampT85_ctr26_scan1_0002.raw\n",
      "  I0: 20.961, Bstop: 4.752, Trans_factor: 4.752, Trans_ratio: 0.2267, Normalization: 99.618\n"
     ]
    },
    {
     "name": "stderr",
     "output_type": "stream",
     "text": [
      "WARNING:pyFAI.io:Destination file /Users/vsomani/Documents/SWAXS_data_reduction_correction_Analysis/larger_test/1D/SAXS/Reduction/sone_Run10_AcOH_RampT85_ctr26_scan1_0002.dat exists\n",
      "WARNING:pyFAI.io:Destination file /Users/vsomani/Documents/SWAXS_data_reduction_correction_Analysis/larger_test/1D/SAXS/Reduction/sone_Run10_AcOH_RampT87_ctr27_scan1_0000.dat exists\n",
      "WARNING:pyFAI.io:Destination file /Users/vsomani/Documents/SWAXS_data_reduction_correction_Analysis/larger_test/1D/SAXS/Reduction/sone_Run10_AcOH_RampT87_ctr27_scan1_0001.dat exists\n",
      "WARNING:pyFAI.io:Destination file /Users/vsomani/Documents/SWAXS_data_reduction_correction_Analysis/larger_test/1D/SAXS/Reduction/sone_Run10_AcOH_RampT87_ctr27_scan1_0002.dat exists\n",
      "WARNING:pyFAI.io:Destination file /Users/vsomani/Documents/SWAXS_data_reduction_correction_Analysis/larger_test/1D/SAXS/Reduction/sone_Run10_AcOH_RampT90_ctr28_scan1_0000.dat exists\n"
     ]
    },
    {
     "name": "stdout",
     "output_type": "stream",
     "text": [
      "  Saved to: /Users/vsomani/Documents/SWAXS_data_reduction_correction_Analysis/larger_test/1D/SAXS/Reduction/sone_Run10_AcOH_RampT85_ctr26_scan1_0002.dat\n",
      "Processing SAXS file: /Users/vsomani/Documents/SWAXS_data_reduction_correction_Analysis/larger_test/2D/SAXS/sone_Run10_AcOH_RampT87_ctr27_scan1_0000.raw\n",
      "  I0: 20.943, Bstop: 4.748, Trans_factor: 4.748, Trans_ratio: 0.2267, Normalization: 99.439\n",
      "  Saved to: /Users/vsomani/Documents/SWAXS_data_reduction_correction_Analysis/larger_test/1D/SAXS/Reduction/sone_Run10_AcOH_RampT87_ctr27_scan1_0000.dat\n",
      "Processing SAXS file: /Users/vsomani/Documents/SWAXS_data_reduction_correction_Analysis/larger_test/2D/SAXS/sone_Run10_AcOH_RampT87_ctr27_scan1_0001.raw\n",
      "  I0: 20.837, Bstop: 4.732, Trans_factor: 4.732, Trans_ratio: 0.2271, Normalization: 98.611\n",
      "  Saved to: /Users/vsomani/Documents/SWAXS_data_reduction_correction_Analysis/larger_test/1D/SAXS/Reduction/sone_Run10_AcOH_RampT87_ctr27_scan1_0001.dat\n",
      "Processing SAXS file: /Users/vsomani/Documents/SWAXS_data_reduction_correction_Analysis/larger_test/2D/SAXS/sone_Run10_AcOH_RampT87_ctr27_scan1_0002.raw\n",
      "  I0: 20.895, Bstop: 4.729, Trans_factor: 4.729, Trans_ratio: 0.2263, Normalization: 98.803\n",
      "  Saved to: /Users/vsomani/Documents/SWAXS_data_reduction_correction_Analysis/larger_test/1D/SAXS/Reduction/sone_Run10_AcOH_RampT87_ctr27_scan1_0002.dat\n",
      "Processing SAXS file: /Users/vsomani/Documents/SWAXS_data_reduction_correction_Analysis/larger_test/2D/SAXS/sone_Run10_AcOH_RampT90_ctr28_scan1_0000.raw\n",
      "  I0: 20.849, Bstop: 4.733, Trans_factor: 4.733, Trans_ratio: 0.2270, Normalization: 98.668\n",
      "  Saved to: /Users/vsomani/Documents/SWAXS_data_reduction_correction_Analysis/larger_test/1D/SAXS/Reduction/sone_Run10_AcOH_RampT90_ctr28_scan1_0000.dat\n",
      "Processing SAXS file: /Users/vsomani/Documents/SWAXS_data_reduction_correction_Analysis/larger_test/2D/SAXS/sone_Run10_AcOH_RampT90_ctr28_scan1_0001.raw\n",
      "  I0: 21.060, Bstop: 4.787, Trans_factor: 4.787, Trans_ratio: 0.2273, Normalization: 100.820\n"
     ]
    },
    {
     "name": "stderr",
     "output_type": "stream",
     "text": [
      "WARNING:pyFAI.io:Destination file /Users/vsomani/Documents/SWAXS_data_reduction_correction_Analysis/larger_test/1D/SAXS/Reduction/sone_Run10_AcOH_RampT90_ctr28_scan1_0001.dat exists\n",
      "WARNING:pyFAI.io:Destination file /Users/vsomani/Documents/SWAXS_data_reduction_correction_Analysis/larger_test/1D/SAXS/Reduction/sone_Run10_AcOH_RampT90_ctr28_scan1_0002.dat exists\n",
      "WARNING:pyFAI.io:Destination file /Users/vsomani/Documents/SWAXS_data_reduction_correction_Analysis/larger_test/1D/SAXS/Reduction/sone_Run10_AcOH_RampT92_ctr29_scan1_0000.dat exists\n",
      "WARNING:pyFAI.io:Destination file /Users/vsomani/Documents/SWAXS_data_reduction_correction_Analysis/larger_test/1D/SAXS/Reduction/sone_Run10_AcOH_RampT92_ctr29_scan1_0001.dat exists\n",
      "WARNING:pyFAI.io:Destination file /Users/vsomani/Documents/SWAXS_data_reduction_correction_Analysis/larger_test/1D/SAXS/Reduction/sone_Run10_AcOH_RampT92_ctr29_scan1_0002.dat exists\n"
     ]
    },
    {
     "name": "stdout",
     "output_type": "stream",
     "text": [
      "  Saved to: /Users/vsomani/Documents/SWAXS_data_reduction_correction_Analysis/larger_test/1D/SAXS/Reduction/sone_Run10_AcOH_RampT90_ctr28_scan1_0001.dat\n",
      "Processing SAXS file: /Users/vsomani/Documents/SWAXS_data_reduction_correction_Analysis/larger_test/2D/SAXS/sone_Run10_AcOH_RampT90_ctr28_scan1_0002.raw\n",
      "  I0: 21.082, Bstop: 4.785, Trans_factor: 4.785, Trans_ratio: 0.2270, Normalization: 100.884\n",
      "  Saved to: /Users/vsomani/Documents/SWAXS_data_reduction_correction_Analysis/larger_test/1D/SAXS/Reduction/sone_Run10_AcOH_RampT90_ctr28_scan1_0002.dat\n",
      "Processing SAXS file: /Users/vsomani/Documents/SWAXS_data_reduction_correction_Analysis/larger_test/2D/SAXS/sone_Run10_AcOH_RampT92_ctr29_scan1_0000.raw\n",
      "  I0: 21.070, Bstop: 4.780, Trans_factor: 4.780, Trans_ratio: 0.2269, Normalization: 100.714\n",
      "  Saved to: /Users/vsomani/Documents/SWAXS_data_reduction_correction_Analysis/larger_test/1D/SAXS/Reduction/sone_Run10_AcOH_RampT92_ctr29_scan1_0000.dat\n",
      "Processing SAXS file: /Users/vsomani/Documents/SWAXS_data_reduction_correction_Analysis/larger_test/2D/SAXS/sone_Run10_AcOH_RampT92_ctr29_scan1_0001.raw\n",
      "  I0: 20.969, Bstop: 4.764, Trans_factor: 4.764, Trans_ratio: 0.2272, Normalization: 99.887\n",
      "  Saved to: /Users/vsomani/Documents/SWAXS_data_reduction_correction_Analysis/larger_test/1D/SAXS/Reduction/sone_Run10_AcOH_RampT92_ctr29_scan1_0001.dat\n",
      "Processing SAXS file: /Users/vsomani/Documents/SWAXS_data_reduction_correction_Analysis/larger_test/2D/SAXS/sone_Run10_AcOH_RampT92_ctr29_scan1_0002.raw\n",
      "  I0: 20.963, Bstop: 4.759, Trans_factor: 4.759, Trans_ratio: 0.2270, Normalization: 99.763\n",
      "  Saved to: /Users/vsomani/Documents/SWAXS_data_reduction_correction_Analysis/larger_test/1D/SAXS/Reduction/sone_Run10_AcOH_RampT92_ctr29_scan1_0002.dat\n",
      "Processing SAXS file: /Users/vsomani/Documents/SWAXS_data_reduction_correction_Analysis/larger_test/2D/SAXS/sone_Run10_AcOH_RampT95_ctr30_scan1_0000.raw\n"
     ]
    },
    {
     "name": "stderr",
     "output_type": "stream",
     "text": [
      "WARNING:pyFAI.io:Destination file /Users/vsomani/Documents/SWAXS_data_reduction_correction_Analysis/larger_test/1D/SAXS/Reduction/sone_Run10_AcOH_RampT95_ctr30_scan1_0000.dat exists\n",
      "WARNING:pyFAI.io:Destination file /Users/vsomani/Documents/SWAXS_data_reduction_correction_Analysis/larger_test/1D/SAXS/Reduction/sone_Run10_AcOH_RampT95_ctr30_scan1_0001.dat exists\n",
      "WARNING:pyFAI.io:Destination file /Users/vsomani/Documents/SWAXS_data_reduction_correction_Analysis/larger_test/1D/SAXS/Reduction/sone_Run10_AcOH_RampT95_ctr30_scan1_0002.dat exists\n"
     ]
    },
    {
     "name": "stdout",
     "output_type": "stream",
     "text": [
      "  I0: 20.993, Bstop: 4.757, Trans_factor: 4.757, Trans_ratio: 0.2266, Normalization: 99.858\n",
      "  Saved to: /Users/vsomani/Documents/SWAXS_data_reduction_correction_Analysis/larger_test/1D/SAXS/Reduction/sone_Run10_AcOH_RampT95_ctr30_scan1_0000.dat\n",
      "Processing SAXS file: /Users/vsomani/Documents/SWAXS_data_reduction_correction_Analysis/larger_test/2D/SAXS/sone_Run10_AcOH_RampT95_ctr30_scan1_0001.raw\n",
      "  I0: 20.895, Bstop: 4.754, Trans_factor: 4.754, Trans_ratio: 0.2275, Normalization: 99.336\n",
      "  Saved to: /Users/vsomani/Documents/SWAXS_data_reduction_correction_Analysis/larger_test/1D/SAXS/Reduction/sone_Run10_AcOH_RampT95_ctr30_scan1_0001.dat\n",
      "Processing SAXS file: /Users/vsomani/Documents/SWAXS_data_reduction_correction_Analysis/larger_test/2D/SAXS/sone_Run10_AcOH_RampT95_ctr30_scan1_0002.raw\n",
      "  I0: 20.910, Bstop: 4.743, Trans_factor: 4.743, Trans_ratio: 0.2268, Normalization: 99.181\n"
     ]
    },
    {
     "name": "stderr",
     "output_type": "stream",
     "text": [
      "WARNING:pyFAI.io:Destination file /Users/vsomani/Documents/SWAXS_data_reduction_correction_Analysis/larger_test/1D/SAXS/Reduction/sone_Run10_AcOH_RampT97_ctr31_scan1_0000.dat exists\n",
      "WARNING:pyFAI.io:Destination file /Users/vsomani/Documents/SWAXS_data_reduction_correction_Analysis/larger_test/1D/SAXS/Reduction/sone_Run10_AcOH_RampT97_ctr31_scan1_0001.dat exists\n",
      "WARNING:pyFAI.io:Destination file /Users/vsomani/Documents/SWAXS_data_reduction_correction_Analysis/larger_test/1D/SAXS/Reduction/sone_Run10_AcOH_RampT97_ctr31_scan1_0002.dat exists\n",
      "WARNING:pyFAI.io:Destination file /Users/vsomani/Documents/SWAXS_data_reduction_correction_Analysis/larger_test/1D/SAXS/Reduction/sone_Run11_PS_AcOH_Cooling_T10_ctr0_scan1_0000.dat exists\n"
     ]
    },
    {
     "name": "stdout",
     "output_type": "stream",
     "text": [
      "  Saved to: /Users/vsomani/Documents/SWAXS_data_reduction_correction_Analysis/larger_test/1D/SAXS/Reduction/sone_Run10_AcOH_RampT95_ctr30_scan1_0002.dat\n",
      "Processing SAXS file: /Users/vsomani/Documents/SWAXS_data_reduction_correction_Analysis/larger_test/2D/SAXS/sone_Run10_AcOH_RampT97_ctr31_scan1_0000.raw\n",
      "  I0: 20.922, Bstop: 4.747, Trans_factor: 4.747, Trans_ratio: 0.2269, Normalization: 99.307\n",
      "  Saved to: /Users/vsomani/Documents/SWAXS_data_reduction_correction_Analysis/larger_test/1D/SAXS/Reduction/sone_Run10_AcOH_RampT97_ctr31_scan1_0000.dat\n",
      "Processing SAXS file: /Users/vsomani/Documents/SWAXS_data_reduction_correction_Analysis/larger_test/2D/SAXS/sone_Run10_AcOH_RampT97_ctr31_scan1_0001.raw\n",
      "  I0: 21.064, Bstop: 4.790, Trans_factor: 4.790, Trans_ratio: 0.2274, Normalization: 100.897\n",
      "  Saved to: /Users/vsomani/Documents/SWAXS_data_reduction_correction_Analysis/larger_test/1D/SAXS/Reduction/sone_Run10_AcOH_RampT97_ctr31_scan1_0001.dat\n",
      "Processing SAXS file: /Users/vsomani/Documents/SWAXS_data_reduction_correction_Analysis/larger_test/2D/SAXS/sone_Run10_AcOH_RampT97_ctr31_scan1_0002.raw\n",
      "  I0: 21.112, Bstop: 4.794, Trans_factor: 4.794, Trans_ratio: 0.2271, Normalization: 101.221\n",
      "  Saved to: /Users/vsomani/Documents/SWAXS_data_reduction_correction_Analysis/larger_test/1D/SAXS/Reduction/sone_Run10_AcOH_RampT97_ctr31_scan1_0002.dat\n",
      "Processing SAXS file: /Users/vsomani/Documents/SWAXS_data_reduction_correction_Analysis/larger_test/2D/SAXS/sone_Run11_PS_AcOH_Cooling_T10_ctr0_scan1_0000.raw\n",
      "  I0: 21.089, Bstop: 5.066, Trans_factor: 5.066, Trans_ratio: 0.2402, Normalization: 106.826\n",
      "  Saved to: /Users/vsomani/Documents/SWAXS_data_reduction_correction_Analysis/larger_test/1D/SAXS/Reduction/sone_Run11_PS_AcOH_Cooling_T10_ctr0_scan1_0000.dat\n",
      "Processing SAXS file: /Users/vsomani/Documents/SWAXS_data_reduction_correction_Analysis/larger_test/2D/SAXS/sone_Run11_PS_AcOH_Cooling_T10_ctr0_scan1_0001.raw\n",
      "  I0: 20.988, Bstop: 5.117, Trans_factor: 5.117, Trans_ratio: 0.2438, Normalization: 107.387\n"
     ]
    },
    {
     "name": "stderr",
     "output_type": "stream",
     "text": [
      "WARNING:pyFAI.io:Destination file /Users/vsomani/Documents/SWAXS_data_reduction_correction_Analysis/larger_test/1D/SAXS/Reduction/sone_Run11_PS_AcOH_Cooling_T10_ctr0_scan1_0001.dat exists\n",
      "WARNING:pyFAI.io:Destination file /Users/vsomani/Documents/SWAXS_data_reduction_correction_Analysis/larger_test/1D/SAXS/Reduction/sone_Run11_PS_AcOH_Cooling_T10_ctr0_scan1_0002.dat exists\n",
      "WARNING:pyFAI.io:Destination file /Users/vsomani/Documents/SWAXS_data_reduction_correction_Analysis/larger_test/1D/SAXS/Reduction/sone_Run11_PS_AcOH_Cooling_T10_ctr1_scan1_0000.dat exists\n",
      "WARNING:pyFAI.io:Destination file /Users/vsomani/Documents/SWAXS_data_reduction_correction_Analysis/larger_test/1D/SAXS/Reduction/sone_Run11_PS_AcOH_Cooling_T10_ctr1_scan1_0001.dat exists\n"
     ]
    },
    {
     "name": "stdout",
     "output_type": "stream",
     "text": [
      "  Saved to: /Users/vsomani/Documents/SWAXS_data_reduction_correction_Analysis/larger_test/1D/SAXS/Reduction/sone_Run11_PS_AcOH_Cooling_T10_ctr0_scan1_0001.dat\n",
      "Processing SAXS file: /Users/vsomani/Documents/SWAXS_data_reduction_correction_Analysis/larger_test/2D/SAXS/sone_Run11_PS_AcOH_Cooling_T10_ctr0_scan1_0002.raw\n",
      "  I0: 21.044, Bstop: 5.104, Trans_factor: 5.104, Trans_ratio: 0.2426, Normalization: 107.411\n",
      "  Saved to: /Users/vsomani/Documents/SWAXS_data_reduction_correction_Analysis/larger_test/1D/SAXS/Reduction/sone_Run11_PS_AcOH_Cooling_T10_ctr0_scan1_0002.dat\n",
      "Processing SAXS file: /Users/vsomani/Documents/SWAXS_data_reduction_correction_Analysis/larger_test/2D/SAXS/sone_Run11_PS_AcOH_Cooling_T10_ctr1_scan1_0000.raw\n",
      "  I0: 21.009, Bstop: 5.072, Trans_factor: 5.072, Trans_ratio: 0.2414, Normalization: 106.570\n",
      "  Saved to: /Users/vsomani/Documents/SWAXS_data_reduction_correction_Analysis/larger_test/1D/SAXS/Reduction/sone_Run11_PS_AcOH_Cooling_T10_ctr1_scan1_0000.dat\n",
      "Processing SAXS file: /Users/vsomani/Documents/SWAXS_data_reduction_correction_Analysis/larger_test/2D/SAXS/sone_Run11_PS_AcOH_Cooling_T10_ctr1_scan1_0001.raw\n",
      "  I0: 20.988, Bstop: 5.069, Trans_factor: 5.069, Trans_ratio: 0.2415, Normalization: 106.397\n",
      "  Saved to: /Users/vsomani/Documents/SWAXS_data_reduction_correction_Analysis/larger_test/1D/SAXS/Reduction/sone_Run11_PS_AcOH_Cooling_T10_ctr1_scan1_0001.dat\n",
      "Processing SAXS file: /Users/vsomani/Documents/SWAXS_data_reduction_correction_Analysis/larger_test/2D/SAXS/sone_Run11_PS_AcOH_Cooling_T10_ctr1_scan1_0002.raw\n",
      "  I0: 21.025, Bstop: 5.062, Trans_factor: 5.062, Trans_ratio: 0.2407, Normalization: 106.424\n"
     ]
    },
    {
     "name": "stderr",
     "output_type": "stream",
     "text": [
      "WARNING:pyFAI.io:Destination file /Users/vsomani/Documents/SWAXS_data_reduction_correction_Analysis/larger_test/1D/SAXS/Reduction/sone_Run11_PS_AcOH_Cooling_T10_ctr1_scan1_0002.dat exists\n",
      "WARNING:pyFAI.io:Destination file /Users/vsomani/Documents/SWAXS_data_reduction_correction_Analysis/larger_test/1D/SAXS/Reduction/sone_Run11_PS_AcOH_Cooling_T10_ctr2_scan1_0000.dat exists\n",
      "WARNING:pyFAI.io:Destination file /Users/vsomani/Documents/SWAXS_data_reduction_correction_Analysis/larger_test/1D/SAXS/Reduction/sone_Run11_PS_AcOH_Cooling_T10_ctr2_scan1_0001.dat exists\n",
      "WARNING:pyFAI.io:Destination file /Users/vsomani/Documents/SWAXS_data_reduction_correction_Analysis/larger_test/1D/SAXS/Reduction/sone_Run11_PS_AcOH_Cooling_T10_ctr2_scan1_0002.dat exists\n",
      "WARNING:pyFAI.io:Destination file /Users/vsomani/Documents/SWAXS_data_reduction_correction_Analysis/larger_test/1D/SAXS/Reduction/sone_Run11_PS_AcOH_Cooling_T10_ctr3_scan1_0000.dat exists\n"
     ]
    },
    {
     "name": "stdout",
     "output_type": "stream",
     "text": [
      "  Saved to: /Users/vsomani/Documents/SWAXS_data_reduction_correction_Analysis/larger_test/1D/SAXS/Reduction/sone_Run11_PS_AcOH_Cooling_T10_ctr1_scan1_0002.dat\n",
      "Processing SAXS file: /Users/vsomani/Documents/SWAXS_data_reduction_correction_Analysis/larger_test/2D/SAXS/sone_Run11_PS_AcOH_Cooling_T10_ctr2_scan1_0000.raw\n",
      "  I0: 20.987, Bstop: 5.046, Trans_factor: 5.046, Trans_ratio: 0.2404, Normalization: 105.896\n",
      "  Saved to: /Users/vsomani/Documents/SWAXS_data_reduction_correction_Analysis/larger_test/1D/SAXS/Reduction/sone_Run11_PS_AcOH_Cooling_T10_ctr2_scan1_0000.dat\n",
      "Processing SAXS file: /Users/vsomani/Documents/SWAXS_data_reduction_correction_Analysis/larger_test/2D/SAXS/sone_Run11_PS_AcOH_Cooling_T10_ctr2_scan1_0001.raw\n",
      "  I0: 20.958, Bstop: 5.020, Trans_factor: 5.020, Trans_ratio: 0.2395, Normalization: 105.203\n",
      "  Saved to: /Users/vsomani/Documents/SWAXS_data_reduction_correction_Analysis/larger_test/1D/SAXS/Reduction/sone_Run11_PS_AcOH_Cooling_T10_ctr2_scan1_0001.dat\n",
      "Processing SAXS file: /Users/vsomani/Documents/SWAXS_data_reduction_correction_Analysis/larger_test/2D/SAXS/sone_Run11_PS_AcOH_Cooling_T10_ctr2_scan1_0002.raw\n",
      "  I0: 20.947, Bstop: 5.023, Trans_factor: 5.023, Trans_ratio: 0.2398, Normalization: 105.221\n",
      "  Saved to: /Users/vsomani/Documents/SWAXS_data_reduction_correction_Analysis/larger_test/1D/SAXS/Reduction/sone_Run11_PS_AcOH_Cooling_T10_ctr2_scan1_0002.dat\n",
      "Processing SAXS file: /Users/vsomani/Documents/SWAXS_data_reduction_correction_Analysis/larger_test/2D/SAXS/sone_Run11_PS_AcOH_Cooling_T10_ctr3_scan1_0000.raw\n",
      "  I0: 20.937, Bstop: 5.044, Trans_factor: 5.044, Trans_ratio: 0.2409, Normalization: 105.611\n",
      "  Saved to: /Users/vsomani/Documents/SWAXS_data_reduction_correction_Analysis/larger_test/1D/SAXS/Reduction/sone_Run11_PS_AcOH_Cooling_T10_ctr3_scan1_0000.dat\n",
      "Processing SAXS file: /Users/vsomani/Documents/SWAXS_data_reduction_correction_Analysis/larger_test/2D/SAXS/sone_Run11_PS_AcOH_Cooling_T10_ctr3_scan1_0001.raw\n"
     ]
    },
    {
     "name": "stderr",
     "output_type": "stream",
     "text": [
      "WARNING:pyFAI.io:Destination file /Users/vsomani/Documents/SWAXS_data_reduction_correction_Analysis/larger_test/1D/SAXS/Reduction/sone_Run11_PS_AcOH_Cooling_T10_ctr3_scan1_0001.dat exists\n",
      "WARNING:pyFAI.io:Destination file /Users/vsomani/Documents/SWAXS_data_reduction_correction_Analysis/larger_test/1D/SAXS/Reduction/sone_Run11_PS_AcOH_Cooling_T10_ctr3_scan1_0002.dat exists\n",
      "WARNING:pyFAI.io:Destination file /Users/vsomani/Documents/SWAXS_data_reduction_correction_Analysis/larger_test/1D/SAXS/Reduction/sone_Run11_PS_AcOH_Cooling_T10_ctr4_scan1_0000.dat exists\n",
      "WARNING:pyFAI.io:Destination file /Users/vsomani/Documents/SWAXS_data_reduction_correction_Analysis/larger_test/1D/SAXS/Reduction/sone_Run11_PS_AcOH_Cooling_T10_ctr4_scan1_0001.dat exists\n"
     ]
    },
    {
     "name": "stdout",
     "output_type": "stream",
     "text": [
      "  I0: 20.937, Bstop: 5.055, Trans_factor: 5.055, Trans_ratio: 0.2415, Normalization: 105.845\n",
      "  Saved to: /Users/vsomani/Documents/SWAXS_data_reduction_correction_Analysis/larger_test/1D/SAXS/Reduction/sone_Run11_PS_AcOH_Cooling_T10_ctr3_scan1_0001.dat\n",
      "Processing SAXS file: /Users/vsomani/Documents/SWAXS_data_reduction_correction_Analysis/larger_test/2D/SAXS/sone_Run11_PS_AcOH_Cooling_T10_ctr3_scan1_0002.raw\n",
      "  I0: 20.897, Bstop: 5.062, Trans_factor: 5.062, Trans_ratio: 0.2422, Normalization: 105.778\n",
      "  Saved to: /Users/vsomani/Documents/SWAXS_data_reduction_correction_Analysis/larger_test/1D/SAXS/Reduction/sone_Run11_PS_AcOH_Cooling_T10_ctr3_scan1_0002.dat\n",
      "Processing SAXS file: /Users/vsomani/Documents/SWAXS_data_reduction_correction_Analysis/larger_test/2D/SAXS/sone_Run11_PS_AcOH_Cooling_T10_ctr4_scan1_0000.raw\n",
      "  I0: 20.919, Bstop: 5.075, Trans_factor: 5.075, Trans_ratio: 0.2426, Normalization: 106.165\n",
      "  Saved to: /Users/vsomani/Documents/SWAXS_data_reduction_correction_Analysis/larger_test/1D/SAXS/Reduction/sone_Run11_PS_AcOH_Cooling_T10_ctr4_scan1_0000.dat\n",
      "Processing SAXS file: /Users/vsomani/Documents/SWAXS_data_reduction_correction_Analysis/larger_test/2D/SAXS/sone_Run11_PS_AcOH_Cooling_T10_ctr4_scan1_0001.raw\n",
      "  I0: 20.895, Bstop: 5.132, Trans_factor: 5.132, Trans_ratio: 0.2456, Normalization: 107.222\n",
      "  Saved to: /Users/vsomani/Documents/SWAXS_data_reduction_correction_Analysis/larger_test/1D/SAXS/Reduction/sone_Run11_PS_AcOH_Cooling_T10_ctr4_scan1_0001.dat\n",
      "Processing SAXS file: /Users/vsomani/Documents/SWAXS_data_reduction_correction_Analysis/larger_test/2D/SAXS/sone_Run11_PS_AcOH_Cooling_T10_ctr4_scan1_0002.raw\n",
      "  I0: 21.132, Bstop: 5.236, Trans_factor: 5.236, Trans_ratio: 0.2478, Normalization: 110.649\n"
     ]
    },
    {
     "name": "stderr",
     "output_type": "stream",
     "text": [
      "WARNING:pyFAI.io:Destination file /Users/vsomani/Documents/SWAXS_data_reduction_correction_Analysis/larger_test/1D/SAXS/Reduction/sone_Run11_PS_AcOH_Cooling_T10_ctr4_scan1_0002.dat exists\n",
      "WARNING:pyFAI.io:Destination file /Users/vsomani/Documents/SWAXS_data_reduction_correction_Analysis/larger_test/1D/SAXS/Reduction/sone_Run11_PS_AcOH_Cooling_T10_ctr5_scan1_0000.dat exists\n",
      "WARNING:pyFAI.io:Destination file /Users/vsomani/Documents/SWAXS_data_reduction_correction_Analysis/larger_test/1D/SAXS/Reduction/sone_Run11_PS_AcOH_Cooling_T10_ctr5_scan1_0001.dat exists\n",
      "WARNING:pyFAI.io:Destination file /Users/vsomani/Documents/SWAXS_data_reduction_correction_Analysis/larger_test/1D/SAXS/Reduction/sone_Run11_PS_AcOH_Cooling_T10_ctr5_scan1_0002.dat exists\n",
      "WARNING:pyFAI.io:Destination file /Users/vsomani/Documents/SWAXS_data_reduction_correction_Analysis/larger_test/1D/SAXS/Reduction/sone_Run11_PS_AcOH_Cooling_T10_ctr6_scan1_0000.dat exists\n"
     ]
    },
    {
     "name": "stdout",
     "output_type": "stream",
     "text": [
      "  Saved to: /Users/vsomani/Documents/SWAXS_data_reduction_correction_Analysis/larger_test/1D/SAXS/Reduction/sone_Run11_PS_AcOH_Cooling_T10_ctr4_scan1_0002.dat\n",
      "Processing SAXS file: /Users/vsomani/Documents/SWAXS_data_reduction_correction_Analysis/larger_test/2D/SAXS/sone_Run11_PS_AcOH_Cooling_T10_ctr5_scan1_0000.raw\n",
      "  I0: 21.127, Bstop: 5.241, Trans_factor: 5.241, Trans_ratio: 0.2481, Normalization: 110.727\n",
      "  Saved to: /Users/vsomani/Documents/SWAXS_data_reduction_correction_Analysis/larger_test/1D/SAXS/Reduction/sone_Run11_PS_AcOH_Cooling_T10_ctr5_scan1_0000.dat\n",
      "Processing SAXS file: /Users/vsomani/Documents/SWAXS_data_reduction_correction_Analysis/larger_test/2D/SAXS/sone_Run11_PS_AcOH_Cooling_T10_ctr5_scan1_0001.raw\n",
      "  I0: 21.088, Bstop: 5.206, Trans_factor: 5.206, Trans_ratio: 0.2469, Normalization: 109.783\n",
      "  Saved to: /Users/vsomani/Documents/SWAXS_data_reduction_correction_Analysis/larger_test/1D/SAXS/Reduction/sone_Run11_PS_AcOH_Cooling_T10_ctr5_scan1_0001.dat\n",
      "Processing SAXS file: /Users/vsomani/Documents/SWAXS_data_reduction_correction_Analysis/larger_test/2D/SAXS/sone_Run11_PS_AcOH_Cooling_T10_ctr5_scan1_0002.raw\n",
      "  I0: 21.097, Bstop: 5.173, Trans_factor: 5.173, Trans_ratio: 0.2452, Normalization: 109.133\n",
      "  Saved to: /Users/vsomani/Documents/SWAXS_data_reduction_correction_Analysis/larger_test/1D/SAXS/Reduction/sone_Run11_PS_AcOH_Cooling_T10_ctr5_scan1_0002.dat\n",
      "Processing SAXS file: /Users/vsomani/Documents/SWAXS_data_reduction_correction_Analysis/larger_test/2D/SAXS/sone_Run11_PS_AcOH_Cooling_T10_ctr6_scan1_0000.raw\n",
      "  I0: 21.092, Bstop: 5.148, Trans_factor: 5.148, Trans_ratio: 0.2441, Normalization: 108.583\n",
      "  Saved to: /Users/vsomani/Documents/SWAXS_data_reduction_correction_Analysis/larger_test/1D/SAXS/Reduction/sone_Run11_PS_AcOH_Cooling_T10_ctr6_scan1_0000.dat\n",
      "Processing SAXS file: /Users/vsomani/Documents/SWAXS_data_reduction_correction_Analysis/larger_test/2D/SAXS/sone_Run11_PS_AcOH_Cooling_T10_ctr6_scan1_0001.raw\n",
      "  I0: 21.089, Bstop: 5.117, Trans_factor: 5.117, Trans_ratio: 0.2426, Normalization: 107.915\n"
     ]
    },
    {
     "name": "stderr",
     "output_type": "stream",
     "text": [
      "WARNING:pyFAI.io:Destination file /Users/vsomani/Documents/SWAXS_data_reduction_correction_Analysis/larger_test/1D/SAXS/Reduction/sone_Run11_PS_AcOH_Cooling_T10_ctr6_scan1_0001.dat exists\n",
      "WARNING:pyFAI.io:Destination file /Users/vsomani/Documents/SWAXS_data_reduction_correction_Analysis/larger_test/1D/SAXS/Reduction/sone_Run11_PS_AcOH_Cooling_T10_ctr6_scan1_0002.dat exists\n",
      "WARNING:pyFAI.io:Destination file /Users/vsomani/Documents/SWAXS_data_reduction_correction_Analysis/larger_test/1D/SAXS/Reduction/sone_Run11_PS_AcOH_RampT100_ctr32_scan1_0000.dat exists\n",
      "WARNING:pyFAI.io:Destination file /Users/vsomani/Documents/SWAXS_data_reduction_correction_Analysis/larger_test/1D/SAXS/Reduction/sone_Run11_PS_AcOH_RampT100_ctr32_scan1_0001.dat exists\n",
      "WARNING:pyFAI.io:Destination file /Users/vsomani/Documents/SWAXS_data_reduction_correction_Analysis/larger_test/1D/SAXS/Reduction/sone_Run11_PS_AcOH_RampT100_ctr32_scan1_0002.dat exists\n"
     ]
    },
    {
     "name": "stdout",
     "output_type": "stream",
     "text": [
      "  Saved to: /Users/vsomani/Documents/SWAXS_data_reduction_correction_Analysis/larger_test/1D/SAXS/Reduction/sone_Run11_PS_AcOH_Cooling_T10_ctr6_scan1_0001.dat\n",
      "Processing SAXS file: /Users/vsomani/Documents/SWAXS_data_reduction_correction_Analysis/larger_test/2D/SAXS/sone_Run11_PS_AcOH_Cooling_T10_ctr6_scan1_0002.raw\n",
      "  I0: 21.065, Bstop: 5.098, Trans_factor: 5.098, Trans_ratio: 0.2420, Normalization: 107.401\n",
      "  Saved to: /Users/vsomani/Documents/SWAXS_data_reduction_correction_Analysis/larger_test/1D/SAXS/Reduction/sone_Run11_PS_AcOH_Cooling_T10_ctr6_scan1_0002.dat\n",
      "Processing SAXS file: /Users/vsomani/Documents/SWAXS_data_reduction_correction_Analysis/larger_test/2D/SAXS/sone_Run11_PS_AcOH_RampT100_ctr32_scan1_0000.raw\n",
      "  I0: 21.203, Bstop: 4.986, Trans_factor: 4.986, Trans_ratio: 0.2352, Normalization: 105.729\n",
      "  Saved to: /Users/vsomani/Documents/SWAXS_data_reduction_correction_Analysis/larger_test/1D/SAXS/Reduction/sone_Run11_PS_AcOH_RampT100_ctr32_scan1_0000.dat\n",
      "Processing SAXS file: /Users/vsomani/Documents/SWAXS_data_reduction_correction_Analysis/larger_test/2D/SAXS/sone_Run11_PS_AcOH_RampT100_ctr32_scan1_0001.raw\n",
      "  I0: 21.266, Bstop: 5.005, Trans_factor: 5.005, Trans_ratio: 0.2354, Normalization: 106.435\n",
      "  Saved to: /Users/vsomani/Documents/SWAXS_data_reduction_correction_Analysis/larger_test/1D/SAXS/Reduction/sone_Run11_PS_AcOH_RampT100_ctr32_scan1_0001.dat\n",
      "Processing SAXS file: /Users/vsomani/Documents/SWAXS_data_reduction_correction_Analysis/larger_test/2D/SAXS/sone_Run11_PS_AcOH_RampT100_ctr32_scan1_0002.raw\n",
      "  I0: 21.224, Bstop: 5.016, Trans_factor: 5.016, Trans_ratio: 0.2363, Normalization: 106.460\n",
      "  Saved to: /Users/vsomani/Documents/SWAXS_data_reduction_correction_Analysis/larger_test/1D/SAXS/Reduction/sone_Run11_PS_AcOH_RampT100_ctr32_scan1_0002.dat\n",
      "Processing SAXS file: /Users/vsomani/Documents/SWAXS_data_reduction_correction_Analysis/larger_test/2D/SAXS/sone_Run11_PS_AcOH_RampT102_ctr33_scan1_0000.raw\n",
      "  I0: 21.239, Bstop: 5.018, Trans_factor: 5.018, Trans_ratio: 0.2363, Normalization: 106.572\n"
     ]
    },
    {
     "name": "stderr",
     "output_type": "stream",
     "text": [
      "WARNING:pyFAI.io:Destination file /Users/vsomani/Documents/SWAXS_data_reduction_correction_Analysis/larger_test/1D/SAXS/Reduction/sone_Run11_PS_AcOH_RampT102_ctr33_scan1_0000.dat exists\n",
      "WARNING:pyFAI.io:Destination file /Users/vsomani/Documents/SWAXS_data_reduction_correction_Analysis/larger_test/1D/SAXS/Reduction/sone_Run11_PS_AcOH_RampT102_ctr33_scan1_0001.dat exists\n",
      "WARNING:pyFAI.io:Destination file /Users/vsomani/Documents/SWAXS_data_reduction_correction_Analysis/larger_test/1D/SAXS/Reduction/sone_Run11_PS_AcOH_RampT102_ctr33_scan1_0002.dat exists\n"
     ]
    },
    {
     "name": "stdout",
     "output_type": "stream",
     "text": [
      "  Saved to: /Users/vsomani/Documents/SWAXS_data_reduction_correction_Analysis/larger_test/1D/SAXS/Reduction/sone_Run11_PS_AcOH_RampT102_ctr33_scan1_0000.dat\n",
      "Processing SAXS file: /Users/vsomani/Documents/SWAXS_data_reduction_correction_Analysis/larger_test/2D/SAXS/sone_Run11_PS_AcOH_RampT102_ctr33_scan1_0001.raw\n",
      "  I0: 21.178, Bstop: 5.003, Trans_factor: 5.003, Trans_ratio: 0.2362, Normalization: 105.946\n",
      "  Saved to: /Users/vsomani/Documents/SWAXS_data_reduction_correction_Analysis/larger_test/1D/SAXS/Reduction/sone_Run11_PS_AcOH_RampT102_ctr33_scan1_0001.dat\n",
      "Processing SAXS file: /Users/vsomani/Documents/SWAXS_data_reduction_correction_Analysis/larger_test/2D/SAXS/sone_Run11_PS_AcOH_RampT102_ctr33_scan1_0002.raw\n",
      "  I0: 21.153, Bstop: 5.001, Trans_factor: 5.001, Trans_ratio: 0.2364, Normalization: 105.793\n",
      "  Saved to: /Users/vsomani/Documents/SWAXS_data_reduction_correction_Analysis/larger_test/1D/SAXS/Reduction/sone_Run11_PS_AcOH_RampT102_ctr33_scan1_0002.dat\n",
      "Processing SAXS file: /Users/vsomani/Documents/SWAXS_data_reduction_correction_Analysis/larger_test/2D/SAXS/sone_Run11_PS_AcOH_RampT105_ctr34_scan1_0000.raw\n",
      "  I0: 21.130, Bstop: 5.005, Trans_factor: 5.005, Trans_ratio: 0.2369, Normalization: 105.754\n"
     ]
    },
    {
     "name": "stderr",
     "output_type": "stream",
     "text": [
      "WARNING:pyFAI.io:Destination file /Users/vsomani/Documents/SWAXS_data_reduction_correction_Analysis/larger_test/1D/SAXS/Reduction/sone_Run11_PS_AcOH_RampT105_ctr34_scan1_0000.dat exists\n",
      "WARNING:pyFAI.io:Destination file /Users/vsomani/Documents/SWAXS_data_reduction_correction_Analysis/larger_test/1D/SAXS/Reduction/sone_Run11_PS_AcOH_RampT105_ctr34_scan1_0001.dat exists\n",
      "WARNING:pyFAI.io:Destination file /Users/vsomani/Documents/SWAXS_data_reduction_correction_Analysis/larger_test/1D/SAXS/Reduction/sone_Run11_PS_AcOH_RampT105_ctr34_scan1_0002.dat exists\n",
      "WARNING:pyFAI.io:Destination file /Users/vsomani/Documents/SWAXS_data_reduction_correction_Analysis/larger_test/1D/SAXS/Reduction/sone_Run11_PS_AcOH_RampT107_ctr35_scan1_0000.dat exists\n",
      "WARNING:pyFAI.io:Destination file /Users/vsomani/Documents/SWAXS_data_reduction_correction_Analysis/larger_test/1D/SAXS/Reduction/sone_Run11_PS_AcOH_RampT107_ctr35_scan1_0001.dat exists\n"
     ]
    },
    {
     "name": "stdout",
     "output_type": "stream",
     "text": [
      "  Saved to: /Users/vsomani/Documents/SWAXS_data_reduction_correction_Analysis/larger_test/1D/SAXS/Reduction/sone_Run11_PS_AcOH_RampT105_ctr34_scan1_0000.dat\n",
      "Processing SAXS file: /Users/vsomani/Documents/SWAXS_data_reduction_correction_Analysis/larger_test/2D/SAXS/sone_Run11_PS_AcOH_RampT105_ctr34_scan1_0001.raw\n",
      "  I0: 21.074, Bstop: 4.980, Trans_factor: 4.980, Trans_ratio: 0.2363, Normalization: 104.946\n",
      "  Saved to: /Users/vsomani/Documents/SWAXS_data_reduction_correction_Analysis/larger_test/1D/SAXS/Reduction/sone_Run11_PS_AcOH_RampT105_ctr34_scan1_0001.dat\n",
      "Processing SAXS file: /Users/vsomani/Documents/SWAXS_data_reduction_correction_Analysis/larger_test/2D/SAXS/sone_Run11_PS_AcOH_RampT105_ctr34_scan1_0002.raw\n",
      "  I0: 21.051, Bstop: 4.983, Trans_factor: 4.983, Trans_ratio: 0.2367, Normalization: 104.886\n",
      "  Saved to: /Users/vsomani/Documents/SWAXS_data_reduction_correction_Analysis/larger_test/1D/SAXS/Reduction/sone_Run11_PS_AcOH_RampT105_ctr34_scan1_0002.dat\n",
      "Processing SAXS file: /Users/vsomani/Documents/SWAXS_data_reduction_correction_Analysis/larger_test/2D/SAXS/sone_Run11_PS_AcOH_RampT107_ctr35_scan1_0000.raw\n",
      "  I0: 21.028, Bstop: 4.996, Trans_factor: 4.996, Trans_ratio: 0.2376, Normalization: 105.051\n",
      "  Saved to: /Users/vsomani/Documents/SWAXS_data_reduction_correction_Analysis/larger_test/1D/SAXS/Reduction/sone_Run11_PS_AcOH_RampT107_ctr35_scan1_0000.dat\n",
      "Processing SAXS file: /Users/vsomani/Documents/SWAXS_data_reduction_correction_Analysis/larger_test/2D/SAXS/sone_Run11_PS_AcOH_RampT107_ctr35_scan1_0001.raw\n",
      "  I0: 21.246, Bstop: 5.035, Trans_factor: 5.035, Trans_ratio: 0.2370, Normalization: 106.977\n",
      "  Saved to: /Users/vsomani/Documents/SWAXS_data_reduction_correction_Analysis/larger_test/1D/SAXS/Reduction/sone_Run11_PS_AcOH_RampT107_ctr35_scan1_0001.dat\n",
      "Processing SAXS file: /Users/vsomani/Documents/SWAXS_data_reduction_correction_Analysis/larger_test/2D/SAXS/sone_Run11_PS_AcOH_RampT107_ctr35_scan1_0002.raw\n",
      "  I0: 21.275, Bstop: 5.045, Trans_factor: 5.045, Trans_ratio: 0.2372, Normalization: 107.344\n"
     ]
    },
    {
     "name": "stderr",
     "output_type": "stream",
     "text": [
      "WARNING:pyFAI.io:Destination file /Users/vsomani/Documents/SWAXS_data_reduction_correction_Analysis/larger_test/1D/SAXS/Reduction/sone_Run11_PS_AcOH_RampT107_ctr35_scan1_0002.dat exists\n",
      "WARNING:pyFAI.io:Destination file /Users/vsomani/Documents/SWAXS_data_reduction_correction_Analysis/larger_test/1D/SAXS/Reduction/sone_Run11_PS_AcOH_RampT110_ctr36_scan1_0000.dat exists\n",
      "WARNING:pyFAI.io:Destination file /Users/vsomani/Documents/SWAXS_data_reduction_correction_Analysis/larger_test/1D/SAXS/Reduction/sone_Run11_PS_AcOH_RampT110_ctr36_scan1_0001.dat exists\n",
      "WARNING:pyFAI.io:Destination file /Users/vsomani/Documents/SWAXS_data_reduction_correction_Analysis/larger_test/1D/SAXS/Reduction/sone_Run11_PS_AcOH_RampT110_ctr36_scan1_0002.dat exists\n",
      "WARNING:pyFAI.io:Destination file /Users/vsomani/Documents/SWAXS_data_reduction_correction_Analysis/larger_test/1D/SAXS/Reduction/sone_Run11_PS_AcOH_RampT112_ctr37_scan1_0000.dat exists\n",
      "WARNING:pyFAI.io:Destination file /Users/vsomani/Documents/SWAXS_data_reduction_correction_Analysis/larger_test/1D/SAXS/Reduction/sone_Run11_PS_AcOH_RampT112_ctr37_scan1_0001.dat exists\n"
     ]
    },
    {
     "name": "stdout",
     "output_type": "stream",
     "text": [
      "  Saved to: /Users/vsomani/Documents/SWAXS_data_reduction_correction_Analysis/larger_test/1D/SAXS/Reduction/sone_Run11_PS_AcOH_RampT107_ctr35_scan1_0002.dat\n",
      "Processing SAXS file: /Users/vsomani/Documents/SWAXS_data_reduction_correction_Analysis/larger_test/2D/SAXS/sone_Run11_PS_AcOH_RampT110_ctr36_scan1_0000.raw\n",
      "  I0: 21.252, Bstop: 5.046, Trans_factor: 5.046, Trans_ratio: 0.2374, Normalization: 107.239\n",
      "  Saved to: /Users/vsomani/Documents/SWAXS_data_reduction_correction_Analysis/larger_test/1D/SAXS/Reduction/sone_Run11_PS_AcOH_RampT110_ctr36_scan1_0000.dat\n",
      "Processing SAXS file: /Users/vsomani/Documents/SWAXS_data_reduction_correction_Analysis/larger_test/2D/SAXS/sone_Run11_PS_AcOH_RampT110_ctr36_scan1_0001.raw\n",
      "  I0: 21.147, Bstop: 5.038, Trans_factor: 5.038, Trans_ratio: 0.2382, Normalization: 106.548\n",
      "  Saved to: /Users/vsomani/Documents/SWAXS_data_reduction_correction_Analysis/larger_test/1D/SAXS/Reduction/sone_Run11_PS_AcOH_RampT110_ctr36_scan1_0001.dat\n",
      "Processing SAXS file: /Users/vsomani/Documents/SWAXS_data_reduction_correction_Analysis/larger_test/2D/SAXS/sone_Run11_PS_AcOH_RampT110_ctr36_scan1_0002.raw\n",
      "  I0: 21.156, Bstop: 5.046, Trans_factor: 5.046, Trans_ratio: 0.2385, Normalization: 106.742\n",
      "  Saved to: /Users/vsomani/Documents/SWAXS_data_reduction_correction_Analysis/larger_test/1D/SAXS/Reduction/sone_Run11_PS_AcOH_RampT110_ctr36_scan1_0002.dat\n",
      "Processing SAXS file: /Users/vsomani/Documents/SWAXS_data_reduction_correction_Analysis/larger_test/2D/SAXS/sone_Run11_PS_AcOH_RampT112_ctr37_scan1_0000.raw\n",
      "  I0: 21.122, Bstop: 5.051, Trans_factor: 5.051, Trans_ratio: 0.2391, Normalization: 106.688\n",
      "  Saved to: /Users/vsomani/Documents/SWAXS_data_reduction_correction_Analysis/larger_test/1D/SAXS/Reduction/sone_Run11_PS_AcOH_RampT112_ctr37_scan1_0000.dat\n",
      "Processing SAXS file: /Users/vsomani/Documents/SWAXS_data_reduction_correction_Analysis/larger_test/2D/SAXS/sone_Run11_PS_AcOH_RampT112_ctr37_scan1_0001.raw\n",
      "  I0: 21.032, Bstop: 5.062, Trans_factor: 5.062, Trans_ratio: 0.2407, Normalization: 106.474\n",
      "  Saved to: /Users/vsomani/Documents/SWAXS_data_reduction_correction_Analysis/larger_test/1D/SAXS/Reduction/sone_Run11_PS_AcOH_RampT112_ctr37_scan1_0001.dat\n",
      "Processing SAXS file: /Users/vsomani/Documents/SWAXS_data_reduction_correction_Analysis/larger_test/2D/SAXS/sone_Run11_PS_AcOH_RampT112_ctr37_scan1_0002.raw\n",
      "  I0: 21.044, Bstop: 5.082, Trans_factor: 5.082, Trans_ratio: 0.2415, Normalization: 106.951\n"
     ]
    },
    {
     "name": "stderr",
     "output_type": "stream",
     "text": [
      "WARNING:pyFAI.io:Destination file /Users/vsomani/Documents/SWAXS_data_reduction_correction_Analysis/larger_test/1D/SAXS/Reduction/sone_Run11_PS_AcOH_RampT112_ctr37_scan1_0002.dat exists\n",
      "WARNING:pyFAI.io:Destination file /Users/vsomani/Documents/SWAXS_data_reduction_correction_Analysis/larger_test/1D/SAXS/Reduction/sone_Run11_PS_AcOH_RampT115_ctr38_scan1_0000.dat exists\n",
      "WARNING:pyFAI.io:Destination file /Users/vsomani/Documents/SWAXS_data_reduction_correction_Analysis/larger_test/1D/SAXS/Reduction/sone_Run11_PS_AcOH_RampT115_ctr38_scan1_0001.dat exists\n",
      "WARNING:pyFAI.io:Destination file /Users/vsomani/Documents/SWAXS_data_reduction_correction_Analysis/larger_test/1D/SAXS/Reduction/sone_Run11_PS_AcOH_RampT115_ctr38_scan1_0002.dat exists\n",
      "WARNING:pyFAI.io:Destination file /Users/vsomani/Documents/SWAXS_data_reduction_correction_Analysis/larger_test/1D/SAXS/Reduction/sone_Run11_PS_AcOH_RampT117_ctr39_scan1_0000.dat exists\n",
      "WARNING:pyFAI.io:Destination file /Users/vsomani/Documents/SWAXS_data_reduction_correction_Analysis/larger_test/1D/SAXS/Reduction/sone_Run11_PS_AcOH_RampT117_ctr39_scan1_0001.dat exists\n"
     ]
    },
    {
     "name": "stdout",
     "output_type": "stream",
     "text": [
      "  Saved to: /Users/vsomani/Documents/SWAXS_data_reduction_correction_Analysis/larger_test/1D/SAXS/Reduction/sone_Run11_PS_AcOH_RampT112_ctr37_scan1_0002.dat\n",
      "Processing SAXS file: /Users/vsomani/Documents/SWAXS_data_reduction_correction_Analysis/larger_test/2D/SAXS/sone_Run11_PS_AcOH_RampT115_ctr38_scan1_0000.raw\n",
      "  I0: 21.010, Bstop: 5.101, Trans_factor: 5.101, Trans_ratio: 0.2428, Normalization: 107.170\n",
      "  Saved to: /Users/vsomani/Documents/SWAXS_data_reduction_correction_Analysis/larger_test/1D/SAXS/Reduction/sone_Run11_PS_AcOH_RampT115_ctr38_scan1_0000.dat\n",
      "Processing SAXS file: /Users/vsomani/Documents/SWAXS_data_reduction_correction_Analysis/larger_test/2D/SAXS/sone_Run11_PS_AcOH_RampT115_ctr38_scan1_0001.raw\n",
      "  I0: 21.287, Bstop: 5.211, Trans_factor: 5.211, Trans_ratio: 0.2448, Normalization: 110.921\n",
      "  Saved to: /Users/vsomani/Documents/SWAXS_data_reduction_correction_Analysis/larger_test/1D/SAXS/Reduction/sone_Run11_PS_AcOH_RampT115_ctr38_scan1_0001.dat\n",
      "Processing SAXS file: /Users/vsomani/Documents/SWAXS_data_reduction_correction_Analysis/larger_test/2D/SAXS/sone_Run11_PS_AcOH_RampT115_ctr38_scan1_0002.raw\n",
      "  I0: 21.299, Bstop: 5.205, Trans_factor: 5.205, Trans_ratio: 0.2444, Normalization: 110.871\n",
      "  Saved to: /Users/vsomani/Documents/SWAXS_data_reduction_correction_Analysis/larger_test/1D/SAXS/Reduction/sone_Run11_PS_AcOH_RampT115_ctr38_scan1_0002.dat\n",
      "Processing SAXS file: /Users/vsomani/Documents/SWAXS_data_reduction_correction_Analysis/larger_test/2D/SAXS/sone_Run11_PS_AcOH_RampT117_ctr39_scan1_0000.raw\n",
      "  I0: 21.286, Bstop: 5.171, Trans_factor: 5.171, Trans_ratio: 0.2429, Normalization: 110.062\n",
      "  Saved to: /Users/vsomani/Documents/SWAXS_data_reduction_correction_Analysis/larger_test/1D/SAXS/Reduction/sone_Run11_PS_AcOH_RampT117_ctr39_scan1_0000.dat\n",
      "Processing SAXS file: /Users/vsomani/Documents/SWAXS_data_reduction_correction_Analysis/larger_test/2D/SAXS/sone_Run11_PS_AcOH_RampT117_ctr39_scan1_0001.raw\n",
      "  I0: 21.226, Bstop: 5.062, Trans_factor: 5.062, Trans_ratio: 0.2385, Normalization: 107.438\n",
      "  Saved to: /Users/vsomani/Documents/SWAXS_data_reduction_correction_Analysis/larger_test/1D/SAXS/Reduction/sone_Run11_PS_AcOH_RampT117_ctr39_scan1_0001.dat\n",
      "Processing SAXS file: /Users/vsomani/Documents/SWAXS_data_reduction_correction_Analysis/larger_test/2D/SAXS/sone_Run11_PS_AcOH_RampT117_ctr39_scan1_0002.raw\n",
      "  I0: 21.175, Bstop: 5.073, Trans_factor: 5.073, Trans_ratio: 0.2396, Normalization: 107.428\n"
     ]
    },
    {
     "name": "stderr",
     "output_type": "stream",
     "text": [
      "WARNING:pyFAI.io:Destination file /Users/vsomani/Documents/SWAXS_data_reduction_correction_Analysis/larger_test/1D/SAXS/Reduction/sone_Run11_PS_AcOH_RampT117_ctr39_scan1_0002.dat exists\n",
      "WARNING:pyFAI.io:Destination file /Users/vsomani/Documents/SWAXS_data_reduction_correction_Analysis/larger_test/1D/SAXS/Reduction/sone_Run11_PS_AcOH_RampT120_ctr40_scan1_0000.dat exists\n",
      "WARNING:pyFAI.io:Destination file /Users/vsomani/Documents/SWAXS_data_reduction_correction_Analysis/larger_test/1D/SAXS/Reduction/sone_Run11_PS_AcOH_RampT120_ctr40_scan1_0001.dat exists\n",
      "WARNING:pyFAI.io:Destination file /Users/vsomani/Documents/SWAXS_data_reduction_correction_Analysis/larger_test/1D/SAXS/Reduction/sone_Run11_PS_AcOH_RampT120_ctr40_scan1_0002.dat exists\n"
     ]
    },
    {
     "name": "stdout",
     "output_type": "stream",
     "text": [
      "  Saved to: /Users/vsomani/Documents/SWAXS_data_reduction_correction_Analysis/larger_test/1D/SAXS/Reduction/sone_Run11_PS_AcOH_RampT117_ctr39_scan1_0002.dat\n",
      "Processing SAXS file: /Users/vsomani/Documents/SWAXS_data_reduction_correction_Analysis/larger_test/2D/SAXS/sone_Run11_PS_AcOH_RampT120_ctr40_scan1_0000.raw\n",
      "  I0: 21.149, Bstop: 5.068, Trans_factor: 5.068, Trans_ratio: 0.2397, Normalization: 107.190\n",
      "  Saved to: /Users/vsomani/Documents/SWAXS_data_reduction_correction_Analysis/larger_test/1D/SAXS/Reduction/sone_Run11_PS_AcOH_RampT120_ctr40_scan1_0000.dat\n",
      "Processing SAXS file: /Users/vsomani/Documents/SWAXS_data_reduction_correction_Analysis/larger_test/2D/SAXS/sone_Run11_PS_AcOH_RampT120_ctr40_scan1_0001.raw\n",
      "  I0: 21.056, Bstop: 5.246, Trans_factor: 5.246, Trans_ratio: 0.2491, Normalization: 110.450\n",
      "  Saved to: /Users/vsomani/Documents/SWAXS_data_reduction_correction_Analysis/larger_test/1D/SAXS/Reduction/sone_Run11_PS_AcOH_RampT120_ctr40_scan1_0001.dat\n",
      "Processing SAXS file: /Users/vsomani/Documents/SWAXS_data_reduction_correction_Analysis/larger_test/2D/SAXS/sone_Run11_PS_AcOH_RampT120_ctr40_scan1_0002.raw\n",
      "  I0: 21.135, Bstop: 5.247, Trans_factor: 5.247, Trans_ratio: 0.2483, Normalization: 110.901\n",
      "  Saved to: /Users/vsomani/Documents/SWAXS_data_reduction_correction_Analysis/larger_test/1D/SAXS/Reduction/sone_Run11_PS_AcOH_RampT120_ctr40_scan1_0002.dat\n",
      "Processing SAXS file: /Users/vsomani/Documents/SWAXS_data_reduction_correction_Analysis/larger_test/2D/SAXS/sone_Run11_PS_AcOH_RampT122_ctr41_scan1_0000.raw\n",
      "  I0: 21.032, Bstop: 5.230, Trans_factor: 5.230, Trans_ratio: 0.2487, Normalization: 110.004\n"
     ]
    },
    {
     "name": "stderr",
     "output_type": "stream",
     "text": [
      "WARNING:pyFAI.io:Destination file /Users/vsomani/Documents/SWAXS_data_reduction_correction_Analysis/larger_test/1D/SAXS/Reduction/sone_Run11_PS_AcOH_RampT122_ctr41_scan1_0000.dat exists\n",
      "WARNING:pyFAI.io:Destination file /Users/vsomani/Documents/SWAXS_data_reduction_correction_Analysis/larger_test/1D/SAXS/Reduction/sone_Run11_PS_AcOH_RampT122_ctr41_scan1_0001.dat exists\n",
      "WARNING:pyFAI.io:Destination file /Users/vsomani/Documents/SWAXS_data_reduction_correction_Analysis/larger_test/1D/SAXS/Reduction/sone_Run11_PS_AcOH_RampT122_ctr41_scan1_0002.dat exists\n",
      "WARNING:pyFAI.io:Destination file /Users/vsomani/Documents/SWAXS_data_reduction_correction_Analysis/larger_test/1D/SAXS/Reduction/sone_Run11_PS_AcOH_RampT125_ctr42_scan1_0000.dat exists\n",
      "WARNING:pyFAI.io:Destination file /Users/vsomani/Documents/SWAXS_data_reduction_correction_Analysis/larger_test/1D/SAXS/Reduction/sone_Run11_PS_AcOH_RampT125_ctr42_scan1_0001.dat exists\n",
      "WARNING:pyFAI.io:Destination file /Users/vsomani/Documents/SWAXS_data_reduction_correction_Analysis/larger_test/1D/SAXS/Reduction/sone_Run11_PS_AcOH_RampT125_ctr42_scan1_0002.dat exists\n"
     ]
    },
    {
     "name": "stdout",
     "output_type": "stream",
     "text": [
      "  Saved to: /Users/vsomani/Documents/SWAXS_data_reduction_correction_Analysis/larger_test/1D/SAXS/Reduction/sone_Run11_PS_AcOH_RampT122_ctr41_scan1_0000.dat\n",
      "Processing SAXS file: /Users/vsomani/Documents/SWAXS_data_reduction_correction_Analysis/larger_test/2D/SAXS/sone_Run11_PS_AcOH_RampT122_ctr41_scan1_0001.raw\n",
      "  I0: 21.169, Bstop: 5.191, Trans_factor: 5.191, Trans_ratio: 0.2452, Normalization: 109.896\n",
      "  Saved to: /Users/vsomani/Documents/SWAXS_data_reduction_correction_Analysis/larger_test/1D/SAXS/Reduction/sone_Run11_PS_AcOH_RampT122_ctr41_scan1_0001.dat\n",
      "Processing SAXS file: /Users/vsomani/Documents/SWAXS_data_reduction_correction_Analysis/larger_test/2D/SAXS/sone_Run11_PS_AcOH_RampT122_ctr41_scan1_0002.raw\n",
      "  I0: 21.276, Bstop: 5.209, Trans_factor: 5.209, Trans_ratio: 0.2448, Normalization: 110.835\n",
      "  Saved to: /Users/vsomani/Documents/SWAXS_data_reduction_correction_Analysis/larger_test/1D/SAXS/Reduction/sone_Run11_PS_AcOH_RampT122_ctr41_scan1_0002.dat\n",
      "Processing SAXS file: /Users/vsomani/Documents/SWAXS_data_reduction_correction_Analysis/larger_test/2D/SAXS/sone_Run11_PS_AcOH_RampT125_ctr42_scan1_0000.raw\n",
      "  I0: 21.245, Bstop: 5.237, Trans_factor: 5.237, Trans_ratio: 0.2465, Normalization: 111.264\n",
      "  Saved to: /Users/vsomani/Documents/SWAXS_data_reduction_correction_Analysis/larger_test/1D/SAXS/Reduction/sone_Run11_PS_AcOH_RampT125_ctr42_scan1_0000.dat\n",
      "Processing SAXS file: /Users/vsomani/Documents/SWAXS_data_reduction_correction_Analysis/larger_test/2D/SAXS/sone_Run11_PS_AcOH_RampT125_ctr42_scan1_0001.raw\n",
      "  I0: 21.210, Bstop: 5.351, Trans_factor: 5.351, Trans_ratio: 0.2523, Normalization: 113.504\n",
      "  Saved to: /Users/vsomani/Documents/SWAXS_data_reduction_correction_Analysis/larger_test/1D/SAXS/Reduction/sone_Run11_PS_AcOH_RampT125_ctr42_scan1_0001.dat\n",
      "Processing SAXS file: /Users/vsomani/Documents/SWAXS_data_reduction_correction_Analysis/larger_test/2D/SAXS/sone_Run11_PS_AcOH_RampT125_ctr42_scan1_0002.raw\n",
      "  I0: 21.186, Bstop: 5.371, Trans_factor: 5.371, Trans_ratio: 0.2535, Normalization: 113.780\n"
     ]
    },
    {
     "name": "stderr",
     "output_type": "stream",
     "text": [
      "WARNING:pyFAI.io:Destination file /Users/vsomani/Documents/SWAXS_data_reduction_correction_Analysis/larger_test/1D/SAXS/Reduction/sone_Run11_PS_AcOH_RampT127_ctr43_scan1_0000.dat exists\n",
      "WARNING:pyFAI.io:Destination file /Users/vsomani/Documents/SWAXS_data_reduction_correction_Analysis/larger_test/1D/SAXS/Reduction/sone_Run11_PS_AcOH_RampT127_ctr43_scan1_0001.dat exists\n",
      "WARNING:pyFAI.io:Destination file /Users/vsomani/Documents/SWAXS_data_reduction_correction_Analysis/larger_test/1D/SAXS/Reduction/sone_Run11_PS_AcOH_RampT127_ctr43_scan1_0002.dat exists\n",
      "WARNING:pyFAI.io:Destination file /Users/vsomani/Documents/SWAXS_data_reduction_correction_Analysis/larger_test/1D/SAXS/Reduction/sone_Run11_PS_AcOH_RampT130_ctr44_scan1_0000.dat exists\n",
      "WARNING:pyFAI.io:Destination file /Users/vsomani/Documents/SWAXS_data_reduction_correction_Analysis/larger_test/1D/SAXS/Reduction/sone_Run11_PS_AcOH_RampT130_ctr44_scan1_0001.dat exists\n"
     ]
    },
    {
     "name": "stdout",
     "output_type": "stream",
     "text": [
      "  Saved to: /Users/vsomani/Documents/SWAXS_data_reduction_correction_Analysis/larger_test/1D/SAXS/Reduction/sone_Run11_PS_AcOH_RampT125_ctr42_scan1_0002.dat\n",
      "Processing SAXS file: /Users/vsomani/Documents/SWAXS_data_reduction_correction_Analysis/larger_test/2D/SAXS/sone_Run11_PS_AcOH_RampT127_ctr43_scan1_0000.raw\n",
      "  I0: 21.219, Bstop: 5.373, Trans_factor: 5.373, Trans_ratio: 0.2532, Normalization: 114.019\n",
      "  Saved to: /Users/vsomani/Documents/SWAXS_data_reduction_correction_Analysis/larger_test/1D/SAXS/Reduction/sone_Run11_PS_AcOH_RampT127_ctr43_scan1_0000.dat\n",
      "Processing SAXS file: /Users/vsomani/Documents/SWAXS_data_reduction_correction_Analysis/larger_test/2D/SAXS/sone_Run11_PS_AcOH_RampT127_ctr43_scan1_0001.raw\n",
      "  I0: 21.089, Bstop: 5.141, Trans_factor: 5.141, Trans_ratio: 0.2438, Normalization: 108.427\n",
      "  Saved to: /Users/vsomani/Documents/SWAXS_data_reduction_correction_Analysis/larger_test/1D/SAXS/Reduction/sone_Run11_PS_AcOH_RampT127_ctr43_scan1_0001.dat\n",
      "Processing SAXS file: /Users/vsomani/Documents/SWAXS_data_reduction_correction_Analysis/larger_test/2D/SAXS/sone_Run11_PS_AcOH_RampT127_ctr43_scan1_0002.raw\n",
      "  I0: 21.032, Bstop: 5.302, Trans_factor: 5.302, Trans_ratio: 0.2521, Normalization: 111.502\n",
      "  Saved to: /Users/vsomani/Documents/SWAXS_data_reduction_correction_Analysis/larger_test/1D/SAXS/Reduction/sone_Run11_PS_AcOH_RampT127_ctr43_scan1_0002.dat\n",
      "Processing SAXS file: /Users/vsomani/Documents/SWAXS_data_reduction_correction_Analysis/larger_test/2D/SAXS/sone_Run11_PS_AcOH_RampT130_ctr44_scan1_0000.raw\n",
      "  I0: 21.084, Bstop: 5.322, Trans_factor: 5.322, Trans_ratio: 0.2524, Normalization: 112.216\n",
      "  Saved to: /Users/vsomani/Documents/SWAXS_data_reduction_correction_Analysis/larger_test/1D/SAXS/Reduction/sone_Run11_PS_AcOH_RampT130_ctr44_scan1_0000.dat\n",
      "Processing SAXS file: /Users/vsomani/Documents/SWAXS_data_reduction_correction_Analysis/larger_test/2D/SAXS/sone_Run11_PS_AcOH_RampT130_ctr44_scan1_0001.raw\n",
      "  I0: 20.926, Bstop: 5.043, Trans_factor: 5.043, Trans_ratio: 0.2410, Normalization: 105.537\n",
      "  Saved to: /Users/vsomani/Documents/SWAXS_data_reduction_correction_Analysis/larger_test/1D/SAXS/Reduction/sone_Run11_PS_AcOH_RampT130_ctr44_scan1_0001.dat\n",
      "Processing SAXS file: /Users/vsomani/Documents/SWAXS_data_reduction_correction_Analysis/larger_test/2D/SAXS/sone_Run11_PS_AcOH_RampT130_ctr44_scan1_0002.raw\n",
      "  I0: 21.052, Bstop: 5.286, Trans_factor: 5.286, Trans_ratio: 0.2511, Normalization: 111.272\n"
     ]
    },
    {
     "name": "stderr",
     "output_type": "stream",
     "text": [
      "WARNING:pyFAI.io:Destination file /Users/vsomani/Documents/SWAXS_data_reduction_correction_Analysis/larger_test/1D/SAXS/Reduction/sone_Run11_PS_AcOH_RampT130_ctr44_scan1_0002.dat exists\n",
      "WARNING:pyFAI.io:Destination file /Users/vsomani/Documents/SWAXS_data_reduction_correction_Analysis/larger_test/1D/SAXS/Reduction/sone_Run11_PS_AcOH_RampT132_ctr45_scan1_0000.dat exists\n",
      "WARNING:pyFAI.io:Destination file /Users/vsomani/Documents/SWAXS_data_reduction_correction_Analysis/larger_test/1D/SAXS/Reduction/sone_Run11_PS_AcOH_RampT132_ctr45_scan1_0001.dat exists\n",
      "WARNING:pyFAI.io:Destination file /Users/vsomani/Documents/SWAXS_data_reduction_correction_Analysis/larger_test/1D/SAXS/Reduction/sone_Run11_PS_AcOH_RampT132_ctr45_scan1_0002.dat exists\n",
      "WARNING:pyFAI.io:Destination file /Users/vsomani/Documents/SWAXS_data_reduction_correction_Analysis/larger_test/1D/SAXS/Reduction/sone_Run11_PS_AcOH_RampT135_ctr46_scan1_0000.dat exists\n",
      "WARNING:pyFAI.io:Destination file /Users/vsomani/Documents/SWAXS_data_reduction_correction_Analysis/larger_test/1D/SAXS/Reduction/sone_Run11_PS_AcOH_RampT135_ctr46_scan1_0001.dat exists\n"
     ]
    },
    {
     "name": "stdout",
     "output_type": "stream",
     "text": [
      "  Saved to: /Users/vsomani/Documents/SWAXS_data_reduction_correction_Analysis/larger_test/1D/SAXS/Reduction/sone_Run11_PS_AcOH_RampT130_ctr44_scan1_0002.dat\n",
      "Processing SAXS file: /Users/vsomani/Documents/SWAXS_data_reduction_correction_Analysis/larger_test/2D/SAXS/sone_Run11_PS_AcOH_RampT132_ctr45_scan1_0000.raw\n",
      "  I0: 21.230, Bstop: 5.370, Trans_factor: 5.370, Trans_ratio: 0.2530, Normalization: 114.010\n",
      "  Saved to: /Users/vsomani/Documents/SWAXS_data_reduction_correction_Analysis/larger_test/1D/SAXS/Reduction/sone_Run11_PS_AcOH_RampT132_ctr45_scan1_0000.dat\n",
      "Processing SAXS file: /Users/vsomani/Documents/SWAXS_data_reduction_correction_Analysis/larger_test/2D/SAXS/sone_Run11_PS_AcOH_RampT132_ctr45_scan1_0001.raw\n",
      "  I0: 21.119, Bstop: 5.092, Trans_factor: 5.092, Trans_ratio: 0.2411, Normalization: 107.528\n",
      "  Saved to: /Users/vsomani/Documents/SWAXS_data_reduction_correction_Analysis/larger_test/1D/SAXS/Reduction/sone_Run11_PS_AcOH_RampT132_ctr45_scan1_0001.dat\n",
      "Processing SAXS file: /Users/vsomani/Documents/SWAXS_data_reduction_correction_Analysis/larger_test/2D/SAXS/sone_Run11_PS_AcOH_RampT132_ctr45_scan1_0002.raw\n",
      "  I0: 21.104, Bstop: 5.120, Trans_factor: 5.120, Trans_ratio: 0.2426, Normalization: 108.057\n",
      "  Saved to: /Users/vsomani/Documents/SWAXS_data_reduction_correction_Analysis/larger_test/1D/SAXS/Reduction/sone_Run11_PS_AcOH_RampT132_ctr45_scan1_0002.dat\n",
      "Processing SAXS file: /Users/vsomani/Documents/SWAXS_data_reduction_correction_Analysis/larger_test/2D/SAXS/sone_Run11_PS_AcOH_RampT135_ctr46_scan1_0000.raw\n",
      "  I0: 21.128, Bstop: 5.208, Trans_factor: 5.208, Trans_ratio: 0.2465, Normalization: 110.036\n",
      "  Saved to: /Users/vsomani/Documents/SWAXS_data_reduction_correction_Analysis/larger_test/1D/SAXS/Reduction/sone_Run11_PS_AcOH_RampT135_ctr46_scan1_0000.dat\n",
      "Processing SAXS file: /Users/vsomani/Documents/SWAXS_data_reduction_correction_Analysis/larger_test/2D/SAXS/sone_Run11_PS_AcOH_RampT135_ctr46_scan1_0001.raw\n",
      "  I0: 21.080, Bstop: 5.035, Trans_factor: 5.035, Trans_ratio: 0.2389, Normalization: 106.144\n",
      "  Saved to: /Users/vsomani/Documents/SWAXS_data_reduction_correction_Analysis/larger_test/1D/SAXS/Reduction/sone_Run11_PS_AcOH_RampT135_ctr46_scan1_0001.dat\n",
      "Processing SAXS file: /Users/vsomani/Documents/SWAXS_data_reduction_correction_Analysis/larger_test/2D/SAXS/sone_Run11_PS_AcOH_RampT135_ctr46_scan1_0002.raw\n",
      "  I0: 21.057, Bstop: 5.078, Trans_factor: 5.078, Trans_ratio: 0.2412, Normalization: 106.938\n"
     ]
    },
    {
     "name": "stderr",
     "output_type": "stream",
     "text": [
      "WARNING:pyFAI.io:Destination file /Users/vsomani/Documents/SWAXS_data_reduction_correction_Analysis/larger_test/1D/SAXS/Reduction/sone_Run11_PS_AcOH_RampT135_ctr46_scan1_0002.dat exists\n",
      "WARNING:pyFAI.io:Destination file /Users/vsomani/Documents/SWAXS_data_reduction_correction_Analysis/larger_test/1D/SAXS/Reduction/sone_Run11_PS_AcOH_RampT137_ctr47_scan1_0000.dat exists\n",
      "WARNING:pyFAI.io:Destination file /Users/vsomani/Documents/SWAXS_data_reduction_correction_Analysis/larger_test/1D/SAXS/Reduction/sone_Run11_PS_AcOH_RampT137_ctr47_scan1_0001.dat exists\n",
      "WARNING:pyFAI.io:Destination file /Users/vsomani/Documents/SWAXS_data_reduction_correction_Analysis/larger_test/1D/SAXS/Reduction/sone_Run11_PS_AcOH_RampT137_ctr47_scan1_0002.dat exists\n"
     ]
    },
    {
     "name": "stdout",
     "output_type": "stream",
     "text": [
      "  Saved to: /Users/vsomani/Documents/SWAXS_data_reduction_correction_Analysis/larger_test/1D/SAXS/Reduction/sone_Run11_PS_AcOH_RampT135_ctr46_scan1_0002.dat\n",
      "Processing SAXS file: /Users/vsomani/Documents/SWAXS_data_reduction_correction_Analysis/larger_test/2D/SAXS/sone_Run11_PS_AcOH_RampT137_ctr47_scan1_0000.raw\n",
      "  I0: 21.018, Bstop: 5.098, Trans_factor: 5.098, Trans_ratio: 0.2425, Normalization: 107.147\n",
      "  Saved to: /Users/vsomani/Documents/SWAXS_data_reduction_correction_Analysis/larger_test/1D/SAXS/Reduction/sone_Run11_PS_AcOH_RampT137_ctr47_scan1_0000.dat\n",
      "Processing SAXS file: /Users/vsomani/Documents/SWAXS_data_reduction_correction_Analysis/larger_test/2D/SAXS/sone_Run11_PS_AcOH_RampT137_ctr47_scan1_0001.raw\n",
      "  I0: 20.930, Bstop: 5.027, Trans_factor: 5.027, Trans_ratio: 0.2402, Normalization: 105.212\n",
      "  Saved to: /Users/vsomani/Documents/SWAXS_data_reduction_correction_Analysis/larger_test/1D/SAXS/Reduction/sone_Run11_PS_AcOH_RampT137_ctr47_scan1_0001.dat\n",
      "Processing SAXS file: /Users/vsomani/Documents/SWAXS_data_reduction_correction_Analysis/larger_test/2D/SAXS/sone_Run11_PS_AcOH_RampT137_ctr47_scan1_0002.raw\n",
      "  I0: 20.987, Bstop: 5.025, Trans_factor: 5.025, Trans_ratio: 0.2394, Normalization: 105.450\n",
      "  Saved to: /Users/vsomani/Documents/SWAXS_data_reduction_correction_Analysis/larger_test/1D/SAXS/Reduction/sone_Run11_PS_AcOH_RampT137_ctr47_scan1_0002.dat\n",
      "Processing SAXS file: /Users/vsomani/Documents/SWAXS_data_reduction_correction_Analysis/larger_test/2D/SAXS/sone_Run11_PS_AcOH_RampT140_ctr48_scan1_0000.raw\n",
      "  I0: 21.142, Bstop: 5.083, Trans_factor: 5.083, Trans_ratio: 0.2404, Normalization: 107.461\n"
     ]
    },
    {
     "name": "stderr",
     "output_type": "stream",
     "text": [
      "WARNING:pyFAI.io:Destination file /Users/vsomani/Documents/SWAXS_data_reduction_correction_Analysis/larger_test/1D/SAXS/Reduction/sone_Run11_PS_AcOH_RampT140_ctr48_scan1_0000.dat exists\n",
      "WARNING:pyFAI.io:Destination file /Users/vsomani/Documents/SWAXS_data_reduction_correction_Analysis/larger_test/1D/SAXS/Reduction/sone_Run11_PS_AcOH_RampT140_ctr48_scan1_0001.dat exists\n",
      "WARNING:pyFAI.io:Destination file /Users/vsomani/Documents/SWAXS_data_reduction_correction_Analysis/larger_test/1D/SAXS/Reduction/sone_Run11_PS_AcOH_RampT140_ctr48_scan1_0002.dat exists\n",
      "WARNING:pyFAI.io:Destination file /Users/vsomani/Documents/SWAXS_data_reduction_correction_Analysis/larger_test/1D/SAXS/Reduction/sone_Run11_PS_AcOH_RampT142_ctr49_scan1_0000.dat exists\n",
      "WARNING:pyFAI.io:Destination file /Users/vsomani/Documents/SWAXS_data_reduction_correction_Analysis/larger_test/1D/SAXS/Reduction/sone_Run11_PS_AcOH_RampT142_ctr49_scan1_0001.dat exists\n"
     ]
    },
    {
     "name": "stdout",
     "output_type": "stream",
     "text": [
      "  Saved to: /Users/vsomani/Documents/SWAXS_data_reduction_correction_Analysis/larger_test/1D/SAXS/Reduction/sone_Run11_PS_AcOH_RampT140_ctr48_scan1_0000.dat\n",
      "Processing SAXS file: /Users/vsomani/Documents/SWAXS_data_reduction_correction_Analysis/larger_test/2D/SAXS/sone_Run11_PS_AcOH_RampT140_ctr48_scan1_0001.raw\n",
      "  I0: 21.129, Bstop: 5.102, Trans_factor: 5.102, Trans_ratio: 0.2415, Normalization: 107.798\n",
      "  Saved to: /Users/vsomani/Documents/SWAXS_data_reduction_correction_Analysis/larger_test/1D/SAXS/Reduction/sone_Run11_PS_AcOH_RampT140_ctr48_scan1_0001.dat\n",
      "Processing SAXS file: /Users/vsomani/Documents/SWAXS_data_reduction_correction_Analysis/larger_test/2D/SAXS/sone_Run11_PS_AcOH_RampT140_ctr48_scan1_0002.raw\n",
      "  I0: 21.195, Bstop: 5.079, Trans_factor: 5.079, Trans_ratio: 0.2396, Normalization: 107.653\n",
      "  Saved to: /Users/vsomani/Documents/SWAXS_data_reduction_correction_Analysis/larger_test/1D/SAXS/Reduction/sone_Run11_PS_AcOH_RampT140_ctr48_scan1_0002.dat\n",
      "Processing SAXS file: /Users/vsomani/Documents/SWAXS_data_reduction_correction_Analysis/larger_test/2D/SAXS/sone_Run11_PS_AcOH_RampT142_ctr49_scan1_0000.raw\n",
      "  I0: 21.138, Bstop: 5.059, Trans_factor: 5.059, Trans_ratio: 0.2393, Normalization: 106.927\n",
      "  Saved to: /Users/vsomani/Documents/SWAXS_data_reduction_correction_Analysis/larger_test/1D/SAXS/Reduction/sone_Run11_PS_AcOH_RampT142_ctr49_scan1_0000.dat\n",
      "Processing SAXS file: /Users/vsomani/Documents/SWAXS_data_reduction_correction_Analysis/larger_test/2D/SAXS/sone_Run11_PS_AcOH_RampT142_ctr49_scan1_0001.raw\n",
      "  I0: 21.055, Bstop: 5.066, Trans_factor: 5.066, Trans_ratio: 0.2406, Normalization: 106.670\n",
      "  Saved to: /Users/vsomani/Documents/SWAXS_data_reduction_correction_Analysis/larger_test/1D/SAXS/Reduction/sone_Run11_PS_AcOH_RampT142_ctr49_scan1_0001.dat\n",
      "Processing SAXS file: /Users/vsomani/Documents/SWAXS_data_reduction_correction_Analysis/larger_test/2D/SAXS/sone_Run11_PS_AcOH_RampT142_ctr49_scan1_0002.raw\n",
      "  I0: 21.001, Bstop: 5.039, Trans_factor: 5.039, Trans_ratio: 0.2399, Normalization: 105.825\n"
     ]
    },
    {
     "name": "stderr",
     "output_type": "stream",
     "text": [
      "WARNING:pyFAI.io:Destination file /Users/vsomani/Documents/SWAXS_data_reduction_correction_Analysis/larger_test/1D/SAXS/Reduction/sone_Run11_PS_AcOH_RampT142_ctr49_scan1_0002.dat exists\n",
      "WARNING:pyFAI.io:Destination file /Users/vsomani/Documents/SWAXS_data_reduction_correction_Analysis/larger_test/1D/SAXS/Reduction/sone_Run11_PS_AcOH_RampT145_ctr50_scan1_0000.dat exists\n",
      "WARNING:pyFAI.io:Destination file /Users/vsomani/Documents/SWAXS_data_reduction_correction_Analysis/larger_test/1D/SAXS/Reduction/sone_Run11_PS_AcOH_RampT145_ctr50_scan1_0001.dat exists\n",
      "WARNING:pyFAI.io:Destination file /Users/vsomani/Documents/SWAXS_data_reduction_correction_Analysis/larger_test/1D/SAXS/Reduction/sone_Run11_PS_AcOH_RampT145_ctr50_scan1_0002.dat exists\n",
      "WARNING:pyFAI.io:Destination file /Users/vsomani/Documents/SWAXS_data_reduction_correction_Analysis/larger_test/1D/SAXS/Reduction/sone_Run11_PS_AcOH_RampT147_ctr51_scan1_0000.dat exists\n",
      "WARNING:pyFAI.io:Destination file /Users/vsomani/Documents/SWAXS_data_reduction_correction_Analysis/larger_test/1D/SAXS/Reduction/sone_Run11_PS_AcOH_RampT147_ctr51_scan1_0001.dat exists\n"
     ]
    },
    {
     "name": "stdout",
     "output_type": "stream",
     "text": [
      "  Saved to: /Users/vsomani/Documents/SWAXS_data_reduction_correction_Analysis/larger_test/1D/SAXS/Reduction/sone_Run11_PS_AcOH_RampT142_ctr49_scan1_0002.dat\n",
      "Processing SAXS file: /Users/vsomani/Documents/SWAXS_data_reduction_correction_Analysis/larger_test/2D/SAXS/sone_Run11_PS_AcOH_RampT145_ctr50_scan1_0000.raw\n",
      "  I0: 21.035, Bstop: 5.014, Trans_factor: 5.014, Trans_ratio: 0.2384, Normalization: 105.468\n",
      "  Saved to: /Users/vsomani/Documents/SWAXS_data_reduction_correction_Analysis/larger_test/1D/SAXS/Reduction/sone_Run11_PS_AcOH_RampT145_ctr50_scan1_0000.dat\n",
      "Processing SAXS file: /Users/vsomani/Documents/SWAXS_data_reduction_correction_Analysis/larger_test/2D/SAXS/sone_Run11_PS_AcOH_RampT145_ctr50_scan1_0001.raw\n",
      "  I0: 21.010, Bstop: 5.011, Trans_factor: 5.011, Trans_ratio: 0.2385, Normalization: 105.274\n",
      "  Saved to: /Users/vsomani/Documents/SWAXS_data_reduction_correction_Analysis/larger_test/1D/SAXS/Reduction/sone_Run11_PS_AcOH_RampT145_ctr50_scan1_0001.dat\n",
      "Processing SAXS file: /Users/vsomani/Documents/SWAXS_data_reduction_correction_Analysis/larger_test/2D/SAXS/sone_Run11_PS_AcOH_RampT145_ctr50_scan1_0002.raw\n",
      "  I0: 21.068, Bstop: 5.008, Trans_factor: 5.008, Trans_ratio: 0.2377, Normalization: 105.510\n",
      "  Saved to: /Users/vsomani/Documents/SWAXS_data_reduction_correction_Analysis/larger_test/1D/SAXS/Reduction/sone_Run11_PS_AcOH_RampT145_ctr50_scan1_0002.dat\n",
      "Processing SAXS file: /Users/vsomani/Documents/SWAXS_data_reduction_correction_Analysis/larger_test/2D/SAXS/sone_Run11_PS_AcOH_RampT147_ctr51_scan1_0000.raw\n",
      "  I0: 21.197, Bstop: 5.068, Trans_factor: 5.068, Trans_ratio: 0.2391, Normalization: 107.418\n",
      "  Saved to: /Users/vsomani/Documents/SWAXS_data_reduction_correction_Analysis/larger_test/1D/SAXS/Reduction/sone_Run11_PS_AcOH_RampT147_ctr51_scan1_0000.dat\n",
      "Processing SAXS file: /Users/vsomani/Documents/SWAXS_data_reduction_correction_Analysis/larger_test/2D/SAXS/sone_Run11_PS_AcOH_RampT147_ctr51_scan1_0001.raw\n",
      "  I0: 21.175, Bstop: 5.044, Trans_factor: 5.044, Trans_ratio: 0.2382, Normalization: 106.801\n",
      "  Saved to: /Users/vsomani/Documents/SWAXS_data_reduction_correction_Analysis/larger_test/1D/SAXS/Reduction/sone_Run11_PS_AcOH_RampT147_ctr51_scan1_0001.dat\n",
      "Processing SAXS file: /Users/vsomani/Documents/SWAXS_data_reduction_correction_Analysis/larger_test/2D/SAXS/sone_Run11_PS_AcOH_RampT147_ctr51_scan1_0002.raw\n",
      "  I0: 21.114, Bstop: 4.994, Trans_factor: 4.994, Trans_ratio: 0.2365, Normalization: 105.440\n"
     ]
    },
    {
     "name": "stderr",
     "output_type": "stream",
     "text": [
      "WARNING:pyFAI.io:Destination file /Users/vsomani/Documents/SWAXS_data_reduction_correction_Analysis/larger_test/1D/SAXS/Reduction/sone_Run11_PS_AcOH_RampT147_ctr51_scan1_0002.dat exists\n",
      "WARNING:pyFAI.io:Destination file /Users/vsomani/Documents/SWAXS_data_reduction_correction_Analysis/larger_test/1D/SAXS/Reduction/sone_Run11_PS_AcOH_RampT150_ctr52_scan1_0000.dat exists\n",
      "WARNING:pyFAI.io:Destination file /Users/vsomani/Documents/SWAXS_data_reduction_correction_Analysis/larger_test/1D/SAXS/Reduction/sone_Run11_PS_AcOH_RampT150_ctr52_scan1_0001.dat exists\n",
      "WARNING:pyFAI.io:Destination file /Users/vsomani/Documents/SWAXS_data_reduction_correction_Analysis/larger_test/1D/SAXS/Reduction/sone_Run11_PS_AcOH_RampT150_ctr52_scan1_0002.dat exists\n",
      "WARNING:pyFAI.io:Destination file /Users/vsomani/Documents/SWAXS_data_reduction_correction_Analysis/larger_test/1D/SAXS/Reduction/sone_Run11_PS_AcOH_RampT152_ctr53_scan1_0000.dat exists\n",
      "WARNING:pyFAI.io:Destination file /Users/vsomani/Documents/SWAXS_data_reduction_correction_Analysis/larger_test/1D/SAXS/Reduction/sone_Run11_PS_AcOH_RampT152_ctr53_scan1_0001.dat exists\n"
     ]
    },
    {
     "name": "stdout",
     "output_type": "stream",
     "text": [
      "  Saved to: /Users/vsomani/Documents/SWAXS_data_reduction_correction_Analysis/larger_test/1D/SAXS/Reduction/sone_Run11_PS_AcOH_RampT147_ctr51_scan1_0002.dat\n",
      "Processing SAXS file: /Users/vsomani/Documents/SWAXS_data_reduction_correction_Analysis/larger_test/2D/SAXS/sone_Run11_PS_AcOH_RampT150_ctr52_scan1_0000.raw\n",
      "  I0: 21.141, Bstop: 5.042, Trans_factor: 5.042, Trans_ratio: 0.2385, Normalization: 106.602\n",
      "  Saved to: /Users/vsomani/Documents/SWAXS_data_reduction_correction_Analysis/larger_test/1D/SAXS/Reduction/sone_Run11_PS_AcOH_RampT150_ctr52_scan1_0000.dat\n",
      "Processing SAXS file: /Users/vsomani/Documents/SWAXS_data_reduction_correction_Analysis/larger_test/2D/SAXS/sone_Run11_PS_AcOH_RampT150_ctr52_scan1_0001.raw\n",
      "  I0: 20.993, Bstop: 5.012, Trans_factor: 5.012, Trans_ratio: 0.2388, Normalization: 105.218\n",
      "  Saved to: /Users/vsomani/Documents/SWAXS_data_reduction_correction_Analysis/larger_test/1D/SAXS/Reduction/sone_Run11_PS_AcOH_RampT150_ctr52_scan1_0001.dat\n",
      "Processing SAXS file: /Users/vsomani/Documents/SWAXS_data_reduction_correction_Analysis/larger_test/2D/SAXS/sone_Run11_PS_AcOH_RampT150_ctr52_scan1_0002.raw\n",
      "  I0: 21.011, Bstop: 4.968, Trans_factor: 4.968, Trans_ratio: 0.2364, Normalization: 104.383\n",
      "  Saved to: /Users/vsomani/Documents/SWAXS_data_reduction_correction_Analysis/larger_test/1D/SAXS/Reduction/sone_Run11_PS_AcOH_RampT150_ctr52_scan1_0002.dat\n",
      "Processing SAXS file: /Users/vsomani/Documents/SWAXS_data_reduction_correction_Analysis/larger_test/2D/SAXS/sone_Run11_PS_AcOH_RampT152_ctr53_scan1_0000.raw\n",
      "  I0: 21.040, Bstop: 5.005, Trans_factor: 5.005, Trans_ratio: 0.2379, Normalization: 105.309\n",
      "  Saved to: /Users/vsomani/Documents/SWAXS_data_reduction_correction_Analysis/larger_test/1D/SAXS/Reduction/sone_Run11_PS_AcOH_RampT152_ctr53_scan1_0000.dat\n",
      "Processing SAXS file: /Users/vsomani/Documents/SWAXS_data_reduction_correction_Analysis/larger_test/2D/SAXS/sone_Run11_PS_AcOH_RampT152_ctr53_scan1_0001.raw\n",
      "  I0: 21.224, Bstop: 5.052, Trans_factor: 5.052, Trans_ratio: 0.2380, Normalization: 107.228\n",
      "  Saved to: /Users/vsomani/Documents/SWAXS_data_reduction_correction_Analysis/larger_test/1D/SAXS/Reduction/sone_Run11_PS_AcOH_RampT152_ctr53_scan1_0001.dat\n",
      "Processing SAXS file: /Users/vsomani/Documents/SWAXS_data_reduction_correction_Analysis/larger_test/2D/SAXS/sone_Run11_PS_AcOH_RampT152_ctr53_scan1_0002.raw\n",
      "  I0: 21.271, Bstop: 5.023, Trans_factor: 5.023, Trans_ratio: 0.2361, Normalization: 106.844\n"
     ]
    },
    {
     "name": "stderr",
     "output_type": "stream",
     "text": [
      "WARNING:pyFAI.io:Destination file /Users/vsomani/Documents/SWAXS_data_reduction_correction_Analysis/larger_test/1D/SAXS/Reduction/sone_Run11_PS_AcOH_RampT152_ctr53_scan1_0002.dat exists\n",
      "WARNING:pyFAI.io:Destination file /Users/vsomani/Documents/SWAXS_data_reduction_correction_Analysis/larger_test/1D/SAXS/Reduction/sone_Run11_PS_AcOH_RampT155_ctr54_scan1_0000.dat exists\n",
      "WARNING:pyFAI.io:Destination file /Users/vsomani/Documents/SWAXS_data_reduction_correction_Analysis/larger_test/1D/SAXS/Reduction/sone_Run11_PS_AcOH_RampT155_ctr54_scan1_0001.dat exists\n",
      "WARNING:pyFAI.io:Destination file /Users/vsomani/Documents/SWAXS_data_reduction_correction_Analysis/larger_test/1D/SAXS/Reduction/sone_Run11_PS_AcOH_RampT155_ctr54_scan1_0002.dat exists\n",
      "WARNING:pyFAI.io:Destination file /Users/vsomani/Documents/SWAXS_data_reduction_correction_Analysis/larger_test/1D/SAXS/Reduction/sone_Run11_PS_AcOH_RampT157_ctr55_scan1_0000.dat exists\n"
     ]
    },
    {
     "name": "stdout",
     "output_type": "stream",
     "text": [
      "  Saved to: /Users/vsomani/Documents/SWAXS_data_reduction_correction_Analysis/larger_test/1D/SAXS/Reduction/sone_Run11_PS_AcOH_RampT152_ctr53_scan1_0002.dat\n",
      "Processing SAXS file: /Users/vsomani/Documents/SWAXS_data_reduction_correction_Analysis/larger_test/2D/SAXS/sone_Run11_PS_AcOH_RampT155_ctr54_scan1_0000.raw\n",
      "  I0: 21.202, Bstop: 5.039, Trans_factor: 5.039, Trans_ratio: 0.2377, Normalization: 106.840\n",
      "  Saved to: /Users/vsomani/Documents/SWAXS_data_reduction_correction_Analysis/larger_test/1D/SAXS/Reduction/sone_Run11_PS_AcOH_RampT155_ctr54_scan1_0000.dat\n",
      "Processing SAXS file: /Users/vsomani/Documents/SWAXS_data_reduction_correction_Analysis/larger_test/2D/SAXS/sone_Run11_PS_AcOH_RampT155_ctr54_scan1_0001.raw\n",
      "  I0: 21.086, Bstop: 5.093, Trans_factor: 5.093, Trans_ratio: 0.2415, Normalization: 107.382\n",
      "  Saved to: /Users/vsomani/Documents/SWAXS_data_reduction_correction_Analysis/larger_test/1D/SAXS/Reduction/sone_Run11_PS_AcOH_RampT155_ctr54_scan1_0001.dat\n",
      "Processing SAXS file: /Users/vsomani/Documents/SWAXS_data_reduction_correction_Analysis/larger_test/2D/SAXS/sone_Run11_PS_AcOH_RampT155_ctr54_scan1_0002.raw\n",
      "  I0: 21.106, Bstop: 5.015, Trans_factor: 5.015, Trans_ratio: 0.2376, Normalization: 105.841\n",
      "  Saved to: /Users/vsomani/Documents/SWAXS_data_reduction_correction_Analysis/larger_test/1D/SAXS/Reduction/sone_Run11_PS_AcOH_RampT155_ctr54_scan1_0002.dat\n",
      "Processing SAXS file: /Users/vsomani/Documents/SWAXS_data_reduction_correction_Analysis/larger_test/2D/SAXS/sone_Run11_PS_AcOH_RampT157_ctr55_scan1_0000.raw\n",
      "  I0: 21.121, Bstop: 5.010, Trans_factor: 5.010, Trans_ratio: 0.2372, Normalization: 105.823\n"
     ]
    },
    {
     "name": "stderr",
     "output_type": "stream",
     "text": [
      "WARNING:pyFAI.io:Destination file /Users/vsomani/Documents/SWAXS_data_reduction_correction_Analysis/larger_test/1D/SAXS/Reduction/sone_Run11_PS_AcOH_RampT157_ctr55_scan1_0001.dat exists\n",
      "WARNING:pyFAI.io:Destination file /Users/vsomani/Documents/SWAXS_data_reduction_correction_Analysis/larger_test/1D/SAXS/Reduction/sone_Run11_PS_AcOH_RampT157_ctr55_scan1_0002.dat exists\n",
      "WARNING:pyFAI.io:Destination file /Users/vsomani/Documents/SWAXS_data_reduction_correction_Analysis/larger_test/1D/SAXS/Reduction/sone_Run11_PS_AcOH_RampT160_ctr56_scan1_0000.dat exists\n",
      "WARNING:pyFAI.io:Destination file /Users/vsomani/Documents/SWAXS_data_reduction_correction_Analysis/larger_test/1D/SAXS/Reduction/sone_Run11_PS_AcOH_RampT160_ctr56_scan1_0001.dat exists\n",
      "WARNING:pyFAI.io:Destination file /Users/vsomani/Documents/SWAXS_data_reduction_correction_Analysis/larger_test/1D/SAXS/Reduction/sone_Run11_PS_AcOH_RampT160_ctr56_scan1_0002.dat exists\n"
     ]
    },
    {
     "name": "stdout",
     "output_type": "stream",
     "text": [
      "  Saved to: /Users/vsomani/Documents/SWAXS_data_reduction_correction_Analysis/larger_test/1D/SAXS/Reduction/sone_Run11_PS_AcOH_RampT157_ctr55_scan1_0000.dat\n",
      "Processing SAXS file: /Users/vsomani/Documents/SWAXS_data_reduction_correction_Analysis/larger_test/2D/SAXS/sone_Run11_PS_AcOH_RampT157_ctr55_scan1_0001.raw\n",
      "  I0: 20.945, Bstop: 5.094, Trans_factor: 5.094, Trans_ratio: 0.2432, Normalization: 106.683\n",
      "  Saved to: /Users/vsomani/Documents/SWAXS_data_reduction_correction_Analysis/larger_test/1D/SAXS/Reduction/sone_Run11_PS_AcOH_RampT157_ctr55_scan1_0001.dat\n",
      "Processing SAXS file: /Users/vsomani/Documents/SWAXS_data_reduction_correction_Analysis/larger_test/2D/SAXS/sone_Run11_PS_AcOH_RampT157_ctr55_scan1_0002.raw\n",
      "  I0: 20.978, Bstop: 4.984, Trans_factor: 4.984, Trans_ratio: 0.2376, Normalization: 104.556\n",
      "  Saved to: /Users/vsomani/Documents/SWAXS_data_reduction_correction_Analysis/larger_test/1D/SAXS/Reduction/sone_Run11_PS_AcOH_RampT157_ctr55_scan1_0002.dat\n",
      "Processing SAXS file: /Users/vsomani/Documents/SWAXS_data_reduction_correction_Analysis/larger_test/2D/SAXS/sone_Run11_PS_AcOH_RampT160_ctr56_scan1_0000.raw\n",
      "  I0: 20.912, Bstop: 4.984, Trans_factor: 4.984, Trans_ratio: 0.2383, Normalization: 104.220\n",
      "  Saved to: /Users/vsomani/Documents/SWAXS_data_reduction_correction_Analysis/larger_test/1D/SAXS/Reduction/sone_Run11_PS_AcOH_RampT160_ctr56_scan1_0000.dat\n",
      "Processing SAXS file: /Users/vsomani/Documents/SWAXS_data_reduction_correction_Analysis/larger_test/2D/SAXS/sone_Run11_PS_AcOH_RampT160_ctr56_scan1_0001.raw\n",
      "  I0: 21.060, Bstop: 5.165, Trans_factor: 5.165, Trans_ratio: 0.2452, Normalization: 108.777\n",
      "  Saved to: /Users/vsomani/Documents/SWAXS_data_reduction_correction_Analysis/larger_test/1D/SAXS/Reduction/sone_Run11_PS_AcOH_RampT160_ctr56_scan1_0001.dat\n",
      "Processing SAXS file: /Users/vsomani/Documents/SWAXS_data_reduction_correction_Analysis/larger_test/2D/SAXS/sone_Run11_PS_AcOH_RampT160_ctr56_scan1_0002.raw\n",
      "  I0: 21.083, Bstop: 5.124, Trans_factor: 5.124, Trans_ratio: 0.2430, Normalization: 108.025\n",
      "  Saved to: /Users/vsomani/Documents/SWAXS_data_reduction_correction_Analysis/larger_test/1D/SAXS/Reduction/sone_Run11_PS_AcOH_RampT160_ctr56_scan1_0002.dat\n",
      "Processing SAXS file: /Users/vsomani/Documents/SWAXS_data_reduction_correction_Analysis/larger_test/2D/SAXS/sone_Run11_PS_AcOH_RampT20_ctr0_scan1_0000.raw\n",
      "  I0: 0.421, Bstop: 0.094, Trans_factor: 0.094, Trans_ratio: 0.2238, Normalization: 0.040\n"
     ]
    },
    {
     "name": "stderr",
     "output_type": "stream",
     "text": [
      "WARNING:pyFAI.io:Destination file /Users/vsomani/Documents/SWAXS_data_reduction_correction_Analysis/larger_test/1D/SAXS/Reduction/sone_Run11_PS_AcOH_RampT20_ctr0_scan1_0000.dat exists\n",
      "WARNING:pyFAI.io:Destination file /Users/vsomani/Documents/SWAXS_data_reduction_correction_Analysis/larger_test/1D/SAXS/Reduction/sone_Run11_PS_AcOH_RampT20_ctr0_scan1_0001.dat exists\n",
      "WARNING:pyFAI.io:Destination file /Users/vsomani/Documents/SWAXS_data_reduction_correction_Analysis/larger_test/1D/SAXS/Reduction/sone_Run11_PS_AcOH_RampT20_ctr0_scan1_0002.dat exists\n",
      "WARNING:pyFAI.io:Destination file /Users/vsomani/Documents/SWAXS_data_reduction_correction_Analysis/larger_test/1D/SAXS/Reduction/sone_Run11_PS_AcOH_RampT22_ctr1_scan1_0000.dat exists\n",
      "WARNING:pyFAI.io:Destination file /Users/vsomani/Documents/SWAXS_data_reduction_correction_Analysis/larger_test/1D/SAXS/Reduction/sone_Run11_PS_AcOH_RampT22_ctr1_scan1_0001.dat exists\n",
      "WARNING:pyFAI.io:Destination file /Users/vsomani/Documents/SWAXS_data_reduction_correction_Analysis/larger_test/1D/SAXS/Reduction/sone_Run11_PS_AcOH_RampT22_ctr1_scan1_0002.dat exists\n"
     ]
    },
    {
     "name": "stdout",
     "output_type": "stream",
     "text": [
      "  Saved to: /Users/vsomani/Documents/SWAXS_data_reduction_correction_Analysis/larger_test/1D/SAXS/Reduction/sone_Run11_PS_AcOH_RampT20_ctr0_scan1_0000.dat\n",
      "Processing SAXS file: /Users/vsomani/Documents/SWAXS_data_reduction_correction_Analysis/larger_test/2D/SAXS/sone_Run11_PS_AcOH_RampT20_ctr0_scan1_0001.raw\n",
      "  I0: 21.106, Bstop: 4.728, Trans_factor: 4.728, Trans_ratio: 0.2240, Normalization: 99.795\n",
      "  Saved to: /Users/vsomani/Documents/SWAXS_data_reduction_correction_Analysis/larger_test/1D/SAXS/Reduction/sone_Run11_PS_AcOH_RampT20_ctr0_scan1_0001.dat\n",
      "Processing SAXS file: /Users/vsomani/Documents/SWAXS_data_reduction_correction_Analysis/larger_test/2D/SAXS/sone_Run11_PS_AcOH_RampT20_ctr0_scan1_0002.raw\n",
      "  I0: 21.112, Bstop: 4.722, Trans_factor: 4.722, Trans_ratio: 0.2237, Normalization: 99.697\n",
      "  Saved to: /Users/vsomani/Documents/SWAXS_data_reduction_correction_Analysis/larger_test/1D/SAXS/Reduction/sone_Run11_PS_AcOH_RampT20_ctr0_scan1_0002.dat\n",
      "Processing SAXS file: /Users/vsomani/Documents/SWAXS_data_reduction_correction_Analysis/larger_test/2D/SAXS/sone_Run11_PS_AcOH_RampT22_ctr1_scan1_0000.raw\n",
      "  I0: 21.273, Bstop: 4.756, Trans_factor: 4.756, Trans_ratio: 0.2236, Normalization: 101.174\n",
      "  Saved to: /Users/vsomani/Documents/SWAXS_data_reduction_correction_Analysis/larger_test/1D/SAXS/Reduction/sone_Run11_PS_AcOH_RampT22_ctr1_scan1_0000.dat\n",
      "Processing SAXS file: /Users/vsomani/Documents/SWAXS_data_reduction_correction_Analysis/larger_test/2D/SAXS/sone_Run11_PS_AcOH_RampT22_ctr1_scan1_0001.raw\n",
      "  I0: 21.439, Bstop: 4.786, Trans_factor: 4.786, Trans_ratio: 0.2232, Normalization: 102.611\n",
      "  Saved to: /Users/vsomani/Documents/SWAXS_data_reduction_correction_Analysis/larger_test/1D/SAXS/Reduction/sone_Run11_PS_AcOH_RampT22_ctr1_scan1_0001.dat\n",
      "Processing SAXS file: /Users/vsomani/Documents/SWAXS_data_reduction_correction_Analysis/larger_test/2D/SAXS/sone_Run11_PS_AcOH_RampT22_ctr1_scan1_0002.raw\n",
      "  I0: 21.430, Bstop: 4.774, Trans_factor: 4.774, Trans_ratio: 0.2228, Normalization: 102.301\n",
      "  Saved to: /Users/vsomani/Documents/SWAXS_data_reduction_correction_Analysis/larger_test/1D/SAXS/Reduction/sone_Run11_PS_AcOH_RampT22_ctr1_scan1_0002.dat\n",
      "Processing SAXS file: /Users/vsomani/Documents/SWAXS_data_reduction_correction_Analysis/larger_test/2D/SAXS/sone_Run11_PS_AcOH_RampT25_ctr2_scan1_0000.raw\n",
      "  I0: 21.413, Bstop: 4.779, Trans_factor: 4.779, Trans_ratio: 0.2232, Normalization: 102.336\n"
     ]
    },
    {
     "name": "stderr",
     "output_type": "stream",
     "text": [
      "WARNING:pyFAI.io:Destination file /Users/vsomani/Documents/SWAXS_data_reduction_correction_Analysis/larger_test/1D/SAXS/Reduction/sone_Run11_PS_AcOH_RampT25_ctr2_scan1_0000.dat exists\n",
      "WARNING:pyFAI.io:Destination file /Users/vsomani/Documents/SWAXS_data_reduction_correction_Analysis/larger_test/1D/SAXS/Reduction/sone_Run11_PS_AcOH_RampT25_ctr2_scan1_0001.dat exists\n",
      "WARNING:pyFAI.io:Destination file /Users/vsomani/Documents/SWAXS_data_reduction_correction_Analysis/larger_test/1D/SAXS/Reduction/sone_Run11_PS_AcOH_RampT25_ctr2_scan1_0002.dat exists\n",
      "WARNING:pyFAI.io:Destination file /Users/vsomani/Documents/SWAXS_data_reduction_correction_Analysis/larger_test/1D/SAXS/Reduction/sone_Run11_PS_AcOH_RampT27_ctr3_scan1_0000.dat exists\n",
      "WARNING:pyFAI.io:Destination file /Users/vsomani/Documents/SWAXS_data_reduction_correction_Analysis/larger_test/1D/SAXS/Reduction/sone_Run11_PS_AcOH_RampT27_ctr3_scan1_0001.dat exists\n",
      "WARNING:pyFAI.io:Destination file /Users/vsomani/Documents/SWAXS_data_reduction_correction_Analysis/larger_test/1D/SAXS/Reduction/sone_Run11_PS_AcOH_RampT27_ctr3_scan1_0002.dat exists\n"
     ]
    },
    {
     "name": "stdout",
     "output_type": "stream",
     "text": [
      "  Saved to: /Users/vsomani/Documents/SWAXS_data_reduction_correction_Analysis/larger_test/1D/SAXS/Reduction/sone_Run11_PS_AcOH_RampT25_ctr2_scan1_0000.dat\n",
      "Processing SAXS file: /Users/vsomani/Documents/SWAXS_data_reduction_correction_Analysis/larger_test/2D/SAXS/sone_Run11_PS_AcOH_RampT25_ctr2_scan1_0001.raw\n",
      "  I0: 21.331, Bstop: 4.772, Trans_factor: 4.772, Trans_ratio: 0.2237, Normalization: 101.784\n",
      "  Saved to: /Users/vsomani/Documents/SWAXS_data_reduction_correction_Analysis/larger_test/1D/SAXS/Reduction/sone_Run11_PS_AcOH_RampT25_ctr2_scan1_0001.dat\n",
      "Processing SAXS file: /Users/vsomani/Documents/SWAXS_data_reduction_correction_Analysis/larger_test/2D/SAXS/sone_Run11_PS_AcOH_RampT25_ctr2_scan1_0002.raw\n",
      "  I0: 21.346, Bstop: 4.767, Trans_factor: 4.767, Trans_ratio: 0.2233, Normalization: 101.747\n",
      "  Saved to: /Users/vsomani/Documents/SWAXS_data_reduction_correction_Analysis/larger_test/1D/SAXS/Reduction/sone_Run11_PS_AcOH_RampT25_ctr2_scan1_0002.dat\n",
      "Processing SAXS file: /Users/vsomani/Documents/SWAXS_data_reduction_correction_Analysis/larger_test/2D/SAXS/sone_Run11_PS_AcOH_RampT27_ctr3_scan1_0000.raw\n",
      "  I0: 21.307, Bstop: 4.767, Trans_factor: 4.767, Trans_ratio: 0.2237, Normalization: 101.570\n",
      "  Saved to: /Users/vsomani/Documents/SWAXS_data_reduction_correction_Analysis/larger_test/1D/SAXS/Reduction/sone_Run11_PS_AcOH_RampT27_ctr3_scan1_0000.dat\n",
      "Processing SAXS file: /Users/vsomani/Documents/SWAXS_data_reduction_correction_Analysis/larger_test/2D/SAXS/sone_Run11_PS_AcOH_RampT27_ctr3_scan1_0001.raw\n",
      "  I0: 21.264, Bstop: 4.764, Trans_factor: 4.764, Trans_ratio: 0.2241, Normalization: 101.313\n",
      "  Saved to: /Users/vsomani/Documents/SWAXS_data_reduction_correction_Analysis/larger_test/1D/SAXS/Reduction/sone_Run11_PS_AcOH_RampT27_ctr3_scan1_0001.dat\n",
      "Processing SAXS file: /Users/vsomani/Documents/SWAXS_data_reduction_correction_Analysis/larger_test/2D/SAXS/sone_Run11_PS_AcOH_RampT27_ctr3_scan1_0002.raw\n",
      "  I0: 21.305, Bstop: 4.765, Trans_factor: 4.765, Trans_ratio: 0.2236, Normalization: 101.513\n",
      "  Saved to: /Users/vsomani/Documents/SWAXS_data_reduction_correction_Analysis/larger_test/1D/SAXS/Reduction/sone_Run11_PS_AcOH_RampT27_ctr3_scan1_0002.dat\n",
      "Processing SAXS file: /Users/vsomani/Documents/SWAXS_data_reduction_correction_Analysis/larger_test/2D/SAXS/sone_Run11_PS_AcOH_RampT30_ctr4_scan1_0000.raw\n"
     ]
    },
    {
     "name": "stderr",
     "output_type": "stream",
     "text": [
      "WARNING:pyFAI.io:Destination file /Users/vsomani/Documents/SWAXS_data_reduction_correction_Analysis/larger_test/1D/SAXS/Reduction/sone_Run11_PS_AcOH_RampT30_ctr4_scan1_0000.dat exists\n",
      "WARNING:pyFAI.io:Destination file /Users/vsomani/Documents/SWAXS_data_reduction_correction_Analysis/larger_test/1D/SAXS/Reduction/sone_Run11_PS_AcOH_RampT30_ctr4_scan1_0001.dat exists\n",
      "WARNING:pyFAI.io:Destination file /Users/vsomani/Documents/SWAXS_data_reduction_correction_Analysis/larger_test/1D/SAXS/Reduction/sone_Run11_PS_AcOH_RampT30_ctr4_scan1_0002.dat exists\n",
      "WARNING:pyFAI.io:Destination file /Users/vsomani/Documents/SWAXS_data_reduction_correction_Analysis/larger_test/1D/SAXS/Reduction/sone_Run11_PS_AcOH_RampT32_ctr5_scan1_0000.dat exists\n"
     ]
    },
    {
     "name": "stdout",
     "output_type": "stream",
     "text": [
      "  I0: 21.251, Bstop: 4.761, Trans_factor: 4.761, Trans_ratio: 0.2240, Normalization: 101.178\n",
      "  Saved to: /Users/vsomani/Documents/SWAXS_data_reduction_correction_Analysis/larger_test/1D/SAXS/Reduction/sone_Run11_PS_AcOH_RampT30_ctr4_scan1_0000.dat\n",
      "Processing SAXS file: /Users/vsomani/Documents/SWAXS_data_reduction_correction_Analysis/larger_test/2D/SAXS/sone_Run11_PS_AcOH_RampT30_ctr4_scan1_0001.raw\n",
      "  I0: 21.233, Bstop: 4.754, Trans_factor: 4.754, Trans_ratio: 0.2239, Normalization: 100.947\n",
      "  Saved to: /Users/vsomani/Documents/SWAXS_data_reduction_correction_Analysis/larger_test/1D/SAXS/Reduction/sone_Run11_PS_AcOH_RampT30_ctr4_scan1_0001.dat\n",
      "Processing SAXS file: /Users/vsomani/Documents/SWAXS_data_reduction_correction_Analysis/larger_test/2D/SAXS/sone_Run11_PS_AcOH_RampT30_ctr4_scan1_0002.raw\n",
      "  I0: 21.197, Bstop: 4.758, Trans_factor: 4.758, Trans_ratio: 0.2245, Normalization: 100.846\n",
      "  Saved to: /Users/vsomani/Documents/SWAXS_data_reduction_correction_Analysis/larger_test/1D/SAXS/Reduction/sone_Run11_PS_AcOH_RampT30_ctr4_scan1_0002.dat\n",
      "Processing SAXS file: /Users/vsomani/Documents/SWAXS_data_reduction_correction_Analysis/larger_test/2D/SAXS/sone_Run11_PS_AcOH_RampT32_ctr5_scan1_0000.raw\n",
      "  I0: 21.174, Bstop: 4.757, Trans_factor: 4.757, Trans_ratio: 0.2246, Normalization: 100.716\n"
     ]
    },
    {
     "name": "stderr",
     "output_type": "stream",
     "text": [
      "WARNING:pyFAI.io:Destination file /Users/vsomani/Documents/SWAXS_data_reduction_correction_Analysis/larger_test/1D/SAXS/Reduction/sone_Run11_PS_AcOH_RampT32_ctr5_scan1_0001.dat exists\n",
      "WARNING:pyFAI.io:Destination file /Users/vsomani/Documents/SWAXS_data_reduction_correction_Analysis/larger_test/1D/SAXS/Reduction/sone_Run11_PS_AcOH_RampT32_ctr5_scan1_0002.dat exists\n",
      "WARNING:pyFAI.io:Destination file /Users/vsomani/Documents/SWAXS_data_reduction_correction_Analysis/larger_test/1D/SAXS/Reduction/sone_Run11_PS_AcOH_RampT35_ctr6_scan1_0000.dat exists\n",
      "WARNING:pyFAI.io:Destination file /Users/vsomani/Documents/SWAXS_data_reduction_correction_Analysis/larger_test/1D/SAXS/Reduction/sone_Run11_PS_AcOH_RampT35_ctr6_scan1_0001.dat exists\n",
      "WARNING:pyFAI.io:Destination file /Users/vsomani/Documents/SWAXS_data_reduction_correction_Analysis/larger_test/1D/SAXS/Reduction/sone_Run11_PS_AcOH_RampT35_ctr6_scan1_0002.dat exists\n"
     ]
    },
    {
     "name": "stdout",
     "output_type": "stream",
     "text": [
      "  Saved to: /Users/vsomani/Documents/SWAXS_data_reduction_correction_Analysis/larger_test/1D/SAXS/Reduction/sone_Run11_PS_AcOH_RampT32_ctr5_scan1_0000.dat\n",
      "Processing SAXS file: /Users/vsomani/Documents/SWAXS_data_reduction_correction_Analysis/larger_test/2D/SAXS/sone_Run11_PS_AcOH_RampT32_ctr5_scan1_0001.raw\n",
      "  I0: 21.188, Bstop: 4.752, Trans_factor: 4.752, Trans_ratio: 0.2243, Normalization: 100.693\n",
      "  Saved to: /Users/vsomani/Documents/SWAXS_data_reduction_correction_Analysis/larger_test/1D/SAXS/Reduction/sone_Run11_PS_AcOH_RampT32_ctr5_scan1_0001.dat\n",
      "Processing SAXS file: /Users/vsomani/Documents/SWAXS_data_reduction_correction_Analysis/larger_test/2D/SAXS/sone_Run11_PS_AcOH_RampT32_ctr5_scan1_0002.raw\n",
      "  I0: 21.227, Bstop: 4.742, Trans_factor: 4.742, Trans_ratio: 0.2234, Normalization: 100.652\n",
      "  Saved to: /Users/vsomani/Documents/SWAXS_data_reduction_correction_Analysis/larger_test/1D/SAXS/Reduction/sone_Run11_PS_AcOH_RampT32_ctr5_scan1_0002.dat\n",
      "Processing SAXS file: /Users/vsomani/Documents/SWAXS_data_reduction_correction_Analysis/larger_test/2D/SAXS/sone_Run11_PS_AcOH_RampT35_ctr6_scan1_0000.raw\n",
      "  I0: 21.152, Bstop: 4.748, Trans_factor: 4.748, Trans_ratio: 0.2245, Normalization: 100.440\n",
      "  Saved to: /Users/vsomani/Documents/SWAXS_data_reduction_correction_Analysis/larger_test/1D/SAXS/Reduction/sone_Run11_PS_AcOH_RampT35_ctr6_scan1_0000.dat\n",
      "Processing SAXS file: /Users/vsomani/Documents/SWAXS_data_reduction_correction_Analysis/larger_test/2D/SAXS/sone_Run11_PS_AcOH_RampT35_ctr6_scan1_0001.raw\n",
      "  I0: 21.072, Bstop: 4.746, Trans_factor: 4.746, Trans_ratio: 0.2252, Normalization: 100.015\n",
      "  Saved to: /Users/vsomani/Documents/SWAXS_data_reduction_correction_Analysis/larger_test/1D/SAXS/Reduction/sone_Run11_PS_AcOH_RampT35_ctr6_scan1_0001.dat\n",
      "Processing SAXS file: /Users/vsomani/Documents/SWAXS_data_reduction_correction_Analysis/larger_test/2D/SAXS/sone_Run11_PS_AcOH_RampT35_ctr6_scan1_0002.raw\n",
      "  I0: 21.096, Bstop: 4.740, Trans_factor: 4.740, Trans_ratio: 0.2247, Normalization: 99.995\n",
      "  Saved to: /Users/vsomani/Documents/SWAXS_data_reduction_correction_Analysis/larger_test/1D/SAXS/Reduction/sone_Run11_PS_AcOH_RampT35_ctr6_scan1_0002.dat\n",
      "Processing SAXS file: /Users/vsomani/Documents/SWAXS_data_reduction_correction_Analysis/larger_test/2D/SAXS/sone_Run11_PS_AcOH_RampT37_ctr7_scan1_0000.raw\n",
      "  I0: 21.229, Bstop: 4.757, Trans_factor: 4.757, Trans_ratio: 0.2241, Normalization: 100.981\n"
     ]
    },
    {
     "name": "stderr",
     "output_type": "stream",
     "text": [
      "WARNING:pyFAI.io:Destination file /Users/vsomani/Documents/SWAXS_data_reduction_correction_Analysis/larger_test/1D/SAXS/Reduction/sone_Run11_PS_AcOH_RampT37_ctr7_scan1_0000.dat exists\n",
      "WARNING:pyFAI.io:Destination file /Users/vsomani/Documents/SWAXS_data_reduction_correction_Analysis/larger_test/1D/SAXS/Reduction/sone_Run11_PS_AcOH_RampT37_ctr7_scan1_0001.dat exists\n",
      "WARNING:pyFAI.io:Destination file /Users/vsomani/Documents/SWAXS_data_reduction_correction_Analysis/larger_test/1D/SAXS/Reduction/sone_Run11_PS_AcOH_RampT37_ctr7_scan1_0002.dat exists\n",
      "WARNING:pyFAI.io:Destination file /Users/vsomani/Documents/SWAXS_data_reduction_correction_Analysis/larger_test/1D/SAXS/Reduction/sone_Run11_PS_AcOH_RampT40_ctr8_scan1_0000.dat exists\n",
      "WARNING:pyFAI.io:Destination file /Users/vsomani/Documents/SWAXS_data_reduction_correction_Analysis/larger_test/1D/SAXS/Reduction/sone_Run11_PS_AcOH_RampT40_ctr8_scan1_0001.dat exists\n",
      "WARNING:pyFAI.io:Destination file /Users/vsomani/Documents/SWAXS_data_reduction_correction_Analysis/larger_test/1D/SAXS/Reduction/sone_Run11_PS_AcOH_RampT40_ctr8_scan1_0002.dat exists\n"
     ]
    },
    {
     "name": "stdout",
     "output_type": "stream",
     "text": [
      "  Saved to: /Users/vsomani/Documents/SWAXS_data_reduction_correction_Analysis/larger_test/1D/SAXS/Reduction/sone_Run11_PS_AcOH_RampT37_ctr7_scan1_0000.dat\n",
      "Processing SAXS file: /Users/vsomani/Documents/SWAXS_data_reduction_correction_Analysis/larger_test/2D/SAXS/sone_Run11_PS_AcOH_RampT37_ctr7_scan1_0001.raw\n",
      "  I0: 21.363, Bstop: 4.799, Trans_factor: 4.799, Trans_ratio: 0.2246, Normalization: 102.525\n",
      "  Saved to: /Users/vsomani/Documents/SWAXS_data_reduction_correction_Analysis/larger_test/1D/SAXS/Reduction/sone_Run11_PS_AcOH_RampT37_ctr7_scan1_0001.dat\n",
      "Processing SAXS file: /Users/vsomani/Documents/SWAXS_data_reduction_correction_Analysis/larger_test/2D/SAXS/sone_Run11_PS_AcOH_RampT37_ctr7_scan1_0002.raw\n",
      "  I0: 21.394, Bstop: 4.798, Trans_factor: 4.798, Trans_ratio: 0.2243, Normalization: 102.650\n",
      "  Saved to: /Users/vsomani/Documents/SWAXS_data_reduction_correction_Analysis/larger_test/1D/SAXS/Reduction/sone_Run11_PS_AcOH_RampT37_ctr7_scan1_0002.dat\n",
      "Processing SAXS file: /Users/vsomani/Documents/SWAXS_data_reduction_correction_Analysis/larger_test/2D/SAXS/sone_Run11_PS_AcOH_RampT40_ctr8_scan1_0000.raw\n",
      "  I0: 21.369, Bstop: 4.801, Trans_factor: 4.801, Trans_ratio: 0.2247, Normalization: 102.598\n",
      "  Saved to: /Users/vsomani/Documents/SWAXS_data_reduction_correction_Analysis/larger_test/1D/SAXS/Reduction/sone_Run11_PS_AcOH_RampT40_ctr8_scan1_0000.dat\n",
      "Processing SAXS file: /Users/vsomani/Documents/SWAXS_data_reduction_correction_Analysis/larger_test/2D/SAXS/sone_Run11_PS_AcOH_RampT40_ctr8_scan1_0001.raw\n",
      "  I0: 21.320, Bstop: 4.793, Trans_factor: 4.793, Trans_ratio: 0.2248, Normalization: 102.178\n",
      "  Saved to: /Users/vsomani/Documents/SWAXS_data_reduction_correction_Analysis/larger_test/1D/SAXS/Reduction/sone_Run11_PS_AcOH_RampT40_ctr8_scan1_0001.dat\n",
      "Processing SAXS file: /Users/vsomani/Documents/SWAXS_data_reduction_correction_Analysis/larger_test/2D/SAXS/sone_Run11_PS_AcOH_RampT40_ctr8_scan1_0002.raw\n",
      "  I0: 21.305, Bstop: 4.789, Trans_factor: 4.789, Trans_ratio: 0.2248, Normalization: 102.035\n",
      "  Saved to: /Users/vsomani/Documents/SWAXS_data_reduction_correction_Analysis/larger_test/1D/SAXS/Reduction/sone_Run11_PS_AcOH_RampT40_ctr8_scan1_0002.dat\n",
      "Processing SAXS file: /Users/vsomani/Documents/SWAXS_data_reduction_correction_Analysis/larger_test/2D/SAXS/sone_Run11_PS_AcOH_RampT42_ctr9_scan1_0000.raw\n",
      "  I0: 21.307, Bstop: 4.788, Trans_factor: 4.788, Trans_ratio: 0.2247, Normalization: 102.021\n"
     ]
    },
    {
     "name": "stderr",
     "output_type": "stream",
     "text": [
      "WARNING:pyFAI.io:Destination file /Users/vsomani/Documents/SWAXS_data_reduction_correction_Analysis/larger_test/1D/SAXS/Reduction/sone_Run11_PS_AcOH_RampT42_ctr9_scan1_0000.dat exists\n",
      "WARNING:pyFAI.io:Destination file /Users/vsomani/Documents/SWAXS_data_reduction_correction_Analysis/larger_test/1D/SAXS/Reduction/sone_Run11_PS_AcOH_RampT42_ctr9_scan1_0001.dat exists\n",
      "WARNING:pyFAI.io:Destination file /Users/vsomani/Documents/SWAXS_data_reduction_correction_Analysis/larger_test/1D/SAXS/Reduction/sone_Run11_PS_AcOH_RampT42_ctr9_scan1_0002.dat exists\n",
      "WARNING:pyFAI.io:Destination file /Users/vsomani/Documents/SWAXS_data_reduction_correction_Analysis/larger_test/1D/SAXS/Reduction/sone_Run11_PS_AcOH_RampT45_ctr10_scan1_0000.dat exists\n",
      "WARNING:pyFAI.io:Destination file /Users/vsomani/Documents/SWAXS_data_reduction_correction_Analysis/larger_test/1D/SAXS/Reduction/sone_Run11_PS_AcOH_RampT45_ctr10_scan1_0001.dat exists\n",
      "WARNING:pyFAI.io:Destination file /Users/vsomani/Documents/SWAXS_data_reduction_correction_Analysis/larger_test/1D/SAXS/Reduction/sone_Run11_PS_AcOH_RampT45_ctr10_scan1_0002.dat exists\n"
     ]
    },
    {
     "name": "stdout",
     "output_type": "stream",
     "text": [
      "  Saved to: /Users/vsomani/Documents/SWAXS_data_reduction_correction_Analysis/larger_test/1D/SAXS/Reduction/sone_Run11_PS_AcOH_RampT42_ctr9_scan1_0000.dat\n",
      "Processing SAXS file: /Users/vsomani/Documents/SWAXS_data_reduction_correction_Analysis/larger_test/2D/SAXS/sone_Run11_PS_AcOH_RampT42_ctr9_scan1_0001.raw\n",
      "  I0: 21.214, Bstop: 4.785, Trans_factor: 4.785, Trans_ratio: 0.2255, Normalization: 101.500\n",
      "  Saved to: /Users/vsomani/Documents/SWAXS_data_reduction_correction_Analysis/larger_test/1D/SAXS/Reduction/sone_Run11_PS_AcOH_RampT42_ctr9_scan1_0001.dat\n",
      "Processing SAXS file: /Users/vsomani/Documents/SWAXS_data_reduction_correction_Analysis/larger_test/2D/SAXS/sone_Run11_PS_AcOH_RampT42_ctr9_scan1_0002.raw\n",
      "  I0: 21.240, Bstop: 4.781, Trans_factor: 4.781, Trans_ratio: 0.2251, Normalization: 101.546\n",
      "  Saved to: /Users/vsomani/Documents/SWAXS_data_reduction_correction_Analysis/larger_test/1D/SAXS/Reduction/sone_Run11_PS_AcOH_RampT42_ctr9_scan1_0002.dat\n",
      "Processing SAXS file: /Users/vsomani/Documents/SWAXS_data_reduction_correction_Analysis/larger_test/2D/SAXS/sone_Run11_PS_AcOH_RampT45_ctr10_scan1_0000.raw\n",
      "  I0: 21.209, Bstop: 4.782, Trans_factor: 4.782, Trans_ratio: 0.2255, Normalization: 101.433\n",
      "  Saved to: /Users/vsomani/Documents/SWAXS_data_reduction_correction_Analysis/larger_test/1D/SAXS/Reduction/sone_Run11_PS_AcOH_RampT45_ctr10_scan1_0000.dat\n",
      "Processing SAXS file: /Users/vsomani/Documents/SWAXS_data_reduction_correction_Analysis/larger_test/2D/SAXS/sone_Run11_PS_AcOH_RampT45_ctr10_scan1_0001.raw\n",
      "  I0: 21.191, Bstop: 4.771, Trans_factor: 4.771, Trans_ratio: 0.2251, Normalization: 101.106\n",
      "  Saved to: /Users/vsomani/Documents/SWAXS_data_reduction_correction_Analysis/larger_test/1D/SAXS/Reduction/sone_Run11_PS_AcOH_RampT45_ctr10_scan1_0001.dat\n",
      "Processing SAXS file: /Users/vsomani/Documents/SWAXS_data_reduction_correction_Analysis/larger_test/2D/SAXS/sone_Run11_PS_AcOH_RampT45_ctr10_scan1_0002.raw\n",
      "  I0: 21.190, Bstop: 4.768, Trans_factor: 4.768, Trans_ratio: 0.2250, Normalization: 101.040\n",
      "  Saved to: /Users/vsomani/Documents/SWAXS_data_reduction_correction_Analysis/larger_test/1D/SAXS/Reduction/sone_Run11_PS_AcOH_RampT45_ctr10_scan1_0002.dat\n",
      "Processing SAXS file: /Users/vsomani/Documents/SWAXS_data_reduction_correction_Analysis/larger_test/2D/SAXS/sone_Run11_PS_AcOH_RampT47_ctr11_scan1_0000.raw\n",
      "  I0: 21.138, Bstop: 4.773, Trans_factor: 4.773, Trans_ratio: 0.2258, Normalization: 100.897\n"
     ]
    },
    {
     "name": "stderr",
     "output_type": "stream",
     "text": [
      "WARNING:pyFAI.io:Destination file /Users/vsomani/Documents/SWAXS_data_reduction_correction_Analysis/larger_test/1D/SAXS/Reduction/sone_Run11_PS_AcOH_RampT47_ctr11_scan1_0000.dat exists\n",
      "WARNING:pyFAI.io:Destination file /Users/vsomani/Documents/SWAXS_data_reduction_correction_Analysis/larger_test/1D/SAXS/Reduction/sone_Run11_PS_AcOH_RampT47_ctr11_scan1_0001.dat exists\n",
      "WARNING:pyFAI.io:Destination file /Users/vsomani/Documents/SWAXS_data_reduction_correction_Analysis/larger_test/1D/SAXS/Reduction/sone_Run11_PS_AcOH_RampT47_ctr11_scan1_0002.dat exists\n",
      "WARNING:pyFAI.io:Destination file /Users/vsomani/Documents/SWAXS_data_reduction_correction_Analysis/larger_test/1D/SAXS/Reduction/sone_Run11_PS_AcOH_RampT50_ctr12_scan1_0000.dat exists\n"
     ]
    },
    {
     "name": "stdout",
     "output_type": "stream",
     "text": [
      "  Saved to: /Users/vsomani/Documents/SWAXS_data_reduction_correction_Analysis/larger_test/1D/SAXS/Reduction/sone_Run11_PS_AcOH_RampT47_ctr11_scan1_0000.dat\n",
      "Processing SAXS file: /Users/vsomani/Documents/SWAXS_data_reduction_correction_Analysis/larger_test/2D/SAXS/sone_Run11_PS_AcOH_RampT47_ctr11_scan1_0001.raw\n",
      "  I0: 21.128, Bstop: 4.764, Trans_factor: 4.764, Trans_ratio: 0.2255, Normalization: 100.657\n",
      "  Saved to: /Users/vsomani/Documents/SWAXS_data_reduction_correction_Analysis/larger_test/1D/SAXS/Reduction/sone_Run11_PS_AcOH_RampT47_ctr11_scan1_0001.dat\n",
      "Processing SAXS file: /Users/vsomani/Documents/SWAXS_data_reduction_correction_Analysis/larger_test/2D/SAXS/sone_Run11_PS_AcOH_RampT47_ctr11_scan1_0002.raw\n",
      "  I0: 21.349, Bstop: 4.806, Trans_factor: 4.806, Trans_ratio: 0.2251, Normalization: 102.611\n",
      "  Saved to: /Users/vsomani/Documents/SWAXS_data_reduction_correction_Analysis/larger_test/1D/SAXS/Reduction/sone_Run11_PS_AcOH_RampT47_ctr11_scan1_0002.dat\n",
      "Processing SAXS file: /Users/vsomani/Documents/SWAXS_data_reduction_correction_Analysis/larger_test/2D/SAXS/sone_Run11_PS_AcOH_RampT50_ctr12_scan1_0000.raw\n",
      "  I0: 21.397, Bstop: 4.820, Trans_factor: 4.820, Trans_ratio: 0.2252, Normalization: 103.124\n",
      "  Saved to: /Users/vsomani/Documents/SWAXS_data_reduction_correction_Analysis/larger_test/1D/SAXS/Reduction/sone_Run11_PS_AcOH_RampT50_ctr12_scan1_0000.dat\n",
      "Processing SAXS file: /Users/vsomani/Documents/SWAXS_data_reduction_correction_Analysis/larger_test/2D/SAXS/sone_Run11_PS_AcOH_RampT50_ctr12_scan1_0001.raw\n",
      "  I0: 21.374, Bstop: 4.816, Trans_factor: 4.816, Trans_ratio: 0.2253, Normalization: 102.928\n"
     ]
    },
    {
     "name": "stderr",
     "output_type": "stream",
     "text": [
      "WARNING:pyFAI.io:Destination file /Users/vsomani/Documents/SWAXS_data_reduction_correction_Analysis/larger_test/1D/SAXS/Reduction/sone_Run11_PS_AcOH_RampT50_ctr12_scan1_0001.dat exists\n",
      "WARNING:pyFAI.io:Destination file /Users/vsomani/Documents/SWAXS_data_reduction_correction_Analysis/larger_test/1D/SAXS/Reduction/sone_Run11_PS_AcOH_RampT50_ctr12_scan1_0002.dat exists\n",
      "WARNING:pyFAI.io:Destination file /Users/vsomani/Documents/SWAXS_data_reduction_correction_Analysis/larger_test/1D/SAXS/Reduction/sone_Run11_PS_AcOH_RampT52_ctr13_scan1_0000.dat exists\n",
      "WARNING:pyFAI.io:Destination file /Users/vsomani/Documents/SWAXS_data_reduction_correction_Analysis/larger_test/1D/SAXS/Reduction/sone_Run11_PS_AcOH_RampT52_ctr13_scan1_0001.dat exists\n",
      "WARNING:pyFAI.io:Destination file /Users/vsomani/Documents/SWAXS_data_reduction_correction_Analysis/larger_test/1D/SAXS/Reduction/sone_Run11_PS_AcOH_RampT52_ctr13_scan1_0002.dat exists\n",
      "WARNING:pyFAI.io:Destination file /Users/vsomani/Documents/SWAXS_data_reduction_correction_Analysis/larger_test/1D/SAXS/Reduction/sone_Run11_PS_AcOH_RampT55_ctr14_scan1_0000.dat exists\n"
     ]
    },
    {
     "name": "stdout",
     "output_type": "stream",
     "text": [
      "  Saved to: /Users/vsomani/Documents/SWAXS_data_reduction_correction_Analysis/larger_test/1D/SAXS/Reduction/sone_Run11_PS_AcOH_RampT50_ctr12_scan1_0001.dat\n",
      "Processing SAXS file: /Users/vsomani/Documents/SWAXS_data_reduction_correction_Analysis/larger_test/2D/SAXS/sone_Run11_PS_AcOH_RampT50_ctr12_scan1_0002.raw\n",
      "  I0: 21.381, Bstop: 4.811, Trans_factor: 4.811, Trans_ratio: 0.2250, Normalization: 102.865\n",
      "  Saved to: /Users/vsomani/Documents/SWAXS_data_reduction_correction_Analysis/larger_test/1D/SAXS/Reduction/sone_Run11_PS_AcOH_RampT50_ctr12_scan1_0002.dat\n",
      "Processing SAXS file: /Users/vsomani/Documents/SWAXS_data_reduction_correction_Analysis/larger_test/2D/SAXS/sone_Run11_PS_AcOH_RampT52_ctr13_scan1_0000.raw\n",
      "  I0: 21.374, Bstop: 4.816, Trans_factor: 4.816, Trans_ratio: 0.2253, Normalization: 102.939\n",
      "  Saved to: /Users/vsomani/Documents/SWAXS_data_reduction_correction_Analysis/larger_test/1D/SAXS/Reduction/sone_Run11_PS_AcOH_RampT52_ctr13_scan1_0000.dat\n",
      "Processing SAXS file: /Users/vsomani/Documents/SWAXS_data_reduction_correction_Analysis/larger_test/2D/SAXS/sone_Run11_PS_AcOH_RampT52_ctr13_scan1_0001.raw\n",
      "  I0: 21.347, Bstop: 4.817, Trans_factor: 4.817, Trans_ratio: 0.2256, Normalization: 102.820\n",
      "  Saved to: /Users/vsomani/Documents/SWAXS_data_reduction_correction_Analysis/larger_test/1D/SAXS/Reduction/sone_Run11_PS_AcOH_RampT52_ctr13_scan1_0001.dat\n",
      "Processing SAXS file: /Users/vsomani/Documents/SWAXS_data_reduction_correction_Analysis/larger_test/2D/SAXS/sone_Run11_PS_AcOH_RampT52_ctr13_scan1_0002.raw\n",
      "  I0: 21.222, Bstop: 4.813, Trans_factor: 4.813, Trans_ratio: 0.2268, Normalization: 102.144\n",
      "  Saved to: /Users/vsomani/Documents/SWAXS_data_reduction_correction_Analysis/larger_test/1D/SAXS/Reduction/sone_Run11_PS_AcOH_RampT52_ctr13_scan1_0002.dat\n",
      "Processing SAXS file: /Users/vsomani/Documents/SWAXS_data_reduction_correction_Analysis/larger_test/2D/SAXS/sone_Run11_PS_AcOH_RampT55_ctr14_scan1_0000.raw\n",
      "  I0: 21.263, Bstop: 4.813, Trans_factor: 4.813, Trans_ratio: 0.2264, Normalization: 102.349\n",
      "  Saved to: /Users/vsomani/Documents/SWAXS_data_reduction_correction_Analysis/larger_test/1D/SAXS/Reduction/sone_Run11_PS_AcOH_RampT55_ctr14_scan1_0000.dat\n",
      "Processing SAXS file: /Users/vsomani/Documents/SWAXS_data_reduction_correction_Analysis/larger_test/2D/SAXS/sone_Run11_PS_AcOH_RampT55_ctr14_scan1_0001.raw\n",
      "  I0: 21.179, Bstop: 4.803, Trans_factor: 4.803, Trans_ratio: 0.2268, Normalization: 101.724\n"
     ]
    },
    {
     "name": "stderr",
     "output_type": "stream",
     "text": [
      "WARNING:pyFAI.io:Destination file /Users/vsomani/Documents/SWAXS_data_reduction_correction_Analysis/larger_test/1D/SAXS/Reduction/sone_Run11_PS_AcOH_RampT55_ctr14_scan1_0001.dat exists\n",
      "WARNING:pyFAI.io:Destination file /Users/vsomani/Documents/SWAXS_data_reduction_correction_Analysis/larger_test/1D/SAXS/Reduction/sone_Run11_PS_AcOH_RampT55_ctr14_scan1_0002.dat exists\n",
      "WARNING:pyFAI.io:Destination file /Users/vsomani/Documents/SWAXS_data_reduction_correction_Analysis/larger_test/1D/SAXS/Reduction/sone_Run11_PS_AcOH_RampT57_ctr15_scan1_0000.dat exists\n",
      "WARNING:pyFAI.io:Destination file /Users/vsomani/Documents/SWAXS_data_reduction_correction_Analysis/larger_test/1D/SAXS/Reduction/sone_Run11_PS_AcOH_RampT57_ctr15_scan1_0001.dat exists\n",
      "WARNING:pyFAI.io:Destination file /Users/vsomani/Documents/SWAXS_data_reduction_correction_Analysis/larger_test/1D/SAXS/Reduction/sone_Run11_PS_AcOH_RampT57_ctr15_scan1_0002.dat exists\n",
      "WARNING:pyFAI.io:Destination file /Users/vsomani/Documents/SWAXS_data_reduction_correction_Analysis/larger_test/1D/SAXS/Reduction/sone_Run11_PS_AcOH_RampT60_ctr16_scan1_0000.dat exists\n"
     ]
    },
    {
     "name": "stdout",
     "output_type": "stream",
     "text": [
      "  Saved to: /Users/vsomani/Documents/SWAXS_data_reduction_correction_Analysis/larger_test/1D/SAXS/Reduction/sone_Run11_PS_AcOH_RampT55_ctr14_scan1_0001.dat\n",
      "Processing SAXS file: /Users/vsomani/Documents/SWAXS_data_reduction_correction_Analysis/larger_test/2D/SAXS/sone_Run11_PS_AcOH_RampT55_ctr14_scan1_0002.raw\n",
      "  I0: 21.160, Bstop: 4.807, Trans_factor: 4.807, Trans_ratio: 0.2272, Normalization: 101.720\n",
      "  Saved to: /Users/vsomani/Documents/SWAXS_data_reduction_correction_Analysis/larger_test/1D/SAXS/Reduction/sone_Run11_PS_AcOH_RampT55_ctr14_scan1_0002.dat\n",
      "Processing SAXS file: /Users/vsomani/Documents/SWAXS_data_reduction_correction_Analysis/larger_test/2D/SAXS/sone_Run11_PS_AcOH_RampT57_ctr15_scan1_0000.raw\n",
      "  I0: 21.187, Bstop: 4.805, Trans_factor: 4.805, Trans_ratio: 0.2268, Normalization: 101.807\n",
      "  Saved to: /Users/vsomani/Documents/SWAXS_data_reduction_correction_Analysis/larger_test/1D/SAXS/Reduction/sone_Run11_PS_AcOH_RampT57_ctr15_scan1_0000.dat\n",
      "Processing SAXS file: /Users/vsomani/Documents/SWAXS_data_reduction_correction_Analysis/larger_test/2D/SAXS/sone_Run11_PS_AcOH_RampT57_ctr15_scan1_0001.raw\n",
      "  I0: 21.149, Bstop: 4.802, Trans_factor: 4.802, Trans_ratio: 0.2271, Normalization: 101.559\n",
      "  Saved to: /Users/vsomani/Documents/SWAXS_data_reduction_correction_Analysis/larger_test/1D/SAXS/Reduction/sone_Run11_PS_AcOH_RampT57_ctr15_scan1_0001.dat\n",
      "Processing SAXS file: /Users/vsomani/Documents/SWAXS_data_reduction_correction_Analysis/larger_test/2D/SAXS/sone_Run11_PS_AcOH_RampT57_ctr15_scan1_0002.raw\n",
      "  I0: 21.180, Bstop: 4.797, Trans_factor: 4.797, Trans_ratio: 0.2265, Normalization: 101.593\n",
      "  Saved to: /Users/vsomani/Documents/SWAXS_data_reduction_correction_Analysis/larger_test/1D/SAXS/Reduction/sone_Run11_PS_AcOH_RampT57_ctr15_scan1_0002.dat\n",
      "Processing SAXS file: /Users/vsomani/Documents/SWAXS_data_reduction_correction_Analysis/larger_test/2D/SAXS/sone_Run11_PS_AcOH_RampT60_ctr16_scan1_0000.raw\n",
      "  I0: 21.176, Bstop: 4.793, Trans_factor: 4.793, Trans_ratio: 0.2263, Normalization: 101.497\n",
      "  Saved to: /Users/vsomani/Documents/SWAXS_data_reduction_correction_Analysis/larger_test/1D/SAXS/Reduction/sone_Run11_PS_AcOH_RampT60_ctr16_scan1_0000.dat\n",
      "Processing SAXS file: /Users/vsomani/Documents/SWAXS_data_reduction_correction_Analysis/larger_test/2D/SAXS/sone_Run11_PS_AcOH_RampT60_ctr16_scan1_0001.raw\n",
      "  I0: 21.122, Bstop: 4.790, Trans_factor: 4.790, Trans_ratio: 0.2268, Normalization: 101.166\n"
     ]
    },
    {
     "name": "stderr",
     "output_type": "stream",
     "text": [
      "WARNING:pyFAI.io:Destination file /Users/vsomani/Documents/SWAXS_data_reduction_correction_Analysis/larger_test/1D/SAXS/Reduction/sone_Run11_PS_AcOH_RampT60_ctr16_scan1_0001.dat exists\n",
      "WARNING:pyFAI.io:Destination file /Users/vsomani/Documents/SWAXS_data_reduction_correction_Analysis/larger_test/1D/SAXS/Reduction/sone_Run11_PS_AcOH_RampT60_ctr16_scan1_0002.dat exists\n",
      "WARNING:pyFAI.io:Destination file /Users/vsomani/Documents/SWAXS_data_reduction_correction_Analysis/larger_test/1D/SAXS/Reduction/sone_Run11_PS_AcOH_RampT62_ctr17_scan1_0000.dat exists\n",
      "WARNING:pyFAI.io:Destination file /Users/vsomani/Documents/SWAXS_data_reduction_correction_Analysis/larger_test/1D/SAXS/Reduction/sone_Run11_PS_AcOH_RampT62_ctr17_scan1_0001.dat exists\n",
      "WARNING:pyFAI.io:Destination file /Users/vsomani/Documents/SWAXS_data_reduction_correction_Analysis/larger_test/1D/SAXS/Reduction/sone_Run11_PS_AcOH_RampT62_ctr17_scan1_0002.dat exists\n",
      "WARNING:pyFAI.io:Destination file /Users/vsomani/Documents/SWAXS_data_reduction_correction_Analysis/larger_test/1D/SAXS/Reduction/sone_Run11_PS_AcOH_RampT65_ctr18_scan1_0000.dat exists\n"
     ]
    },
    {
     "name": "stdout",
     "output_type": "stream",
     "text": [
      "  Saved to: /Users/vsomani/Documents/SWAXS_data_reduction_correction_Analysis/larger_test/1D/SAXS/Reduction/sone_Run11_PS_AcOH_RampT60_ctr16_scan1_0001.dat\n",
      "Processing SAXS file: /Users/vsomani/Documents/SWAXS_data_reduction_correction_Analysis/larger_test/2D/SAXS/sone_Run11_PS_AcOH_RampT60_ctr16_scan1_0002.raw\n",
      "  I0: 21.141, Bstop: 4.801, Trans_factor: 4.801, Trans_ratio: 0.2271, Normalization: 101.498\n",
      "  Saved to: /Users/vsomani/Documents/SWAXS_data_reduction_correction_Analysis/larger_test/1D/SAXS/Reduction/sone_Run11_PS_AcOH_RampT60_ctr16_scan1_0002.dat\n",
      "Processing SAXS file: /Users/vsomani/Documents/SWAXS_data_reduction_correction_Analysis/larger_test/2D/SAXS/sone_Run11_PS_AcOH_RampT62_ctr17_scan1_0000.raw\n",
      "  I0: 21.378, Bstop: 4.845, Trans_factor: 4.845, Trans_ratio: 0.2267, Normalization: 103.588\n",
      "  Saved to: /Users/vsomani/Documents/SWAXS_data_reduction_correction_Analysis/larger_test/1D/SAXS/Reduction/sone_Run11_PS_AcOH_RampT62_ctr17_scan1_0000.dat\n",
      "Processing SAXS file: /Users/vsomani/Documents/SWAXS_data_reduction_correction_Analysis/larger_test/2D/SAXS/sone_Run11_PS_AcOH_RampT62_ctr17_scan1_0001.raw\n",
      "  I0: 21.281, Bstop: 4.839, Trans_factor: 4.839, Trans_ratio: 0.2274, Normalization: 102.982\n",
      "  Saved to: /Users/vsomani/Documents/SWAXS_data_reduction_correction_Analysis/larger_test/1D/SAXS/Reduction/sone_Run11_PS_AcOH_RampT62_ctr17_scan1_0001.dat\n",
      "Processing SAXS file: /Users/vsomani/Documents/SWAXS_data_reduction_correction_Analysis/larger_test/2D/SAXS/sone_Run11_PS_AcOH_RampT62_ctr17_scan1_0002.raw\n",
      "  I0: 21.333, Bstop: 4.832, Trans_factor: 4.832, Trans_ratio: 0.2265, Normalization: 103.080\n",
      "  Saved to: /Users/vsomani/Documents/SWAXS_data_reduction_correction_Analysis/larger_test/1D/SAXS/Reduction/sone_Run11_PS_AcOH_RampT62_ctr17_scan1_0002.dat\n",
      "Processing SAXS file: /Users/vsomani/Documents/SWAXS_data_reduction_correction_Analysis/larger_test/2D/SAXS/sone_Run11_PS_AcOH_RampT65_ctr18_scan1_0000.raw\n",
      "  I0: 21.305, Bstop: 4.834, Trans_factor: 4.834, Trans_ratio: 0.2269, Normalization: 102.991\n",
      "  Saved to: /Users/vsomani/Documents/SWAXS_data_reduction_correction_Analysis/larger_test/1D/SAXS/Reduction/sone_Run11_PS_AcOH_RampT65_ctr18_scan1_0000.dat\n",
      "Processing SAXS file: /Users/vsomani/Documents/SWAXS_data_reduction_correction_Analysis/larger_test/2D/SAXS/sone_Run11_PS_AcOH_RampT65_ctr18_scan1_0001.raw\n",
      "  I0: 21.268, Bstop: 4.833, Trans_factor: 4.833, Trans_ratio: 0.2272, Normalization: 102.789\n"
     ]
    },
    {
     "name": "stderr",
     "output_type": "stream",
     "text": [
      "WARNING:pyFAI.io:Destination file /Users/vsomani/Documents/SWAXS_data_reduction_correction_Analysis/larger_test/1D/SAXS/Reduction/sone_Run11_PS_AcOH_RampT65_ctr18_scan1_0001.dat exists\n",
      "WARNING:pyFAI.io:Destination file /Users/vsomani/Documents/SWAXS_data_reduction_correction_Analysis/larger_test/1D/SAXS/Reduction/sone_Run11_PS_AcOH_RampT65_ctr18_scan1_0002.dat exists\n",
      "WARNING:pyFAI.io:Destination file /Users/vsomani/Documents/SWAXS_data_reduction_correction_Analysis/larger_test/1D/SAXS/Reduction/sone_Run11_PS_AcOH_RampT67_ctr19_scan1_0000.dat exists\n",
      "WARNING:pyFAI.io:Destination file /Users/vsomani/Documents/SWAXS_data_reduction_correction_Analysis/larger_test/1D/SAXS/Reduction/sone_Run11_PS_AcOH_RampT67_ctr19_scan1_0001.dat exists\n",
      "WARNING:pyFAI.io:Destination file /Users/vsomani/Documents/SWAXS_data_reduction_correction_Analysis/larger_test/1D/SAXS/Reduction/sone_Run11_PS_AcOH_RampT67_ctr19_scan1_0002.dat exists\n"
     ]
    },
    {
     "name": "stdout",
     "output_type": "stream",
     "text": [
      "  Saved to: /Users/vsomani/Documents/SWAXS_data_reduction_correction_Analysis/larger_test/1D/SAXS/Reduction/sone_Run11_PS_AcOH_RampT65_ctr18_scan1_0001.dat\n",
      "Processing SAXS file: /Users/vsomani/Documents/SWAXS_data_reduction_correction_Analysis/larger_test/2D/SAXS/sone_Run11_PS_AcOH_RampT65_ctr18_scan1_0002.raw\n",
      "  I0: 21.271, Bstop: 4.841, Trans_factor: 4.841, Trans_ratio: 0.2276, Normalization: 102.964\n",
      "  Saved to: /Users/vsomani/Documents/SWAXS_data_reduction_correction_Analysis/larger_test/1D/SAXS/Reduction/sone_Run11_PS_AcOH_RampT65_ctr18_scan1_0002.dat\n",
      "Processing SAXS file: /Users/vsomani/Documents/SWAXS_data_reduction_correction_Analysis/larger_test/2D/SAXS/sone_Run11_PS_AcOH_RampT67_ctr19_scan1_0000.raw\n",
      "  I0: 21.268, Bstop: 4.835, Trans_factor: 4.835, Trans_ratio: 0.2274, Normalization: 102.842\n",
      "  Saved to: /Users/vsomani/Documents/SWAXS_data_reduction_correction_Analysis/larger_test/1D/SAXS/Reduction/sone_Run11_PS_AcOH_RampT67_ctr19_scan1_0000.dat\n",
      "Processing SAXS file: /Users/vsomani/Documents/SWAXS_data_reduction_correction_Analysis/larger_test/2D/SAXS/sone_Run11_PS_AcOH_RampT67_ctr19_scan1_0001.raw\n",
      "  I0: 21.195, Bstop: 4.841, Trans_factor: 4.841, Trans_ratio: 0.2284, Normalization: 102.594\n",
      "  Saved to: /Users/vsomani/Documents/SWAXS_data_reduction_correction_Analysis/larger_test/1D/SAXS/Reduction/sone_Run11_PS_AcOH_RampT67_ctr19_scan1_0001.dat\n",
      "Processing SAXS file: /Users/vsomani/Documents/SWAXS_data_reduction_correction_Analysis/larger_test/2D/SAXS/sone_Run11_PS_AcOH_RampT67_ctr19_scan1_0002.raw\n",
      "  I0: 21.181, Bstop: 4.837, Trans_factor: 4.837, Trans_ratio: 0.2284, Normalization: 102.452\n"
     ]
    },
    {
     "name": "stderr",
     "output_type": "stream",
     "text": [
      "WARNING:pyFAI.io:Destination file /Users/vsomani/Documents/SWAXS_data_reduction_correction_Analysis/larger_test/1D/SAXS/Reduction/sone_Run11_PS_AcOH_RampT70_ctr20_scan1_0000.dat exists\n",
      "WARNING:pyFAI.io:Destination file /Users/vsomani/Documents/SWAXS_data_reduction_correction_Analysis/larger_test/1D/SAXS/Reduction/sone_Run11_PS_AcOH_RampT70_ctr20_scan1_0001.dat exists\n",
      "WARNING:pyFAI.io:Destination file /Users/vsomani/Documents/SWAXS_data_reduction_correction_Analysis/larger_test/1D/SAXS/Reduction/sone_Run11_PS_AcOH_RampT70_ctr20_scan1_0002.dat exists\n",
      "WARNING:pyFAI.io:Destination file /Users/vsomani/Documents/SWAXS_data_reduction_correction_Analysis/larger_test/1D/SAXS/Reduction/sone_Run11_PS_AcOH_RampT72_ctr21_scan1_0000.dat exists\n",
      "WARNING:pyFAI.io:Destination file /Users/vsomani/Documents/SWAXS_data_reduction_correction_Analysis/larger_test/1D/SAXS/Reduction/sone_Run11_PS_AcOH_RampT72_ctr21_scan1_0001.dat exists\n"
     ]
    },
    {
     "name": "stdout",
     "output_type": "stream",
     "text": [
      "  Saved to: /Users/vsomani/Documents/SWAXS_data_reduction_correction_Analysis/larger_test/1D/SAXS/Reduction/sone_Run11_PS_AcOH_RampT67_ctr19_scan1_0002.dat\n",
      "Processing SAXS file: /Users/vsomani/Documents/SWAXS_data_reduction_correction_Analysis/larger_test/2D/SAXS/sone_Run11_PS_AcOH_RampT70_ctr20_scan1_0000.raw\n",
      "  I0: 21.228, Bstop: 4.834, Trans_factor: 4.834, Trans_ratio: 0.2277, Normalization: 102.614\n",
      "  Saved to: /Users/vsomani/Documents/SWAXS_data_reduction_correction_Analysis/larger_test/1D/SAXS/Reduction/sone_Run11_PS_AcOH_RampT70_ctr20_scan1_0000.dat\n",
      "Processing SAXS file: /Users/vsomani/Documents/SWAXS_data_reduction_correction_Analysis/larger_test/2D/SAXS/sone_Run11_PS_AcOH_RampT70_ctr20_scan1_0001.raw\n",
      "  I0: 21.121, Bstop: 4.831, Trans_factor: 4.831, Trans_ratio: 0.2287, Normalization: 102.029\n",
      "  Saved to: /Users/vsomani/Documents/SWAXS_data_reduction_correction_Analysis/larger_test/1D/SAXS/Reduction/sone_Run11_PS_AcOH_RampT70_ctr20_scan1_0001.dat\n",
      "Processing SAXS file: /Users/vsomani/Documents/SWAXS_data_reduction_correction_Analysis/larger_test/2D/SAXS/sone_Run11_PS_AcOH_RampT70_ctr20_scan1_0002.raw\n",
      "  I0: 21.156, Bstop: 4.827, Trans_factor: 4.827, Trans_ratio: 0.2282, Normalization: 102.124\n",
      "  Saved to: /Users/vsomani/Documents/SWAXS_data_reduction_correction_Analysis/larger_test/1D/SAXS/Reduction/sone_Run11_PS_AcOH_RampT70_ctr20_scan1_0002.dat\n",
      "Processing SAXS file: /Users/vsomani/Documents/SWAXS_data_reduction_correction_Analysis/larger_test/2D/SAXS/sone_Run11_PS_AcOH_RampT72_ctr21_scan1_0000.raw\n",
      "  I0: 21.103, Bstop: 4.823, Trans_factor: 4.823, Trans_ratio: 0.2285, Normalization: 101.779\n",
      "  Saved to: /Users/vsomani/Documents/SWAXS_data_reduction_correction_Analysis/larger_test/1D/SAXS/Reduction/sone_Run11_PS_AcOH_RampT72_ctr21_scan1_0000.dat\n",
      "Processing SAXS file: /Users/vsomani/Documents/SWAXS_data_reduction_correction_Analysis/larger_test/2D/SAXS/sone_Run11_PS_AcOH_RampT72_ctr21_scan1_0001.raw\n",
      "  I0: 21.148, Bstop: 4.850, Trans_factor: 4.850, Trans_ratio: 0.2293, Normalization: 102.564\n",
      "  Saved to: /Users/vsomani/Documents/SWAXS_data_reduction_correction_Analysis/larger_test/1D/SAXS/Reduction/sone_Run11_PS_AcOH_RampT72_ctr21_scan1_0001.dat\n",
      "Processing SAXS file: /Users/vsomani/Documents/SWAXS_data_reduction_correction_Analysis/larger_test/2D/SAXS/sone_Run11_PS_AcOH_RampT72_ctr21_scan1_0002.raw\n",
      "  I0: 21.385, Bstop: 4.892, Trans_factor: 4.892, Trans_ratio: 0.2287, Normalization: 104.605\n"
     ]
    },
    {
     "name": "stderr",
     "output_type": "stream",
     "text": [
      "WARNING:pyFAI.io:Destination file /Users/vsomani/Documents/SWAXS_data_reduction_correction_Analysis/larger_test/1D/SAXS/Reduction/sone_Run11_PS_AcOH_RampT72_ctr21_scan1_0002.dat exists\n",
      "WARNING:pyFAI.io:Destination file /Users/vsomani/Documents/SWAXS_data_reduction_correction_Analysis/larger_test/1D/SAXS/Reduction/sone_Run11_PS_AcOH_RampT75_ctr22_scan1_0000.dat exists\n",
      "WARNING:pyFAI.io:Destination file /Users/vsomani/Documents/SWAXS_data_reduction_correction_Analysis/larger_test/1D/SAXS/Reduction/sone_Run11_PS_AcOH_RampT75_ctr22_scan1_0001.dat exists\n",
      "WARNING:pyFAI.io:Destination file /Users/vsomani/Documents/SWAXS_data_reduction_correction_Analysis/larger_test/1D/SAXS/Reduction/sone_Run11_PS_AcOH_RampT75_ctr22_scan1_0002.dat exists\n",
      "WARNING:pyFAI.io:Destination file /Users/vsomani/Documents/SWAXS_data_reduction_correction_Analysis/larger_test/1D/SAXS/Reduction/sone_Run11_PS_AcOH_RampT77_ctr23_scan1_0000.dat exists\n",
      "WARNING:pyFAI.io:Destination file /Users/vsomani/Documents/SWAXS_data_reduction_correction_Analysis/larger_test/1D/SAXS/Reduction/sone_Run11_PS_AcOH_RampT77_ctr23_scan1_0001.dat exists\n"
     ]
    },
    {
     "name": "stdout",
     "output_type": "stream",
     "text": [
      "  Saved to: /Users/vsomani/Documents/SWAXS_data_reduction_correction_Analysis/larger_test/1D/SAXS/Reduction/sone_Run11_PS_AcOH_RampT72_ctr21_scan1_0002.dat\n",
      "Processing SAXS file: /Users/vsomani/Documents/SWAXS_data_reduction_correction_Analysis/larger_test/2D/SAXS/sone_Run11_PS_AcOH_RampT75_ctr22_scan1_0000.raw\n",
      "  I0: 21.369, Bstop: 4.892, Trans_factor: 4.892, Trans_ratio: 0.2289, Normalization: 104.530\n",
      "  Saved to: /Users/vsomani/Documents/SWAXS_data_reduction_correction_Analysis/larger_test/1D/SAXS/Reduction/sone_Run11_PS_AcOH_RampT75_ctr22_scan1_0000.dat\n",
      "Processing SAXS file: /Users/vsomani/Documents/SWAXS_data_reduction_correction_Analysis/larger_test/2D/SAXS/sone_Run11_PS_AcOH_RampT75_ctr22_scan1_0001.raw\n",
      "  I0: 21.237, Bstop: 4.885, Trans_factor: 4.885, Trans_ratio: 0.2300, Normalization: 103.742\n",
      "  Saved to: /Users/vsomani/Documents/SWAXS_data_reduction_correction_Analysis/larger_test/1D/SAXS/Reduction/sone_Run11_PS_AcOH_RampT75_ctr22_scan1_0001.dat\n",
      "Processing SAXS file: /Users/vsomani/Documents/SWAXS_data_reduction_correction_Analysis/larger_test/2D/SAXS/sone_Run11_PS_AcOH_RampT75_ctr22_scan1_0002.raw\n",
      "  I0: 21.252, Bstop: 4.884, Trans_factor: 4.884, Trans_ratio: 0.2298, Normalization: 103.788\n",
      "  Saved to: /Users/vsomani/Documents/SWAXS_data_reduction_correction_Analysis/larger_test/1D/SAXS/Reduction/sone_Run11_PS_AcOH_RampT75_ctr22_scan1_0002.dat\n",
      "Processing SAXS file: /Users/vsomani/Documents/SWAXS_data_reduction_correction_Analysis/larger_test/2D/SAXS/sone_Run11_PS_AcOH_RampT77_ctr23_scan1_0000.raw\n",
      "  I0: 21.258, Bstop: 4.880, Trans_factor: 4.880, Trans_ratio: 0.2296, Normalization: 103.748\n",
      "  Saved to: /Users/vsomani/Documents/SWAXS_data_reduction_correction_Analysis/larger_test/1D/SAXS/Reduction/sone_Run11_PS_AcOH_RampT77_ctr23_scan1_0000.dat\n",
      "Processing SAXS file: /Users/vsomani/Documents/SWAXS_data_reduction_correction_Analysis/larger_test/2D/SAXS/sone_Run11_PS_AcOH_RampT77_ctr23_scan1_0001.raw\n",
      "  I0: 21.193, Bstop: 4.864, Trans_factor: 4.864, Trans_ratio: 0.2295, Normalization: 103.075\n",
      "  Saved to: /Users/vsomani/Documents/SWAXS_data_reduction_correction_Analysis/larger_test/1D/SAXS/Reduction/sone_Run11_PS_AcOH_RampT77_ctr23_scan1_0001.dat\n",
      "Processing SAXS file: /Users/vsomani/Documents/SWAXS_data_reduction_correction_Analysis/larger_test/2D/SAXS/sone_Run11_PS_AcOH_RampT77_ctr23_scan1_0002.raw\n",
      "  I0: 21.172, Bstop: 4.870, Trans_factor: 4.870, Trans_ratio: 0.2300, Normalization: 103.105\n"
     ]
    },
    {
     "name": "stderr",
     "output_type": "stream",
     "text": [
      "WARNING:pyFAI.io:Destination file /Users/vsomani/Documents/SWAXS_data_reduction_correction_Analysis/larger_test/1D/SAXS/Reduction/sone_Run11_PS_AcOH_RampT77_ctr23_scan1_0002.dat exists\n",
      "WARNING:pyFAI.io:Destination file /Users/vsomani/Documents/SWAXS_data_reduction_correction_Analysis/larger_test/1D/SAXS/Reduction/sone_Run11_PS_AcOH_RampT80_ctr24_scan1_0000.dat exists\n",
      "WARNING:pyFAI.io:Destination file /Users/vsomani/Documents/SWAXS_data_reduction_correction_Analysis/larger_test/1D/SAXS/Reduction/sone_Run11_PS_AcOH_RampT80_ctr24_scan1_0001.dat exists\n",
      "WARNING:pyFAI.io:Destination file /Users/vsomani/Documents/SWAXS_data_reduction_correction_Analysis/larger_test/1D/SAXS/Reduction/sone_Run11_PS_AcOH_RampT80_ctr24_scan1_0002.dat exists\n",
      "WARNING:pyFAI.io:Destination file /Users/vsomani/Documents/SWAXS_data_reduction_correction_Analysis/larger_test/1D/SAXS/Reduction/sone_Run11_PS_AcOH_RampT82_ctr25_scan1_0000.dat exists\n",
      "WARNING:pyFAI.io:Destination file /Users/vsomani/Documents/SWAXS_data_reduction_correction_Analysis/larger_test/1D/SAXS/Reduction/sone_Run11_PS_AcOH_RampT82_ctr25_scan1_0001.dat exists\n"
     ]
    },
    {
     "name": "stdout",
     "output_type": "stream",
     "text": [
      "  Saved to: /Users/vsomani/Documents/SWAXS_data_reduction_correction_Analysis/larger_test/1D/SAXS/Reduction/sone_Run11_PS_AcOH_RampT77_ctr23_scan1_0002.dat\n",
      "Processing SAXS file: /Users/vsomani/Documents/SWAXS_data_reduction_correction_Analysis/larger_test/2D/SAXS/sone_Run11_PS_AcOH_RampT80_ctr24_scan1_0000.raw\n",
      "  I0: 21.153, Bstop: 4.870, Trans_factor: 4.870, Trans_ratio: 0.2302, Normalization: 103.015\n",
      "  Saved to: /Users/vsomani/Documents/SWAXS_data_reduction_correction_Analysis/larger_test/1D/SAXS/Reduction/sone_Run11_PS_AcOH_RampT80_ctr24_scan1_0000.dat\n",
      "Processing SAXS file: /Users/vsomani/Documents/SWAXS_data_reduction_correction_Analysis/larger_test/2D/SAXS/sone_Run11_PS_AcOH_RampT80_ctr24_scan1_0001.raw\n",
      "  I0: 21.089, Bstop: 4.870, Trans_factor: 4.870, Trans_ratio: 0.2309, Normalization: 102.707\n",
      "  Saved to: /Users/vsomani/Documents/SWAXS_data_reduction_correction_Analysis/larger_test/1D/SAXS/Reduction/sone_Run11_PS_AcOH_RampT80_ctr24_scan1_0001.dat\n",
      "Processing SAXS file: /Users/vsomani/Documents/SWAXS_data_reduction_correction_Analysis/larger_test/2D/SAXS/sone_Run11_PS_AcOH_RampT80_ctr24_scan1_0002.raw\n",
      "  I0: 21.110, Bstop: 4.872, Trans_factor: 4.872, Trans_ratio: 0.2308, Normalization: 102.851\n",
      "  Saved to: /Users/vsomani/Documents/SWAXS_data_reduction_correction_Analysis/larger_test/1D/SAXS/Reduction/sone_Run11_PS_AcOH_RampT80_ctr24_scan1_0002.dat\n",
      "Processing SAXS file: /Users/vsomani/Documents/SWAXS_data_reduction_correction_Analysis/larger_test/2D/SAXS/sone_Run11_PS_AcOH_RampT82_ctr25_scan1_0000.raw\n",
      "  I0: 21.081, Bstop: 4.871, Trans_factor: 4.871, Trans_ratio: 0.2311, Normalization: 102.682\n",
      "  Saved to: /Users/vsomani/Documents/SWAXS_data_reduction_correction_Analysis/larger_test/1D/SAXS/Reduction/sone_Run11_PS_AcOH_RampT82_ctr25_scan1_0000.dat\n",
      "Processing SAXS file: /Users/vsomani/Documents/SWAXS_data_reduction_correction_Analysis/larger_test/2D/SAXS/sone_Run11_PS_AcOH_RampT82_ctr25_scan1_0001.raw\n",
      "  I0: 21.360, Bstop: 4.929, Trans_factor: 4.929, Trans_ratio: 0.2307, Normalization: 105.276\n",
      "  Saved to: /Users/vsomani/Documents/SWAXS_data_reduction_correction_Analysis/larger_test/1D/SAXS/Reduction/sone_Run11_PS_AcOH_RampT82_ctr25_scan1_0001.dat\n",
      "Processing SAXS file: /Users/vsomani/Documents/SWAXS_data_reduction_correction_Analysis/larger_test/2D/SAXS/sone_Run11_PS_AcOH_RampT82_ctr25_scan1_0002.raw\n",
      "  I0: 21.317, Bstop: 4.931, Trans_factor: 4.931, Trans_ratio: 0.2313, Normalization: 105.107\n"
     ]
    },
    {
     "name": "stderr",
     "output_type": "stream",
     "text": [
      "WARNING:pyFAI.io:Destination file /Users/vsomani/Documents/SWAXS_data_reduction_correction_Analysis/larger_test/1D/SAXS/Reduction/sone_Run11_PS_AcOH_RampT82_ctr25_scan1_0002.dat exists\n",
      "WARNING:pyFAI.io:Destination file /Users/vsomani/Documents/SWAXS_data_reduction_correction_Analysis/larger_test/1D/SAXS/Reduction/sone_Run11_PS_AcOH_RampT85_ctr26_scan1_0000.dat exists\n",
      "WARNING:pyFAI.io:Destination file /Users/vsomani/Documents/SWAXS_data_reduction_correction_Analysis/larger_test/1D/SAXS/Reduction/sone_Run11_PS_AcOH_RampT85_ctr26_scan1_0001.dat exists\n",
      "WARNING:pyFAI.io:Destination file /Users/vsomani/Documents/SWAXS_data_reduction_correction_Analysis/larger_test/1D/SAXS/Reduction/sone_Run11_PS_AcOH_RampT85_ctr26_scan1_0002.dat exists\n"
     ]
    },
    {
     "name": "stdout",
     "output_type": "stream",
     "text": [
      "  Saved to: /Users/vsomani/Documents/SWAXS_data_reduction_correction_Analysis/larger_test/1D/SAXS/Reduction/sone_Run11_PS_AcOH_RampT82_ctr25_scan1_0002.dat\n",
      "Processing SAXS file: /Users/vsomani/Documents/SWAXS_data_reduction_correction_Analysis/larger_test/2D/SAXS/sone_Run11_PS_AcOH_RampT85_ctr26_scan1_0000.raw\n",
      "  I0: 21.288, Bstop: 4.923, Trans_factor: 4.923, Trans_ratio: 0.2312, Normalization: 104.794\n",
      "  Saved to: /Users/vsomani/Documents/SWAXS_data_reduction_correction_Analysis/larger_test/1D/SAXS/Reduction/sone_Run11_PS_AcOH_RampT85_ctr26_scan1_0000.dat\n",
      "Processing SAXS file: /Users/vsomani/Documents/SWAXS_data_reduction_correction_Analysis/larger_test/2D/SAXS/sone_Run11_PS_AcOH_RampT85_ctr26_scan1_0001.raw\n",
      "  I0: 21.204, Bstop: 4.919, Trans_factor: 4.919, Trans_ratio: 0.2320, Normalization: 104.305\n",
      "  Saved to: /Users/vsomani/Documents/SWAXS_data_reduction_correction_Analysis/larger_test/1D/SAXS/Reduction/sone_Run11_PS_AcOH_RampT85_ctr26_scan1_0001.dat\n",
      "Processing SAXS file: /Users/vsomani/Documents/SWAXS_data_reduction_correction_Analysis/larger_test/2D/SAXS/sone_Run11_PS_AcOH_RampT85_ctr26_scan1_0002.raw\n",
      "  I0: 21.196, Bstop: 4.915, Trans_factor: 4.915, Trans_ratio: 0.2319, Normalization: 104.180\n",
      "  Saved to: /Users/vsomani/Documents/SWAXS_data_reduction_correction_Analysis/larger_test/1D/SAXS/Reduction/sone_Run11_PS_AcOH_RampT85_ctr26_scan1_0002.dat\n",
      "Processing SAXS file: /Users/vsomani/Documents/SWAXS_data_reduction_correction_Analysis/larger_test/2D/SAXS/sone_Run11_PS_AcOH_RampT87_ctr27_scan1_0000.raw\n",
      "  I0: 21.189, Bstop: 4.916, Trans_factor: 4.916, Trans_ratio: 0.2320, Normalization: 104.158\n"
     ]
    },
    {
     "name": "stderr",
     "output_type": "stream",
     "text": [
      "WARNING:pyFAI.io:Destination file /Users/vsomani/Documents/SWAXS_data_reduction_correction_Analysis/larger_test/1D/SAXS/Reduction/sone_Run11_PS_AcOH_RampT87_ctr27_scan1_0000.dat exists\n",
      "WARNING:pyFAI.io:Destination file /Users/vsomani/Documents/SWAXS_data_reduction_correction_Analysis/larger_test/1D/SAXS/Reduction/sone_Run11_PS_AcOH_RampT87_ctr27_scan1_0001.dat exists\n",
      "WARNING:pyFAI.io:Destination file /Users/vsomani/Documents/SWAXS_data_reduction_correction_Analysis/larger_test/1D/SAXS/Reduction/sone_Run11_PS_AcOH_RampT87_ctr27_scan1_0002.dat exists\n",
      "WARNING:pyFAI.io:Destination file /Users/vsomani/Documents/SWAXS_data_reduction_correction_Analysis/larger_test/1D/SAXS/Reduction/sone_Run11_PS_AcOH_RampT90_ctr28_scan1_0000.dat exists\n",
      "WARNING:pyFAI.io:Destination file /Users/vsomani/Documents/SWAXS_data_reduction_correction_Analysis/larger_test/1D/SAXS/Reduction/sone_Run11_PS_AcOH_RampT90_ctr28_scan1_0001.dat exists\n"
     ]
    },
    {
     "name": "stdout",
     "output_type": "stream",
     "text": [
      "  Saved to: /Users/vsomani/Documents/SWAXS_data_reduction_correction_Analysis/larger_test/1D/SAXS/Reduction/sone_Run11_PS_AcOH_RampT87_ctr27_scan1_0000.dat\n",
      "Processing SAXS file: /Users/vsomani/Documents/SWAXS_data_reduction_correction_Analysis/larger_test/2D/SAXS/sone_Run11_PS_AcOH_RampT87_ctr27_scan1_0001.raw\n",
      "  I0: 21.169, Bstop: 4.914, Trans_factor: 4.914, Trans_ratio: 0.2321, Normalization: 104.024\n",
      "  Saved to: /Users/vsomani/Documents/SWAXS_data_reduction_correction_Analysis/larger_test/1D/SAXS/Reduction/sone_Run11_PS_AcOH_RampT87_ctr27_scan1_0001.dat\n",
      "Processing SAXS file: /Users/vsomani/Documents/SWAXS_data_reduction_correction_Analysis/larger_test/2D/SAXS/sone_Run11_PS_AcOH_RampT87_ctr27_scan1_0002.raw\n",
      "  I0: 21.127, Bstop: 4.917, Trans_factor: 4.917, Trans_ratio: 0.2327, Normalization: 103.877\n",
      "  Saved to: /Users/vsomani/Documents/SWAXS_data_reduction_correction_Analysis/larger_test/1D/SAXS/Reduction/sone_Run11_PS_AcOH_RampT87_ctr27_scan1_0002.dat\n",
      "Processing SAXS file: /Users/vsomani/Documents/SWAXS_data_reduction_correction_Analysis/larger_test/2D/SAXS/sone_Run11_PS_AcOH_RampT90_ctr28_scan1_0000.raw\n",
      "  I0: 21.174, Bstop: 4.911, Trans_factor: 4.911, Trans_ratio: 0.2319, Normalization: 103.982\n",
      "  Saved to: /Users/vsomani/Documents/SWAXS_data_reduction_correction_Analysis/larger_test/1D/SAXS/Reduction/sone_Run11_PS_AcOH_RampT90_ctr28_scan1_0000.dat\n",
      "Processing SAXS file: /Users/vsomani/Documents/SWAXS_data_reduction_correction_Analysis/larger_test/2D/SAXS/sone_Run11_PS_AcOH_RampT90_ctr28_scan1_0001.raw\n",
      "  I0: 21.070, Bstop: 4.929, Trans_factor: 4.929, Trans_ratio: 0.2339, Normalization: 103.860\n",
      "  Saved to: /Users/vsomani/Documents/SWAXS_data_reduction_correction_Analysis/larger_test/1D/SAXS/Reduction/sone_Run11_PS_AcOH_RampT90_ctr28_scan1_0001.dat\n",
      "Processing SAXS file: /Users/vsomani/Documents/SWAXS_data_reduction_correction_Analysis/larger_test/2D/SAXS/sone_Run11_PS_AcOH_RampT90_ctr28_scan1_0002.raw\n",
      "  I0: 21.339, Bstop: 4.973, Trans_factor: 4.973, Trans_ratio: 0.2330, Normalization: 106.113\n"
     ]
    },
    {
     "name": "stderr",
     "output_type": "stream",
     "text": [
      "WARNING:pyFAI.io:Destination file /Users/vsomani/Documents/SWAXS_data_reduction_correction_Analysis/larger_test/1D/SAXS/Reduction/sone_Run11_PS_AcOH_RampT90_ctr28_scan1_0002.dat exists\n",
      "WARNING:pyFAI.io:Destination file /Users/vsomani/Documents/SWAXS_data_reduction_correction_Analysis/larger_test/1D/SAXS/Reduction/sone_Run11_PS_AcOH_RampT92_ctr29_scan1_0000.dat exists\n",
      "WARNING:pyFAI.io:Destination file /Users/vsomani/Documents/SWAXS_data_reduction_correction_Analysis/larger_test/1D/SAXS/Reduction/sone_Run11_PS_AcOH_RampT92_ctr29_scan1_0001.dat exists\n",
      "WARNING:pyFAI.io:Destination file /Users/vsomani/Documents/SWAXS_data_reduction_correction_Analysis/larger_test/1D/SAXS/Reduction/sone_Run11_PS_AcOH_RampT92_ctr29_scan1_0002.dat exists\n",
      "WARNING:pyFAI.io:Destination file /Users/vsomani/Documents/SWAXS_data_reduction_correction_Analysis/larger_test/1D/SAXS/Reduction/sone_Run11_PS_AcOH_RampT95_ctr30_scan1_0000.dat exists\n",
      "WARNING:pyFAI.io:Destination file /Users/vsomani/Documents/SWAXS_data_reduction_correction_Analysis/larger_test/1D/SAXS/Reduction/sone_Run11_PS_AcOH_RampT95_ctr30_scan1_0001.dat exists\n"
     ]
    },
    {
     "name": "stdout",
     "output_type": "stream",
     "text": [
      "  Saved to: /Users/vsomani/Documents/SWAXS_data_reduction_correction_Analysis/larger_test/1D/SAXS/Reduction/sone_Run11_PS_AcOH_RampT90_ctr28_scan1_0002.dat\n",
      "Processing SAXS file: /Users/vsomani/Documents/SWAXS_data_reduction_correction_Analysis/larger_test/2D/SAXS/sone_Run11_PS_AcOH_RampT92_ctr29_scan1_0000.raw\n",
      "  I0: 21.304, Bstop: 4.974, Trans_factor: 4.974, Trans_ratio: 0.2335, Normalization: 105.965\n",
      "  Saved to: /Users/vsomani/Documents/SWAXS_data_reduction_correction_Analysis/larger_test/1D/SAXS/Reduction/sone_Run11_PS_AcOH_RampT92_ctr29_scan1_0000.dat\n",
      "Processing SAXS file: /Users/vsomani/Documents/SWAXS_data_reduction_correction_Analysis/larger_test/2D/SAXS/sone_Run11_PS_AcOH_RampT92_ctr29_scan1_0001.raw\n",
      "  I0: 21.244, Bstop: 4.968, Trans_factor: 4.968, Trans_ratio: 0.2339, Normalization: 105.545\n",
      "  Saved to: /Users/vsomani/Documents/SWAXS_data_reduction_correction_Analysis/larger_test/1D/SAXS/Reduction/sone_Run11_PS_AcOH_RampT92_ctr29_scan1_0001.dat\n",
      "Processing SAXS file: /Users/vsomani/Documents/SWAXS_data_reduction_correction_Analysis/larger_test/2D/SAXS/sone_Run11_PS_AcOH_RampT92_ctr29_scan1_0002.raw\n",
      "  I0: 21.279, Bstop: 4.966, Trans_factor: 4.966, Trans_ratio: 0.2334, Normalization: 105.674\n",
      "  Saved to: /Users/vsomani/Documents/SWAXS_data_reduction_correction_Analysis/larger_test/1D/SAXS/Reduction/sone_Run11_PS_AcOH_RampT92_ctr29_scan1_0002.dat\n",
      "Processing SAXS file: /Users/vsomani/Documents/SWAXS_data_reduction_correction_Analysis/larger_test/2D/SAXS/sone_Run11_PS_AcOH_RampT95_ctr30_scan1_0000.raw\n",
      "  I0: 21.242, Bstop: 4.977, Trans_factor: 4.977, Trans_ratio: 0.2343, Normalization: 105.728\n",
      "  Saved to: /Users/vsomani/Documents/SWAXS_data_reduction_correction_Analysis/larger_test/1D/SAXS/Reduction/sone_Run11_PS_AcOH_RampT95_ctr30_scan1_0000.dat\n",
      "Processing SAXS file: /Users/vsomani/Documents/SWAXS_data_reduction_correction_Analysis/larger_test/2D/SAXS/sone_Run11_PS_AcOH_RampT95_ctr30_scan1_0001.raw\n",
      "  I0: 21.140, Bstop: 4.953, Trans_factor: 4.953, Trans_ratio: 0.2343, Normalization: 104.713\n",
      "  Saved to: /Users/vsomani/Documents/SWAXS_data_reduction_correction_Analysis/larger_test/1D/SAXS/Reduction/sone_Run11_PS_AcOH_RampT95_ctr30_scan1_0001.dat\n",
      "Processing SAXS file: /Users/vsomani/Documents/SWAXS_data_reduction_correction_Analysis/larger_test/2D/SAXS/sone_Run11_PS_AcOH_RampT95_ctr30_scan1_0002.raw\n",
      "  I0: 21.183, Bstop: 4.961, Trans_factor: 4.961, Trans_ratio: 0.2342, Normalization: 105.082\n"
     ]
    },
    {
     "name": "stderr",
     "output_type": "stream",
     "text": [
      "WARNING:pyFAI.io:Destination file /Users/vsomani/Documents/SWAXS_data_reduction_correction_Analysis/larger_test/1D/SAXS/Reduction/sone_Run11_PS_AcOH_RampT95_ctr30_scan1_0002.dat exists\n",
      "WARNING:pyFAI.io:Destination file /Users/vsomani/Documents/SWAXS_data_reduction_correction_Analysis/larger_test/1D/SAXS/Reduction/sone_Run11_PS_AcOH_RampT97_ctr31_scan1_0000.dat exists\n",
      "WARNING:pyFAI.io:Destination file /Users/vsomani/Documents/SWAXS_data_reduction_correction_Analysis/larger_test/1D/SAXS/Reduction/sone_Run11_PS_AcOH_RampT97_ctr31_scan1_0001.dat exists\n",
      "WARNING:pyFAI.io:Destination file /Users/vsomani/Documents/SWAXS_data_reduction_correction_Analysis/larger_test/1D/SAXS/Reduction/sone_Run11_PS_AcOH_RampT97_ctr31_scan1_0002.dat exists\n",
      "WARNING:pyFAI.io:Destination file /Users/vsomani/Documents/SWAXS_data_reduction_correction_Analysis/larger_test/1D/SAXS/Reduction/sone_Run1_Empty_capi_RampT20_ctr0_scan1_0000.dat exists\n",
      "WARNING:pyFAI.io:Destination file /Users/vsomani/Documents/SWAXS_data_reduction_correction_Analysis/larger_test/1D/SAXS/Reduction/sone_Run1_Empty_capi_RampT20_ctr0_scan1_0001.dat exists\n"
     ]
    },
    {
     "name": "stdout",
     "output_type": "stream",
     "text": [
      "  Saved to: /Users/vsomani/Documents/SWAXS_data_reduction_correction_Analysis/larger_test/1D/SAXS/Reduction/sone_Run11_PS_AcOH_RampT95_ctr30_scan1_0002.dat\n",
      "Processing SAXS file: /Users/vsomani/Documents/SWAXS_data_reduction_correction_Analysis/larger_test/2D/SAXS/sone_Run11_PS_AcOH_RampT97_ctr31_scan1_0000.raw\n",
      "  I0: 21.130, Bstop: 4.957, Trans_factor: 4.957, Trans_ratio: 0.2346, Normalization: 104.737\n",
      "  Saved to: /Users/vsomani/Documents/SWAXS_data_reduction_correction_Analysis/larger_test/1D/SAXS/Reduction/sone_Run11_PS_AcOH_RampT97_ctr31_scan1_0000.dat\n",
      "Processing SAXS file: /Users/vsomani/Documents/SWAXS_data_reduction_correction_Analysis/larger_test/2D/SAXS/sone_Run11_PS_AcOH_RampT97_ctr31_scan1_0001.raw\n",
      "  I0: 21.007, Bstop: 4.941, Trans_factor: 4.941, Trans_ratio: 0.2352, Normalization: 103.798\n",
      "  Saved to: /Users/vsomani/Documents/SWAXS_data_reduction_correction_Analysis/larger_test/1D/SAXS/Reduction/sone_Run11_PS_AcOH_RampT97_ctr31_scan1_0001.dat\n",
      "Processing SAXS file: /Users/vsomani/Documents/SWAXS_data_reduction_correction_Analysis/larger_test/2D/SAXS/sone_Run11_PS_AcOH_RampT97_ctr31_scan1_0002.raw\n",
      "  I0: 21.129, Bstop: 4.954, Trans_factor: 4.954, Trans_ratio: 0.2345, Normalization: 104.683\n",
      "  Saved to: /Users/vsomani/Documents/SWAXS_data_reduction_correction_Analysis/larger_test/1D/SAXS/Reduction/sone_Run11_PS_AcOH_RampT97_ctr31_scan1_0002.dat\n",
      "Processing SAXS file: /Users/vsomani/Documents/SWAXS_data_reduction_correction_Analysis/larger_test/2D/SAXS/sone_Run1_Empty_capi_RampT20_ctr0_scan1_0000.raw\n",
      "  I0: 0.623, Bstop: 0.014, Trans_factor: 0.014, Trans_ratio: 0.0221, Normalization: 0.009\n",
      "  Saved to: /Users/vsomani/Documents/SWAXS_data_reduction_correction_Analysis/larger_test/1D/SAXS/Reduction/sone_Run1_Empty_capi_RampT20_ctr0_scan1_0000.dat\n",
      "Processing SAXS file: /Users/vsomani/Documents/SWAXS_data_reduction_correction_Analysis/larger_test/2D/SAXS/sone_Run1_Empty_capi_RampT20_ctr0_scan1_0001.raw\n",
      "  I0: 20.784, Bstop: 5.781, Trans_factor: 5.781, Trans_ratio: 0.2781, Normalization: 120.149\n",
      "  Saved to: /Users/vsomani/Documents/SWAXS_data_reduction_correction_Analysis/larger_test/1D/SAXS/Reduction/sone_Run1_Empty_capi_RampT20_ctr0_scan1_0001.dat\n",
      "Processing SAXS file: /Users/vsomani/Documents/SWAXS_data_reduction_correction_Analysis/larger_test/2D/SAXS/sone_Run1_Empty_capi_RampT20_ctr0_scan1_0002.raw\n"
     ]
    },
    {
     "name": "stderr",
     "output_type": "stream",
     "text": [
      "WARNING:pyFAI.io:Destination file /Users/vsomani/Documents/SWAXS_data_reduction_correction_Analysis/larger_test/1D/SAXS/Reduction/sone_Run1_Empty_capi_RampT20_ctr0_scan1_0002.dat exists\n",
      "WARNING:pyFAI.io:Destination file /Users/vsomani/Documents/SWAXS_data_reduction_correction_Analysis/larger_test/1D/SAXS/Reduction/sone_Run1_Empty_capi_RampT25_ctr1_scan1_0000.dat exists\n",
      "WARNING:pyFAI.io:Destination file /Users/vsomani/Documents/SWAXS_data_reduction_correction_Analysis/larger_test/1D/SAXS/Reduction/sone_Run1_Empty_capi_RampT25_ctr1_scan1_0001.dat exists\n"
     ]
    },
    {
     "name": "stdout",
     "output_type": "stream",
     "text": [
      "  I0: 20.749, Bstop: 5.782, Trans_factor: 5.782, Trans_ratio: 0.2787, Normalization: 119.979\n",
      "  Saved to: /Users/vsomani/Documents/SWAXS_data_reduction_correction_Analysis/larger_test/1D/SAXS/Reduction/sone_Run1_Empty_capi_RampT20_ctr0_scan1_0002.dat\n",
      "Processing SAXS file: /Users/vsomani/Documents/SWAXS_data_reduction_correction_Analysis/larger_test/2D/SAXS/sone_Run1_Empty_capi_RampT25_ctr1_scan1_0000.raw\n",
      "  I0: 20.756, Bstop: 5.774, Trans_factor: 5.774, Trans_ratio: 0.2782, Normalization: 119.853\n",
      "  Saved to: /Users/vsomani/Documents/SWAXS_data_reduction_correction_Analysis/larger_test/1D/SAXS/Reduction/sone_Run1_Empty_capi_RampT25_ctr1_scan1_0000.dat\n",
      "Processing SAXS file: /Users/vsomani/Documents/SWAXS_data_reduction_correction_Analysis/larger_test/2D/SAXS/sone_Run1_Empty_capi_RampT25_ctr1_scan1_0001.raw\n",
      "  I0: 20.738, Bstop: 5.775, Trans_factor: 5.775, Trans_ratio: 0.2785, Normalization: 119.755\n",
      "  Saved to: /Users/vsomani/Documents/SWAXS_data_reduction_correction_Analysis/larger_test/1D/SAXS/Reduction/sone_Run1_Empty_capi_RampT25_ctr1_scan1_0001.dat\n",
      "Processing SAXS file: /Users/vsomani/Documents/SWAXS_data_reduction_correction_Analysis/larger_test/2D/SAXS/sone_Run1_Empty_capi_RampT25_ctr1_scan1_0002.raw\n",
      "  I0: 20.707, Bstop: 5.768, Trans_factor: 5.768, Trans_ratio: 0.2786, Normalization: 119.446\n"
     ]
    },
    {
     "name": "stderr",
     "output_type": "stream",
     "text": [
      "WARNING:pyFAI.io:Destination file /Users/vsomani/Documents/SWAXS_data_reduction_correction_Analysis/larger_test/1D/SAXS/Reduction/sone_Run1_Empty_capi_RampT25_ctr1_scan1_0002.dat exists\n",
      "WARNING:pyFAI.io:Destination file /Users/vsomani/Documents/SWAXS_data_reduction_correction_Analysis/larger_test/1D/SAXS/Reduction/sone_Run1_Empty_capi_RampT30_ctr2_scan1_0000.dat exists\n",
      "WARNING:pyFAI.io:Destination file /Users/vsomani/Documents/SWAXS_data_reduction_correction_Analysis/larger_test/1D/SAXS/Reduction/sone_Run1_Empty_capi_RampT30_ctr2_scan1_0001.dat exists\n",
      "WARNING:pyFAI.io:Destination file /Users/vsomani/Documents/SWAXS_data_reduction_correction_Analysis/larger_test/1D/SAXS/Reduction/sone_Run1_Empty_capi_RampT30_ctr2_scan1_0002.dat exists\n",
      "WARNING:pyFAI.io:Destination file /Users/vsomani/Documents/SWAXS_data_reduction_correction_Analysis/larger_test/1D/SAXS/Reduction/sone_Run1_Empty_capi_RampT35_ctr3_scan1_0000.dat exists\n"
     ]
    },
    {
     "name": "stdout",
     "output_type": "stream",
     "text": [
      "  Saved to: /Users/vsomani/Documents/SWAXS_data_reduction_correction_Analysis/larger_test/1D/SAXS/Reduction/sone_Run1_Empty_capi_RampT25_ctr1_scan1_0002.dat\n",
      "Processing SAXS file: /Users/vsomani/Documents/SWAXS_data_reduction_correction_Analysis/larger_test/2D/SAXS/sone_Run1_Empty_capi_RampT30_ctr2_scan1_0000.raw\n",
      "  I0: 20.724, Bstop: 5.767, Trans_factor: 5.767, Trans_ratio: 0.2783, Normalization: 119.524\n",
      "  Saved to: /Users/vsomani/Documents/SWAXS_data_reduction_correction_Analysis/larger_test/1D/SAXS/Reduction/sone_Run1_Empty_capi_RampT30_ctr2_scan1_0000.dat\n",
      "Processing SAXS file: /Users/vsomani/Documents/SWAXS_data_reduction_correction_Analysis/larger_test/2D/SAXS/sone_Run1_Empty_capi_RampT30_ctr2_scan1_0001.raw\n",
      "  I0: 20.711, Bstop: 5.765, Trans_factor: 5.765, Trans_ratio: 0.2783, Normalization: 119.399\n",
      "  Saved to: /Users/vsomani/Documents/SWAXS_data_reduction_correction_Analysis/larger_test/1D/SAXS/Reduction/sone_Run1_Empty_capi_RampT30_ctr2_scan1_0001.dat\n",
      "Processing SAXS file: /Users/vsomani/Documents/SWAXS_data_reduction_correction_Analysis/larger_test/2D/SAXS/sone_Run1_Empty_capi_RampT30_ctr2_scan1_0002.raw\n",
      "  I0: 20.756, Bstop: 5.774, Trans_factor: 5.774, Trans_ratio: 0.2782, Normalization: 119.841\n",
      "  Saved to: /Users/vsomani/Documents/SWAXS_data_reduction_correction_Analysis/larger_test/1D/SAXS/Reduction/sone_Run1_Empty_capi_RampT30_ctr2_scan1_0002.dat\n",
      "Processing SAXS file: /Users/vsomani/Documents/SWAXS_data_reduction_correction_Analysis/larger_test/2D/SAXS/sone_Run1_Empty_capi_RampT35_ctr3_scan1_0000.raw\n",
      "  I0: 20.911, Bstop: 5.822, Trans_factor: 5.822, Trans_ratio: 0.2784, Normalization: 121.755\n",
      "  Saved to: /Users/vsomani/Documents/SWAXS_data_reduction_correction_Analysis/larger_test/1D/SAXS/Reduction/sone_Run1_Empty_capi_RampT35_ctr3_scan1_0000.dat\n",
      "Processing SAXS file: /Users/vsomani/Documents/SWAXS_data_reduction_correction_Analysis/larger_test/2D/SAXS/sone_Run1_Empty_capi_RampT35_ctr3_scan1_0001.raw\n",
      "  I0: 20.955, Bstop: 5.824, Trans_factor: 5.824, Trans_ratio: 0.2779, Normalization: 122.049\n"
     ]
    },
    {
     "name": "stderr",
     "output_type": "stream",
     "text": [
      "WARNING:pyFAI.io:Destination file /Users/vsomani/Documents/SWAXS_data_reduction_correction_Analysis/larger_test/1D/SAXS/Reduction/sone_Run1_Empty_capi_RampT35_ctr3_scan1_0001.dat exists\n",
      "WARNING:pyFAI.io:Destination file /Users/vsomani/Documents/SWAXS_data_reduction_correction_Analysis/larger_test/1D/SAXS/Reduction/sone_Run1_Empty_capi_RampT35_ctr3_scan1_0002.dat exists\n",
      "WARNING:pyFAI.io:Destination file /Users/vsomani/Documents/SWAXS_data_reduction_correction_Analysis/larger_test/1D/SAXS/Reduction/sone_Run1_Empty_capi_RampT40_ctr4_scan1_0000.dat exists\n",
      "WARNING:pyFAI.io:Destination file /Users/vsomani/Documents/SWAXS_data_reduction_correction_Analysis/larger_test/1D/SAXS/Reduction/sone_Run1_Empty_capi_RampT40_ctr4_scan1_0001.dat exists\n",
      "WARNING:pyFAI.io:Destination file /Users/vsomani/Documents/SWAXS_data_reduction_correction_Analysis/larger_test/1D/SAXS/Reduction/sone_Run1_Empty_capi_RampT40_ctr4_scan1_0002.dat exists\n",
      "WARNING:pyFAI.io:Destination file /Users/vsomani/Documents/SWAXS_data_reduction_correction_Analysis/larger_test/1D/SAXS/Reduction/sone_Run1_Empty_capi_RampT45_ctr5_scan1_0000.dat exists\n"
     ]
    },
    {
     "name": "stdout",
     "output_type": "stream",
     "text": [
      "  Saved to: /Users/vsomani/Documents/SWAXS_data_reduction_correction_Analysis/larger_test/1D/SAXS/Reduction/sone_Run1_Empty_capi_RampT35_ctr3_scan1_0001.dat\n",
      "Processing SAXS file: /Users/vsomani/Documents/SWAXS_data_reduction_correction_Analysis/larger_test/2D/SAXS/sone_Run1_Empty_capi_RampT35_ctr3_scan1_0002.raw\n",
      "  I0: 20.949, Bstop: 5.825, Trans_factor: 5.825, Trans_ratio: 0.2780, Normalization: 122.020\n",
      "  Saved to: /Users/vsomani/Documents/SWAXS_data_reduction_correction_Analysis/larger_test/1D/SAXS/Reduction/sone_Run1_Empty_capi_RampT35_ctr3_scan1_0002.dat\n",
      "Processing SAXS file: /Users/vsomani/Documents/SWAXS_data_reduction_correction_Analysis/larger_test/2D/SAXS/sone_Run1_Empty_capi_RampT40_ctr4_scan1_0000.raw\n",
      "  I0: 20.916, Bstop: 5.823, Trans_factor: 5.823, Trans_ratio: 0.2784, Normalization: 121.799\n",
      "  Saved to: /Users/vsomani/Documents/SWAXS_data_reduction_correction_Analysis/larger_test/1D/SAXS/Reduction/sone_Run1_Empty_capi_RampT40_ctr4_scan1_0000.dat\n",
      "Processing SAXS file: /Users/vsomani/Documents/SWAXS_data_reduction_correction_Analysis/larger_test/2D/SAXS/sone_Run1_Empty_capi_RampT40_ctr4_scan1_0001.raw\n",
      "  I0: 20.907, Bstop: 5.812, Trans_factor: 5.812, Trans_ratio: 0.2780, Normalization: 121.500\n",
      "  Saved to: /Users/vsomani/Documents/SWAXS_data_reduction_correction_Analysis/larger_test/1D/SAXS/Reduction/sone_Run1_Empty_capi_RampT40_ctr4_scan1_0001.dat\n",
      "Processing SAXS file: /Users/vsomani/Documents/SWAXS_data_reduction_correction_Analysis/larger_test/2D/SAXS/sone_Run1_Empty_capi_RampT40_ctr4_scan1_0002.raw\n",
      "  I0: 20.919, Bstop: 5.813, Trans_factor: 5.813, Trans_ratio: 0.2779, Normalization: 121.600\n",
      "  Saved to: /Users/vsomani/Documents/SWAXS_data_reduction_correction_Analysis/larger_test/1D/SAXS/Reduction/sone_Run1_Empty_capi_RampT40_ctr4_scan1_0002.dat\n",
      "Processing SAXS file: /Users/vsomani/Documents/SWAXS_data_reduction_correction_Analysis/larger_test/2D/SAXS/sone_Run1_Empty_capi_RampT45_ctr5_scan1_0000.raw\n",
      "  I0: 20.897, Bstop: 5.806, Trans_factor: 5.806, Trans_ratio: 0.2778, Normalization: 121.323\n",
      "  Saved to: /Users/vsomani/Documents/SWAXS_data_reduction_correction_Analysis/larger_test/1D/SAXS/Reduction/sone_Run1_Empty_capi_RampT45_ctr5_scan1_0000.dat\n",
      "Processing SAXS file: /Users/vsomani/Documents/SWAXS_data_reduction_correction_Analysis/larger_test/2D/SAXS/sone_Run1_Empty_capi_RampT45_ctr5_scan1_0001.raw\n"
     ]
    },
    {
     "name": "stderr",
     "output_type": "stream",
     "text": [
      "WARNING:pyFAI.io:Destination file /Users/vsomani/Documents/SWAXS_data_reduction_correction_Analysis/larger_test/1D/SAXS/Reduction/sone_Run1_Empty_capi_RampT45_ctr5_scan1_0001.dat exists\n",
      "WARNING:pyFAI.io:Destination file /Users/vsomani/Documents/SWAXS_data_reduction_correction_Analysis/larger_test/1D/SAXS/Reduction/sone_Run1_Empty_capi_RampT45_ctr5_scan1_0002.dat exists\n",
      "WARNING:pyFAI.io:Destination file /Users/vsomani/Documents/SWAXS_data_reduction_correction_Analysis/larger_test/1D/SAXS/Reduction/sone_Run1_Empty_capi_RampT50_ctr6_scan1_0000.dat exists\n",
      "WARNING:pyFAI.io:Destination file /Users/vsomani/Documents/SWAXS_data_reduction_correction_Analysis/larger_test/1D/SAXS/Reduction/sone_Run1_Empty_capi_RampT50_ctr6_scan1_0001.dat exists\n",
      "WARNING:pyFAI.io:Destination file /Users/vsomani/Documents/SWAXS_data_reduction_correction_Analysis/larger_test/1D/SAXS/Reduction/sone_Run1_Empty_capi_RampT50_ctr6_scan1_0002.dat exists\n"
     ]
    },
    {
     "name": "stdout",
     "output_type": "stream",
     "text": [
      "  I0: 20.861, Bstop: 5.803, Trans_factor: 5.803, Trans_ratio: 0.2782, Normalization: 121.058\n",
      "  Saved to: /Users/vsomani/Documents/SWAXS_data_reduction_correction_Analysis/larger_test/1D/SAXS/Reduction/sone_Run1_Empty_capi_RampT45_ctr5_scan1_0001.dat\n",
      "Processing SAXS file: /Users/vsomani/Documents/SWAXS_data_reduction_correction_Analysis/larger_test/2D/SAXS/sone_Run1_Empty_capi_RampT45_ctr5_scan1_0002.raw\n",
      "  I0: 20.830, Bstop: 5.802, Trans_factor: 5.802, Trans_ratio: 0.2785, Normalization: 120.853\n",
      "  Saved to: /Users/vsomani/Documents/SWAXS_data_reduction_correction_Analysis/larger_test/1D/SAXS/Reduction/sone_Run1_Empty_capi_RampT45_ctr5_scan1_0002.dat\n",
      "Processing SAXS file: /Users/vsomani/Documents/SWAXS_data_reduction_correction_Analysis/larger_test/2D/SAXS/sone_Run1_Empty_capi_RampT50_ctr6_scan1_0000.raw\n",
      "  I0: 20.772, Bstop: 5.796, Trans_factor: 5.796, Trans_ratio: 0.2790, Normalization: 120.390\n",
      "  Saved to: /Users/vsomani/Documents/SWAXS_data_reduction_correction_Analysis/larger_test/1D/SAXS/Reduction/sone_Run1_Empty_capi_RampT50_ctr6_scan1_0000.dat\n",
      "Processing SAXS file: /Users/vsomani/Documents/SWAXS_data_reduction_correction_Analysis/larger_test/2D/SAXS/sone_Run1_Empty_capi_RampT50_ctr6_scan1_0001.raw\n",
      "  I0: 20.816, Bstop: 5.790, Trans_factor: 5.790, Trans_ratio: 0.2781, Normalization: 120.514\n",
      "  Saved to: /Users/vsomani/Documents/SWAXS_data_reduction_correction_Analysis/larger_test/1D/SAXS/Reduction/sone_Run1_Empty_capi_RampT50_ctr6_scan1_0001.dat\n",
      "Processing SAXS file: /Users/vsomani/Documents/SWAXS_data_reduction_correction_Analysis/larger_test/2D/SAXS/sone_Run1_Empty_capi_RampT50_ctr6_scan1_0002.raw\n",
      "  I0: 20.819, Bstop: 5.781, Trans_factor: 5.781, Trans_ratio: 0.2777, Normalization: 120.361\n",
      "  Saved to: /Users/vsomani/Documents/SWAXS_data_reduction_correction_Analysis/larger_test/1D/SAXS/Reduction/sone_Run1_Empty_capi_RampT50_ctr6_scan1_0002.dat\n",
      "\n",
      "Processing WAXS files...\n",
      "Processing WAXS file: /Users/vsomani/Documents/SWAXS_data_reduction_correction_Analysis/larger_test/2D/WAXS/b_tassone_Hor_scan_Run10_RampT20_ctr0_scan1_0000.raw\n"
     ]
    },
    {
     "ename": "FileNotFoundError",
     "evalue": "Empty WAXS File: Run10_RampT20_ctr0_scan1_0000 and no \n                        corresponding SAXS found in directory /Users/vsomani/Documents/SWAXS_data_reduction_correction_Analysis/larger_test/2D/SAXS",
     "output_type": "error",
     "traceback": [
      "\u001b[0;31m---------------------------------------------------------------------------\u001b[0m",
      "\u001b[0;31mFileNotFoundError\u001b[0m                         Traceback (most recent call last)",
      "Cell \u001b[0;32mIn[22], line 2\u001b[0m\n\u001b[1;32m      1\u001b[0m \u001b[38;5;66;03m# Get plotting data from the correction pipeline\u001b[39;00m\n\u001b[0;32m----> 2\u001b[0m plotting_data \u001b[38;5;241m=\u001b[39m \u001b[43mfull_correction_integration\u001b[49m\u001b[43m(\u001b[49m\u001b[43mplotting\u001b[49m\u001b[38;5;241;43m=\u001b[39;49m\u001b[38;5;28;43;01mTrue\u001b[39;49;00m\u001b[43m)\u001b[49m\n\u001b[1;32m      4\u001b[0m \u001b[38;5;28mprint\u001b[39m(\u001b[38;5;124mf\u001b[39m\u001b[38;5;124m\"\u001b[39m\u001b[38;5;124mCollected data for plotting:\u001b[39m\u001b[38;5;124m\"\u001b[39m)\n\u001b[1;32m      5\u001b[0m \u001b[38;5;28mprint\u001b[39m(\u001b[38;5;124mf\u001b[39m\u001b[38;5;124m\"\u001b[39m\u001b[38;5;124m  SAXS files: \u001b[39m\u001b[38;5;132;01m{\u001b[39;00m\u001b[38;5;28mlen\u001b[39m(plotting_data[\u001b[38;5;124m'\u001b[39m\u001b[38;5;124msaxs_data\u001b[39m\u001b[38;5;124m'\u001b[39m])\u001b[38;5;132;01m}\u001b[39;00m\u001b[38;5;124m\"\u001b[39m)\n",
      "File \u001b[0;32m~/Documents/SWAXS_data_reduction_correction_Analysis/correction_integration_demo.py:657\u001b[0m, in \u001b[0;36mfull_correction_integration\u001b[0;34m(plotting)\u001b[0m\n\u001b[1;32m    655\u001b[0m     \u001b[38;5;28;01mreturn\u001b[39;00m plotting_data\n\u001b[1;32m    656\u001b[0m \u001b[38;5;28;01melse\u001b[39;00m:\n\u001b[0;32m--> 657\u001b[0m     \u001b[38;5;28;01mreturn\u001b[39;00m \u001b[38;5;28;01mNone\u001b[39;00m\n",
      "File \u001b[0;32m~/Documents/SWAXS_data_reduction_correction_Analysis/correction_integration_demo.py:525\u001b[0m, in \u001b[0;36mprocess_waxs_file\u001b[0;34m(self, raw_file_path)\u001b[0m\n\u001b[1;32m    522\u001b[0m     \u001b[38;5;28mself\u001b[39m\u001b[38;5;241m.\u001b[39m_waxs_logged \u001b[38;5;241m=\u001b[39m \u001b[38;5;28;01mTrue\u001b[39;00m\n\u001b[1;32m    524\u001b[0m \u001b[38;5;66;03m# Create output directory and filename\u001b[39;00m\n\u001b[0;32m--> 525\u001b[0m output_dir \u001b[38;5;241m=\u001b[39m \u001b[38;5;28mself\u001b[39m\u001b[38;5;241m.\u001b[39mcreate_output_directory(raw_file_path, \u001b[38;5;124m'\u001b[39m\u001b[38;5;124mWAXS\u001b[39m\u001b[38;5;124m'\u001b[39m)\n\u001b[1;32m    526\u001b[0m output_filename \u001b[38;5;241m=\u001b[39m os\u001b[38;5;241m.\u001b[39mpath\u001b[38;5;241m.\u001b[39mbasename(raw_file_path)\u001b[38;5;241m.\u001b[39mreplace(\u001b[38;5;124m'\u001b[39m\u001b[38;5;124m.raw\u001b[39m\u001b[38;5;124m'\u001b[39m, \u001b[38;5;124m'\u001b[39m\u001b[38;5;124m.dat\u001b[39m\u001b[38;5;124m'\u001b[39m)\n\u001b[1;32m    527\u001b[0m output_path \u001b[38;5;241m=\u001b[39m os\u001b[38;5;241m.\u001b[39mpath\u001b[38;5;241m.\u001b[39mjoin(output_dir, output_filename)\n",
      "File \u001b[0;32m~/Documents/SWAXS_data_reduction_correction_Analysis/correction_integration_demo.py:358\u001b[0m, in \u001b[0;36mget_corrections_full\u001b[0;34m(self, raw_file_path, detector_type)\u001b[0m\n\u001b[1;32m    355\u001b[0m     metadata_function = getattr(utils, self.read_metadata_function)\n\u001b[1;32m    356\u001b[0m     i0, bstop, csv_path = metadata_function(raw_file_path, detector_type)\n\u001b[1;32m    357\u001b[0m else:\n\u001b[0;32m--> 358\u001b[0m     # Using current PDI metadata processing\n\u001b[1;32m    359\u001b[0m     i0, bstop, csv_path = self.process_pdi_full(raw_file_path, detector_type)\n\u001b[1;32m    361\u001b[0m # Log metadata processing for first runs only\n",
      "File \u001b[0;32m~/Documents/SWAXS_data_reduction_correction_Analysis/correction_integration_demo.py:311\u001b[0m, in \u001b[0;36mExperiment.process_pdi_full\u001b[0;34m(self, raw_file_path, detector_type)\u001b[0m\n\u001b[1;32m    308\u001b[0m if (detector_type.upper() != \"SAXS\") and (detector_type.upper() != \"WAXS\"):\n\u001b[1;32m    309\u001b[0m     raise RuntimeError(\"Detector Type must be either SAXS or WAXS\")\n\u001b[1;32m    310\u001b[0m if ('All Counters' not in data) and (detector_type.upper() == \"WAXS\"):\n\u001b[0;32m--> 311\u001b[0m     # Empty PDI file found in WAXS -- check SAXS to see if corresponding file exists\n\u001b[1;32m    312\u001b[0m     pdi_file_path = self.get_saxs_pdi_from_waxs(pdi_file_path)\n\u001b[1;32m    313\u001b[0m counters, motors, extras = self.get_meta_from_pdi(pdi_file_path)\n",
      "File \u001b[0;32m~/Documents/SWAXS_data_reduction_correction_Analysis/correction_integration_demo.py:297\u001b[0m, in \u001b[0;36mExperiment.get_saxs_pdi_from_waxs\u001b[0;34m(self, pdi_path)\u001b[0m\n\u001b[1;32m    295\u001b[0m         \u001b[38;5;28;01mreturn\u001b[39;00m \u001b[38;5;28mstr\u001b[39m(pdi_file)\n\u001b[1;32m    296\u001b[0m \u001b[38;5;66;03m# No file found\u001b[39;00m\n\u001b[0;32m--> 297\u001b[0m \u001b[38;5;28;01mraise\u001b[39;00m \u001b[38;5;167;01mFileNotFoundError\u001b[39;00m(\u001b[38;5;124mf\u001b[39m\u001b[38;5;124m\"\"\"\u001b[39m\u001b[38;5;124mEmpty WAXS File: \u001b[39m\u001b[38;5;132;01m{\u001b[39;00mshared_expression\u001b[38;5;132;01m}\u001b[39;00m\u001b[38;5;124m and no \u001b[39m\n\u001b[1;32m    298\u001b[0m \u001b[38;5;124m                corresponding SAXS found in directory \u001b[39m\u001b[38;5;132;01m{\u001b[39;00msearch_directory\u001b[38;5;132;01m}\u001b[39;00m\u001b[38;5;124m\"\"\"\u001b[39m)\n",
      "\u001b[0;31mFileNotFoundError\u001b[0m: Empty WAXS File: Run10_RampT20_ctr0_scan1_0000 and no \n                        corresponding SAXS found in directory /Users/vsomani/Documents/SWAXS_data_reduction_correction_Analysis/larger_test/2D/SAXS"
     ]
    }
   ],
   "source": [
    "# Get plotting data from the correction pipeline\n",
    "plotting_data = full_correction_integration(plotting=True)\n",
    "\n",
    "print(f\"Collected data for plotting:\")\n",
    "print(f\"  SAXS files: {len(plotting_data['saxs_data'])}\")\n",
    "print(f\"  WAXS files: {len(plotting_data['waxs_data'])}\")\n",
    "print(f\"  Metadata entries: {len(plotting_data['metadata']['filenames'])}\")"
   ]
  },
  {
   "cell_type": "code",
   "execution_count": null,
   "id": "a1jczmn9fpj",
   "metadata": {},
   "outputs": [
    {
     "data": {
      "image/png": "[encoded data removed]",
      "text/plain": [
       "<Figure size 800x800 with 1 Axes>"
      ]
     },
     "metadata": {},
     "output_type": "display_data"
    }
   ],
   "source": [
    "# Create SAXS intensity plot (similar to Step1 notebook)\n",
    "if plotting_data['saxs_data']:\n",
    "    fig, axs = plt.subplots(figsize=(8,8))\n",
    "    \n",
    "    num_colors = len(plotting_data['saxs_data'])\n",
    "    darker_colors = darken_colors(num_colors, darker_factor=0.7)\n",
    "    \n",
    "    for i, saxs_data in enumerate(plotting_data['saxs_data']):\n",
    "        q = saxs_data['q']\n",
    "        intensity = saxs_data['intensity'] \n",
    "        filename = saxs_data['filename']\n",
    "        \n",
    "        axs.loglog(q, intensity, label=filename, color=darker_colors[i])\n",
    "    \n",
    "    axs.set_xlabel(\"q (nm$^{-1}$)\")\n",
    "    axs.set_ylabel(\"Intensity (a.u.)\")\n",
    "    axs.set_xlim([0.05, 3])\n",
    "    set_plot_style(axs, 20, 'q (nm$^{-1}$)', 'Intensity (a.u.)')\n",
    "    axs.legend(fontsize=10)\n",
    "    \n",
    "    plt.tight_layout()\n",
    "    plt.show()\n",
    "else:\n",
    "    print(\"No SAXS data available for plotting\")"
   ]
  },
  {
   "cell_type": "code",
   "execution_count": 14,
   "id": "3yq766mflxk",
   "metadata": {},
   "outputs": [
    {
     "data": {
      "image/png": "[encoded data removed]",
      "text/plain": [
       "<Figure size 1200x1200 with 1 Axes>"
      ]
     },
     "metadata": {},
     "output_type": "display_data"
    }
   ],
   "source": [
    "# Create WAXS intensity plot (similar to Step1 notebook)\n",
    "if plotting_data['waxs_data']:\n",
    "    fig, axs = plt.subplots(figsize=(12,12))\n",
    "    \n",
    "    num_colors = len(plotting_data['waxs_data'])\n",
    "    darker_colors = darken_colors(num_colors, darker_factor=0.7)\n",
    "    \n",
    "    for i, waxs_data in enumerate(plotting_data['waxs_data']):\n",
    "        q = waxs_data['q']\n",
    "        intensity = waxs_data['intensity']\n",
    "        filename = waxs_data['filename']\n",
    "        \n",
    "        axs.plot(q, intensity, '-', label=filename, color=darker_colors[i])\n",
    "    \n",
    "    axs.set_xlabel(\"q (nm$^{-1}$)\")\n",
    "    axs.set_ylabel(\"Intensity (a.u.)\")\n",
    "    set_plot_style(axs, 20, 'q (nm$^{-1}$)', 'Intensity (a.u.)')\n",
    "    axs.legend(fontsize=10)\n",
    "    \n",
    "    plt.tight_layout()\n",
    "    plt.show()\n",
    "else:\n",
    "    print(\"No WAXS data available for plotting\")"
   ]
  },
  {
   "cell_type": "code",
   "execution_count": 16,
   "id": "uffib5hlpfo",
   "metadata": {},
   "outputs": [
    {
     "data": {
      "image/png": "[encoded data removed]",
      "text/plain": [
       "<Figure size 1000x400 with 2 Axes>"
      ]
     },
     "metadata": {},
     "output_type": "display_data"
    }
   ],
   "source": [
    "# Create monitoring plots (I0/Bstop vs time, Temperature vs time)\n",
    "if plotting_data['metadata']['i0_values']:\n",
    "    metadata = plotting_data['metadata']\n",
    "    \n",
    "    # For now, create simple sequential plots (would need actual timer data for time axis)\n",
    "    # This matches the monitoring plots from Step1 notebook\n",
    "    sequence = list(range(len(metadata['i0_values'])))\n",
    "    \n",
    "    fig, (axs1, axs2) = plt.subplots(1, 2, figsize=(10, 4))\n",
    "    \n",
    "    # Plot I0 and Bstop values\n",
    "    axs1.plot(sequence, metadata['bstop_values'], 'o', color='b', label='bstop')\n",
    "    axs1.plot(sequence, metadata['i0_values'], 'o', color='r', label='I0')\n",
    "    axs1.legend()\n",
    "    axs1.set_xlabel('File Sequence')\n",
    "    axs1.set_ylabel('Bstop and I0')\n",
    "    set_plot_style(axs1, 20, 'File Sequence', 'Bstop, I0')\n",
    "    \n",
    "    # Temperature plot (if temperature data was available)\n",
    "    # For now just show file sequence\n",
    "    axs2.plot(sequence, sequence, 'o', color='g', label='File Index')\n",
    "    axs2.legend()\n",
    "    axs2.set_xlabel('File Sequence')\n",
    "    axs2.set_ylabel('File Index')\n",
    "    set_plot_style(axs2, 20, 'File Sequence', 'File Index')\n",
    "    \n",
    "    plt.tight_layout()\n",
    "    plt.show()\n",
    "else:\n",
    "    print(\"No metadata available for monitoring plots\")"
   ]
  },
  {
   "cell_type": "code",
   "execution_count": null,
   "id": "b0c3dabb",
   "metadata": {},
   "outputs": [],
   "source": []
  }
 ],
 "metadata": {
  "kernelspec": {
   "display_name": "swaxs-data-reduction-correction-analysis",
   "language": "python",
   "name": "python3"
  },
  "language_info": {
   "codemirror_mode": {
    "name": "ipython",
    "version": 3
   },
   "file_extension": ".py",
   "mimetype": "text/x-python",
   "name": "python",
   "nbconvert_exporter": "python",
   "pygments_lexer": "ipython3",
   "version": "3.10.18"
  }
 },
 "nbformat": 4,
 "nbformat_minor": 5
}
